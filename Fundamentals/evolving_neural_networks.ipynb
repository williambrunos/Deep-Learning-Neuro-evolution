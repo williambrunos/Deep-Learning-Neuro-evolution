{
  "cells": [
    {
      "cell_type": "markdown",
      "metadata": {
        "id": "view-in-github",
        "colab_type": "text"
      },
      "source": [
        "<a href=\"https://colab.research.google.com/github/williambrunos/Deep-Learning-Neuro-evolution/blob/main/Fundamentals/evolving_neural_networks.ipynb\" target=\"_parent\"><img src=\"https://colab.research.google.com/assets/colab-badge.svg\" alt=\"Open In Colab\"/></a>"
      ]
    },
    {
      "cell_type": "markdown",
      "metadata": {
        "id": "DGLnYUqM3NJn"
      },
      "source": [
        "# Evolving Neural Networks\n",
        "\n",
        "## Abstract\n",
        "\n",
        "Evlutionary algorithms are way used to perform topologies, weights, biases and neurons evolutions across neural networks. Sometimes, it's way more pragmatic than other ML algorithms and have to be set to some specific problem.\n",
        "\n",
        "## Algorithm\n",
        "\n",
        "Evolutionary algorithms are based on the premisse of **natural selection**, based on the following steps:\n",
        "\n",
        "- The algorithm starts a population with a certain number of individuals/genomes, with their genotypes or carachteristics being initiated randomly.\n",
        "- The organisms are evaluated based on a **fitness function** or **fitness score**.\n",
        "- The best individuals prom the population are choiced to be parents, performing **asexual reprodution** if the offspring has the same genotype as the parents, or **sexual reprodution** if the offspring has the genotype being a combination of the genotypes of the parents.\n",
        "- Mutate the offspring.\n",
        "- Take back to step two and iterates over these steps until some condition is met, being a maximun number of steps, a threshold of the fitness score etc.\n",
        "\n",
        "## Step 1: The Algorithm\n",
        "\n",
        "We'll be using dense (fully-connected) feed-foward neural networks, like in figure 1:\n",
        "\n",
        "![NN image](https://miro.medium.com/max/700/1*Thii4-1bSrJ1yXwDyW3sjw.png\n",
        ")\n",
        "\n",
        "<center>Dense NN with dimensions [1, 12, 12, 12, 1]</center>\n",
        "\n",
        "In designing our organisms, we have four guiding principles:\n",
        "\n",
        "- We must have control over the input and output dimensions of the organisms. Fundamentally, we are trying to evolve some function f that maps ℝᵃ ⟶ ℝᵇ, so a and b should be built into the organism. We accomplish this by parameterizing the input and output dimensions.\n",
        "- We must have control over the output activation function. The output of the organisms should be appropriate for the problem at hand. We accomplish this by parameterizing the output activation.\n",
        "- We must have control over the complexity of the organisms. The ideal organism should be just complex enough to evolve the target function and no more. We accomplish this by parameterizing the number of hidden layers and their dimensions. In a more advanced algorithm, this could be achieved by letting the organism evolve its own architecture and penalizing complexity with the fitness function.\n",
        "- Organisms must be compatible for sexual reproduction. Fortunately, the above principles ensure that this will be the case. All organisms will have the same architecture, so “exchanging genetic material” here means offspring will get some layer weights from momma and some from poppa."
      ]
    },
    {
      "cell_type": "markdown",
      "source": [
        "## Refferences\n",
        "\n",
        "[Mediun article - Evolving Neural Networks](https://towardsdatascience.com/evolving-neural-networks-b24517bb3701)"
      ],
      "metadata": {
        "id": "CakEXWZX3t7w"
      }
    }
  ],
  "metadata": {
    "language_info": {
      "name": "python"
    },
    "orig_nbformat": 4,
    "colab": {
      "name": "evolving_neural_networks.ipynb",
      "provenance": [],
      "include_colab_link": true
    },
    "kernelspec": {
      "name": "python3",
      "display_name": "Python 3"
    }
  },
  "nbformat": 4,
  "nbformat_minor": 0
}