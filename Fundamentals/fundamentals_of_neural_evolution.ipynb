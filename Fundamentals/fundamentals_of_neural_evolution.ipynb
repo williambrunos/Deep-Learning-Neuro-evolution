{
  "cells": [
    {
      "cell_type": "markdown",
      "metadata": {
        "id": "view-in-github",
        "colab_type": "text"
      },
      "source": [
        "<a href=\"https://colab.research.google.com/github/williambrunos/Deep-Learning-Neuro-evolution/blob/main/Fundamentals/fundamentals_of_neural_evolution.ipynb\" target=\"_parent\"><img src=\"https://colab.research.google.com/assets/colab-badge.svg\" alt=\"Open In Colab\"/></a>"
      ]
    },
    {
      "cell_type": "markdown",
      "metadata": {
        "id": "6R2QxR7rmtgl"
      },
      "source": [
        "# Neuro Evolution of Deep Learning Architecture Fundamentals\n",
        "\n",
        "![Neuroevolution image](https://miro.medium.com/max/770/1*Uowkdl_riYAj4ZGtV0EZ1Q.png)\n",
        "\n",
        "## Abstract\n",
        "\n",
        "Neuroevolution is a machine learning technique that improves Artificial Neural Networks (ANN), providing better topologies, hyperparameters, weights of features and so on by the means evolutionary algortihms. As well as the nature evolutes the faculty of brain, doing crossing-over, mutating and removing underlaying genes from the DNA, evolutionary algorithms combine architectures of ANN's, most importance features, discover the best weights for them and eliminate underlying ANN's topologies. What's important to consider when designing a neuro evolution algorithm? What tools does it has that ables comunity to develop such things?"
      ]
    },
    {
      "cell_type": "markdown",
      "source": [
        "## Neuroevolution\n",
        "\n",
        "Neuroevolution is a **machine learning technique** that generates increasingly better neural networks that performs and solves some problem, using on a population-based method that continously increases the quality of each neural network. \n",
        "\n",
        "Each neual network on a population is called a **genome**, which is a simplified way for representing a individual on the population that needs to be improved. First, the algorithm starts the genomes randomly, and continuously improves them based on a **scoring funcition** or **fitness function**.\n",
        "\n",
        "Once the initial population has been set, the algorithm starts the loop, mutating, recombining, evaluating and naturally selecting the genomes. This endlees loop of inserting something news on the genome, evaluating and storing the result is done until the genome performs well for the initial problem set to be solved.\n",
        "\n",
        "![Neuroevolution process](https://miro.medium.com/max/770/1*Qwd5EEyzImmetSqc5VViBg.png)"
      ],
      "metadata": {
        "id": "ZHPh1rVkr3RS"
      }
    },
    {
      "cell_type": "markdown",
      "source": [
        "Neuroevolution is a agnostic process, wich tends to perform a deep search on the **search space**, not suposing what hyperparameters or topologies will perform better for the problem. Instead of it, it will loop trought a deep search space (architecture, weights, features etc) for **improving the model fitness** iteratively. While the agnostic nature of the neuroevolution process allows for a very broad search space can it be sensible to limit granularity of the search space in order to traverse it faster. The faculty that maps genomes to their according neural networks is responsible for the granularity of the search space by limiting the complexity of the genome’s encoding. This faculty is therefore called the **genetic encoding**.\n",
        "\n",
        "## The Genetic Encoding\n",
        "\n",
        "To allow the neuroevolution algorithm to loop over the process in a better and efficient way, there's the need to spend some time designing how the informations about the ANN's will be represented for the algorithm, instead of using complex data structures. Those efficient genome data structures representations are called **genotypes**, and the ANN topologie represented by this genotype is called its **phenotype**.\n",
        "\n",
        "![genotype-phenotype](https://miro.medium.com/max/770/1*qF7NtkgbmvkHxFDjg2KQUw.png)\n",
        "\n",
        "The genetic encodings can be: direct encodings and indirect encodings.\n",
        "\n",
        "### Direct Encodings\n",
        "\n",
        "On direct encodings, each element from the ANN has all the parameters like weight and links well suited, excluding the use of bias and activation functions. Those are simple, well suited and used on feed-forward ANN's.\n",
        "\n",
        "### Indirect Encodings\n",
        "\n",
        "On indirect encodings systems, each element is a binary combination, with each subset of bits representing certain information about each element of the ANN.On this approach, the search space is enormous, but allow the designer to do some good degree of flexibility to the network.\n",
        "\n",
        "![Indirect Encoding](https://miro.medium.com/max/770/1*oTcJHhcRv6Sf8hlw5xk3dQ.png)"
      ],
      "metadata": {
        "id": "H37Cy4gQv_i9"
      }
    },
    {
      "cell_type": "markdown",
      "source": [
        "## The Method of Reproduction and Solution Exploration\n",
        "\n",
        "These methods tells how the algorithm will traves over the search-space intending to discover the best genotype for the ANN. This method is the process of reproduction, which combine the best well-fited genome parents from the population, letting the best genomes informations to continue over the iterations and populations. Thus, the algorithm is going to find even better ANN's based on the combining of the genotypes of the best fitted genomes, spreading it to the rest of the population.\n",
        "\n",
        "Mutations allows the neuroevolution algorithms to not fall on local minimun/maximun (depending on the fitness function), increasing the genetic variability of the populations.Defining mutation for a neuroevolution algorithm is therefore defining three aspects within the possible range that the genetic encoding allows for. First, what part of the genetic encoding will be mutated? It could be the topology, weights, hyperparameters or in above’s example of an indirect encoding a random selection of bits. Furthermore, to what extent will the chosen part of the genome be mutated? A neuroevolution algorithm could for example employ extensive mutations for low-fitness genomes and minuscule mutations for high-performing genomes — effectively expressing the approach to drastically change the design of the ANN if it’s not working or working out the details of an ANN if it is working well. The last thing to be defined for mutation is if it is somehow directional or random. The mutation of weights is often performed randomly in environments that lack clear ground truth, though is kept at bay by, for example, obtaining the new random value from a normal distribution centered around the current value. Directed mutation however is also possible if the neuroevolution algorithm is able to map a lack of performance in the problem environment to a deficit in the design or parameters of the neural network.\n",
        "\n",
        "![crossover](https://miro.medium.com/max/271/1*djHgXSvkUJvYVFarXYJAIA.png)"
      ],
      "metadata": {
        "id": "5MhRZXiM2wpz"
      }
    },
    {
      "cell_type": "markdown",
      "source": [
        "Recombination on the other hand does not mutate genomes, but still creates novelty by combining two parent-genomes and their distinctive features into an innovative offspring-genome. However, this method has a certain problem: imagine that at this moment, the population has the best set of genomes until now, and them they are recombined/mutated. However, the new population has genomes with a worst fitness score, this is horrible right? In the most actual neuroevolution algorithms, such as NEAT, some kind of historical marking are provided, avoiding lossless for recombinations and mutations.\n",
        "\n",
        "## The Method of Evaluation\n",
        "\n",
        "This method consists in mapping the genome according to its genotypes to a ANN topologie, evaluating the neural network according to the problem set and returning some kind of score to it. It's possible sometimes that the neural network executes some weight trainning before running the fitness function itself. The fitness function evaluation method has to be built and designed always depending on the problem set, a case-to-case scenario.\n",
        "\n",
        "Novelty Search is also an important concept to consider when determining the fitness calculation, as this concept rewards genomes with novel approaches to the problem with higher fitness values. An agent in a video game environment would for example receive a fitness boost if he entered an unknown area though has overall achieved less points. This facilitates innovation in the gene pool and therefore an overall broader and more promising evolutionary process. Novelty Search was introduced in 2010 in the paper ‘Evolving Plastic Neural Networks with Novelty Search’ [7].\n",
        "\n",
        "## Natural and Parental Selection\n",
        "\n",
        "While the method of reproduction defines the way in which the search space is explored, is the choice of which genomes will serve as the parents for offspring and which genomes will be removed from the gene-pool another very important aspect of a neuroevolution scheme. The method through which genomes are chosen to be parents for offspring is also heavily dependent on the kind of neuroevolution algorithm that is used.\n",
        "\n",
        "In generational neuroevolution choosing the genomes suitable as parents for the next generation usually comes down to choosing a stipulated fraction of the best performing genomes in the current generation. This fraction is often supplied as a one of the many parameters that can still configure a predefined neuroevolution algorithm. The fraction of genomes chosen to be parents does not have to be complementary with the fraction of genomes chosen to be removed from the gene pool, as genomes can be promising enough to warrant potential for innovative mutation, though may be removed themselves in the following generation.\n",
        "\n",
        "Speciation is a tool of generational neuroevolution that clusters the individuals of the population according to apparent features like topological similarities in the phenotype or more covert features like reaching certain states in the applied problem environment. The resulting clusters are then considered species and ideally — depending on how well the method of speciation is chosen — represent genuinely distinct approaches to the problem at hand. This allows the reproductive process to guide the evolution by allocating more offspring to species with a higher average fitness and therefore favor the development of distinct and promising offspring.\n",
        "\n",
        "On the other hand, in a competitive coevolution scheme are genomes usually randomly paired and compared, with the fitter or more innovative one being chosen as parent and the other one being removed from the gene-pool."
      ],
      "metadata": {
        "id": "OGuuV_T951TL"
      }
    },
    {
      "cell_type": "markdown",
      "source": [
        "## References\n",
        "\n",
        "[Medium article - A Primer on the Fundamental Concepts of Neuroevolution](https://towardsdatascience.com/a-primer-on-the-fundamental-concepts-of-neuroevolution-9068f532f7f7)\n",
        "\n",
        "[Tensor-flow open-source neuroevolution framework](https://github.com/PaulPauls/Tensorflow-Neuroevolution)"
      ],
      "metadata": {
        "id": "yK5lXODLoFd2"
      }
    }
  ],
  "metadata": {
    "language_info": {
      "name": "python"
    },
    "orig_nbformat": 4,
    "colab": {
      "name": "fundamentals_of_neural_evolution.ipynb",
      "provenance": [],
      "include_colab_link": true
    }
  },
  "nbformat": 4,
  "nbformat_minor": 0
}