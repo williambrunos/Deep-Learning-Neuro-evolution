{
  "cells": [
    {
      "cell_type": "markdown",
      "metadata": {
        "id": "view-in-github",
        "colab_type": "text"
      },
      "source": [
        "<a href=\"https://colab.research.google.com/github/williambrunos/Deep-Learning-Neuro-evolution/blob/main/GA_Implementation/GA_Implementation.ipynb\" target=\"_parent\"><img src=\"https://colab.research.google.com/assets/colab-badge.svg\" alt=\"Open In Colab\"/></a>"
      ]
    },
    {
      "cell_type": "markdown",
      "metadata": {
        "id": "D4zAOEssmVe5"
      },
      "source": [
        "# First Implementations with tensorflow\n",
        "\n",
        "**NOTE:**\n",
        "\n",
        "At the end of the notebook, there's a class that you can implement and get use of the genetic algorithm (GA)\n",
        "\n",
        "## Abstract\n",
        "\n",
        "This notebook tries to implement some neural netowork used to solve some problem and tries to evolve the weights of it using neural evolution, implemented with [tensorflow](https://www.tensorflow.org/probability/api_docs/python/tfp/optimizer/differential_evolution_minimize)\n",
        "\n",
        "````Python\n",
        "tfp.optimizer.differential_evolution_minimize(\n",
        "    objective_function,\n",
        "    initial_population=None,\n",
        "    initial_position=None,\n",
        "    population_size=50,\n",
        "    population_stddev=1.0,\n",
        "    max_iterations=100,\n",
        "    func_tolerance=0,\n",
        "    position_tolerance=1e-08,\n",
        "    differential_weight=0.5,\n",
        "    crossover_prob=0.9,\n",
        "    seed=None,\n",
        "    name=None\n",
        ")\n",
        "````\n",
        "\n",
        "**obs**: if you read the documentation of this function, you'll see that the evolutionary algorithm will try to minimize the objective function, rather than maximize it. Because of this, it's important to implement a objective function with the negative value of the mathmatical expression.\n",
        "\n",
        "\"A candidate s_1 is considered better than s_2 if f(s_1) < f(s_2).\" - The function documentation"
      ]
    },
    {
      "cell_type": "markdown",
      "source": [
        "We can use as a base example:\n",
        "\n",
        "````Python\n",
        "population_size = 40\n",
        "  # With an initial population and a multi-part state.\n",
        "  initial_population = (tf.random.normal([population_size]),\n",
        "                        tf.random.normal([population_size]))\n",
        "  def easom_fn(x, y):\n",
        "    return -(tf.math.cos(x) * tf.math.cos(y) *\n",
        "             tf.math.exp(-(x-np.pi)**2 - (y-np.pi)**2))\n",
        "\n",
        "  optim_results = tfp.optimizer.differential_evolution_minimize(\n",
        "      easom_fn,\n",
        "      initial_population=initial_population,\n",
        "      seed=43210)\n",
        "\n",
        "  print(optim_results.converged)\n",
        "  print(optim_results.position)  # Should be (close to) [pi, pi].\n",
        "  print(optim_results.objective_value)    # Should be -1.\n",
        "\n",
        "\n",
        "  # With a single starting point\n",
        "  initial_position = (tf.constant(1.0), tf.constant(1.0))\n",
        "\n",
        "  optim_results = tfp.optimizer.differential_evolution_minimize(\n",
        "      easom_fn,\n",
        "      initial_position=initial_position,\n",
        "      population_size=40,\n",
        "      population_stddev=2.0,\n",
        "      seed=43210)\n",
        "````"
      ],
      "metadata": {
        "id": "yngWkhQf4QZF"
      }
    },
    {
      "cell_type": "markdown",
      "source": [
        "## Importações Necessárias"
      ],
      "metadata": {
        "id": "XNkiTiYdI-Pi"
      }
    },
    {
      "cell_type": "code",
      "source": [
        "import tensorflow as tf\n",
        "import tensorflow_probability as tfp\n",
        "import time\n",
        "\n",
        "import pandas as pd\n",
        "import numpy as np\n",
        "import matplotlib.pyplot as plt\n",
        "import seaborn as sns\n",
        "\n",
        "%matplotlib inline"
      ],
      "metadata": {
        "id": "x3i76T1am6Be"
      },
      "execution_count": 1,
      "outputs": []
    },
    {
      "cell_type": "markdown",
      "source": [
        "## Função de teste de tempo da evolução"
      ],
      "metadata": {
        "id": "dI-4xofaJBPQ"
      }
    },
    {
      "cell_type": "code",
      "source": [
        "def check_time_spent_by_evolutionary_algorithm(population_size,\n",
        "                                               objective_function: object,\n",
        "                                               max_iterations: int,\n",
        "                                               variate_population_size: bool,\n",
        "                                               seed=0):\n",
        "  \"\"\"\n",
        "  This function must check the time spent by the evolutionary algorithm\n",
        "  to upgrade the weights of a neural network according to some parameters\n",
        "  given by the function.\n",
        "\n",
        "  ----------------------\n",
        "  PARAMS\n",
        "  ---------------------\n",
        "\n",
        "  - population_size: the number of weights of the neural network. Can be\n",
        "  either a integer number or a list if the user want to variate the\n",
        "  values of 'population_size' parameter to be tested.\n",
        "\n",
        "  \"\"\"\n",
        "\n",
        "  list_of_times = []\n",
        "\n",
        "  if ((variate_population_size == True) and (type(population_size) is list)):\n",
        "    for size in population_size:\n",
        "      initial_population = (tf.random.normal([size]))\n",
        "\n",
        "      st = time.time()\n",
        "\n",
        "      optim_results = tfp.optimizer.differential_evolution_minimize(\n",
        "          objective_function=objective_function,\n",
        "          initial_population=initial_population,\n",
        "          max_iterations=max_iterations,\n",
        "          seed=seed\n",
        "      )\n",
        "      \n",
        "      et = time.time()\n",
        "      time_taken = et - st\n",
        "      list_of_times.append(time_taken)\n",
        "  else:\n",
        "    raise ValueError('If variate_population_size is True, then population_size must be a list of possible values')\n",
        "\n",
        "  return list_of_times"
      ],
      "metadata": {
        "id": "MNocA4nJ4dK5"
      },
      "execution_count": 2,
      "outputs": []
    },
    {
      "cell_type": "markdown",
      "source": [
        "### Implementando a função de teste"
      ],
      "metadata": {
        "id": "Ck1PY1DNJEZc"
      }
    },
    {
      "cell_type": "code",
      "source": [
        "obj_func = lambda x: -(tf.math.sin(x) + tf.math.cos(x))\n",
        "\n",
        "population_size_list = [100000, 200000, 300000, 400000, 500000, 600000, 700000, 800000, 900000, 1000000]\n",
        "\n",
        "time_spent = check_time_spent_by_evolutionary_algorithm(population_size=population_size_list,\n",
        "                                                        objective_function=obj_func, \n",
        "                                                        max_iterations=50,\n",
        "                                                        variate_population_size=True,\n",
        "                                                        seed=0)"
      ],
      "metadata": {
        "id": "5nlVfLf6CKcs"
      },
      "execution_count": 3,
      "outputs": []
    },
    {
      "cell_type": "markdown",
      "source": [
        "### Visualizando os resultados"
      ],
      "metadata": {
        "id": "M3vI5nAPJGcV"
      }
    },
    {
      "cell_type": "code",
      "source": [
        "fig, ax = plt.subplots(nrows=1, ncols=1, figsize=(10, 6))\n",
        "\n",
        "ax.set_title('Time spent by the algorithm VS input size', fontsize=14)\n",
        "\n",
        "ax.set_xlabel('population_size', fontsize=14)\n",
        "\n",
        "ax.set_ylabel('time spent (seconds)', fontsize=14)\n",
        "# ax.plot(population_size_list, time_spent)\n",
        "sns.scatterplot(x=population_size_list, y=time_spent, ax=ax)\n",
        "\n",
        "sns.despine()\n",
        "plt.show()"
      ],
      "metadata": {
        "id": "chsQIf6EgZp0",
        "outputId": "0094a363-0e90-4665-c81f-c5c726bcb785",
        "colab": {
          "base_uri": "https://localhost:8080/",
          "height": 409
        }
      },
      "execution_count": 4,
      "outputs": [
        {
          "output_type": "display_data",
          "data": {
            "text/plain": [
              "<Figure size 720x432 with 1 Axes>"
            ],
            "image/png": "[encoded data removed]"
          },
          "metadata": {
            "needs_background": "light"
          }
        }
      ]
    },
    {
      "cell_type": "markdown",
      "source": [
        "##  Implementando uma rede neural"
      ],
      "metadata": {
        "id": "zszA0gMsFkWN"
      }
    },
    {
      "cell_type": "markdown",
      "source": [
        "### Instanciando uma sequência de layers usando `tf.keras.Sequential`"
      ],
      "metadata": {
        "id": "qVhJfzagGFVj"
      }
    },
    {
      "cell_type": "code",
      "source": [
        "model = tf.keras.Sequential([\n",
        "    tf.keras.layers.Dense(3, activation='relu', name='first_layer', input_shape=(16, )),\n",
        "    tf.keras.layers.Dense(8, activation='tanh', name='second_layer'),\n",
        "    tf.keras.layers.Dense(3, name='last_layer')\n",
        "])"
      ],
      "metadata": {
        "id": "DcLIh23FFjxF"
      },
      "execution_count": 5,
      "outputs": []
    },
    {
      "cell_type": "code",
      "source": [
        "model.summary()"
      ],
      "metadata": {
        "id": "6Zhom8pSNDug",
        "outputId": "891a1f99-5b74-47d9-c082-fec7495a4abc",
        "colab": {
          "base_uri": "https://localhost:8080/"
        }
      },
      "execution_count": 6,
      "outputs": [
        {
          "output_type": "stream",
          "name": "stdout",
          "text": [
            "Model: \"sequential\"\n",
            "_________________________________________________________________\n",
            " Layer (type)                Output Shape              Param #   \n",
            "=================================================================\n",
            " first_layer (Dense)         (None, 3)                 51        \n",
            "                                                                 \n",
            " second_layer (Dense)        (None, 8)                 32        \n",
            "                                                                 \n",
            " last_layer (Dense)          (None, 3)                 27        \n",
            "                                                                 \n",
            "=================================================================\n",
            "Total params: 110\n",
            "Trainable params: 110\n",
            "Non-trainable params: 0\n",
            "_________________________________________________________________\n"
          ]
        }
      ]
    },
    {
      "cell_type": "code",
      "source": [
        "model.weights"
      ],
      "metadata": {
        "id": "159sYacZqEt6",
        "outputId": "d862e3e1-79d1-4a8d-e1d0-bb247084af18",
        "colab": {
          "base_uri": "https://localhost:8080/"
        }
      },
      "execution_count": 7,
      "outputs": [
        {
          "output_type": "execute_result",
          "data": {
            "text/plain": [
              "[<tf.Variable 'first_layer/kernel:0' shape=(16, 3) dtype=float32, numpy=\n",
              " array([[-0.46818256,  0.38059044,  0.48482543],\n",
              "        [ 0.17822498,  0.00900328, -0.53398347],\n",
              "        [-0.14719999, -0.47189233, -0.12081403],\n",
              "        [-0.21391222, -0.30877692,  0.02310157],\n",
              "        [-0.00765401,  0.05650836, -0.1778852 ],\n",
              "        [ 0.5328272 , -0.1374113 ,  0.04446185],\n",
              "        [-0.13377145, -0.16145864,  0.20374447],\n",
              "        [-0.08752596,  0.32108927,  0.49153775],\n",
              "        [ 0.07826543,  0.09187239,  0.16314906],\n",
              "        [-0.32133147, -0.5477413 , -0.45519042],\n",
              "        [ 0.41632038, -0.09456539, -0.472874  ],\n",
              "        [ 0.29794186, -0.5613152 ,  0.2054522 ],\n",
              "        [ 0.52452284,  0.22918093, -0.10197058],\n",
              "        [ 0.3550334 , -0.40001494, -0.18387115],\n",
              "        [ 0.21963435, -0.1423195 ,  0.43512362],\n",
              "        [ 0.0810352 , -0.21327513, -0.00111967]], dtype=float32)>,\n",
              " <tf.Variable 'first_layer/bias:0' shape=(3,) dtype=float32, numpy=array([0., 0., 0.], dtype=float32)>,\n",
              " <tf.Variable 'second_layer/kernel:0' shape=(3, 8) dtype=float32, numpy=\n",
              " array([[-0.26395664,  0.20357507,  0.08375514, -0.66787875,  0.08577287,\n",
              "          0.06416953, -0.06932944,  0.27106184],\n",
              "        [ 0.70362693, -0.32503325,  0.14840287, -0.5461237 , -0.5868272 ,\n",
              "         -0.57948625, -0.6663539 ,  0.4422906 ],\n",
              "        [-0.6933866 ,  0.45708412, -0.6634418 , -0.2504239 , -0.2885212 ,\n",
              "          0.5105838 ,  0.1880992 , -0.00894332]], dtype=float32)>,\n",
              " <tf.Variable 'second_layer/bias:0' shape=(8,) dtype=float32, numpy=array([0., 0., 0., 0., 0., 0., 0., 0.], dtype=float32)>,\n",
              " <tf.Variable 'last_layer/kernel:0' shape=(8, 3) dtype=float32, numpy=\n",
              " array([[-0.12543541, -0.25696823, -0.07055587],\n",
              "        [-0.21643198, -0.4814932 ,  0.5527342 ],\n",
              "        [ 0.40707046,  0.4564324 ,  0.38936788],\n",
              "        [ 0.63040704,  0.701979  ,  0.40168637],\n",
              "        [ 0.2647634 , -0.11956567,  0.61555034],\n",
              "        [-0.35501274,  0.6621224 ,  0.2384187 ],\n",
              "        [-0.11273396,  0.42000276,  0.68344456],\n",
              "        [ 0.5139434 , -0.29393226, -0.08414602]], dtype=float32)>,\n",
              " <tf.Variable 'last_layer/bias:0' shape=(3,) dtype=float32, numpy=array([0., 0., 0.], dtype=float32)>]"
            ]
          },
          "metadata": {},
          "execution_count": 7
        }
      ]
    },
    {
      "cell_type": "markdown",
      "source": [
        "### Buildando o modelo utilizando um input"
      ],
      "metadata": {
        "id": "Sx2jqWwCGLrD"
      }
    },
    {
      "cell_type": "code",
      "source": [
        "input = tf.random.normal((1, 16))\n",
        "output = model(input)\n",
        "print(output)\n",
        "print(model.weights)"
      ],
      "metadata": {
        "colab": {
          "base_uri": "https://localhost:8080/"
        },
        "id": "FHvTrp-hGAOZ",
        "outputId": "d18ed82a-c280-470d-ba6e-deb87d698255"
      },
      "execution_count": 8,
      "outputs": [
        {
          "output_type": "stream",
          "name": "stdout",
          "text": [
            "tf.Tensor([[-0.07607202 -0.16457114 -0.0319441 ]], shape=(1, 3), dtype=float32)\n",
            "[<tf.Variable 'first_layer/kernel:0' shape=(16, 3) dtype=float32, numpy=\n",
            "array([[-0.46818256,  0.38059044,  0.48482543],\n",
            "       [ 0.17822498,  0.00900328, -0.53398347],\n",
            "       [-0.14719999, -0.47189233, -0.12081403],\n",
            "       [-0.21391222, -0.30877692,  0.02310157],\n",
            "       [-0.00765401,  0.05650836, -0.1778852 ],\n",
            "       [ 0.5328272 , -0.1374113 ,  0.04446185],\n",
            "       [-0.13377145, -0.16145864,  0.20374447],\n",
            "       [-0.08752596,  0.32108927,  0.49153775],\n",
            "       [ 0.07826543,  0.09187239,  0.16314906],\n",
            "       [-0.32133147, -0.5477413 , -0.45519042],\n",
            "       [ 0.41632038, -0.09456539, -0.472874  ],\n",
            "       [ 0.29794186, -0.5613152 ,  0.2054522 ],\n",
            "       [ 0.52452284,  0.22918093, -0.10197058],\n",
            "       [ 0.3550334 , -0.40001494, -0.18387115],\n",
            "       [ 0.21963435, -0.1423195 ,  0.43512362],\n",
            "       [ 0.0810352 , -0.21327513, -0.00111967]], dtype=float32)>, <tf.Variable 'first_layer/bias:0' shape=(3,) dtype=float32, numpy=array([0., 0., 0.], dtype=float32)>, <tf.Variable 'second_layer/kernel:0' shape=(3, 8) dtype=float32, numpy=\n",
            "array([[-0.26395664,  0.20357507,  0.08375514, -0.66787875,  0.08577287,\n",
            "         0.06416953, -0.06932944,  0.27106184],\n",
            "       [ 0.70362693, -0.32503325,  0.14840287, -0.5461237 , -0.5868272 ,\n",
            "        -0.57948625, -0.6663539 ,  0.4422906 ],\n",
            "       [-0.6933866 ,  0.45708412, -0.6634418 , -0.2504239 , -0.2885212 ,\n",
            "         0.5105838 ,  0.1880992 , -0.00894332]], dtype=float32)>, <tf.Variable 'second_layer/bias:0' shape=(8,) dtype=float32, numpy=array([0., 0., 0., 0., 0., 0., 0., 0.], dtype=float32)>, <tf.Variable 'last_layer/kernel:0' shape=(8, 3) dtype=float32, numpy=\n",
            "array([[-0.12543541, -0.25696823, -0.07055587],\n",
            "       [-0.21643198, -0.4814932 ,  0.5527342 ],\n",
            "       [ 0.40707046,  0.4564324 ,  0.38936788],\n",
            "       [ 0.63040704,  0.701979  ,  0.40168637],\n",
            "       [ 0.2647634 , -0.11956567,  0.61555034],\n",
            "       [-0.35501274,  0.6621224 ,  0.2384187 ],\n",
            "       [-0.11273396,  0.42000276,  0.68344456],\n",
            "       [ 0.5139434 , -0.29393226, -0.08414602]], dtype=float32)>, <tf.Variable 'last_layer/bias:0' shape=(3,) dtype=float32, numpy=array([0., 0., 0.], dtype=float32)>]\n"
          ]
        }
      ]
    },
    {
      "cell_type": "markdown",
      "source": [
        "### Iterando por todas as camadas do modelo"
      ],
      "metadata": {
        "id": "rKHxFtdFGhpd"
      }
    },
    {
      "cell_type": "code",
      "source": [
        "for layer in model.layers:\n",
        "  print(layer.name, layer)"
      ],
      "metadata": {
        "colab": {
          "base_uri": "https://localhost:8080/"
        },
        "id": "r5SGqvqpGVv-",
        "outputId": "eb6bf8d5-7636-415f-c60d-0f1d68f62873"
      },
      "execution_count": 9,
      "outputs": [
        {
          "output_type": "stream",
          "name": "stdout",
          "text": [
            "first_layer <keras.layers.core.dense.Dense object at 0x7ff8506e0810>\n",
            "second_layer <keras.layers.core.dense.Dense object at 0x7ff7e0280a10>\n",
            "last_layer <keras.layers.core.dense.Dense object at 0x7ff8506e0790>\n"
          ]
        }
      ]
    },
    {
      "cell_type": "markdown",
      "source": [
        "### Obtendo pesos, viéses e inicializadores de viéses"
      ],
      "metadata": {
        "id": "ydSGp_xEGfRp"
      }
    },
    {
      "cell_type": "code",
      "source": [
        "# first layer\n",
        "print('====FIRST LAYER====\\n\\n')\n",
        "print(model.layers[0].weights)\n",
        "print(model.layers[0].bias.numpy())\n",
        "print(model.layers[0].bias_initializer)\n",
        "\n",
        "# second layer\n",
        "print('\\n\\n====SECOND LAYER====\\n\\n')\n",
        "print(model.layers[1].weights)\n",
        "print(model.layers[1].bias.numpy())\n",
        "print(model.layers[1].bias_initializer)\n",
        "\n",
        "# third layer\n",
        "print('\\n\\n====THIRD LAYER====\\n\\n')\n",
        "print(model.layers[2].weights)\n",
        "print(model.layers[2].bias.numpy())\n",
        "print(model.layers[2].bias_initializer)"
      ],
      "metadata": {
        "colab": {
          "base_uri": "https://localhost:8080/"
        },
        "id": "VwiP9n2VGWus",
        "outputId": "4ad234c6-aa12-420f-979d-d1eb40cad463"
      },
      "execution_count": 10,
      "outputs": [
        {
          "output_type": "stream",
          "name": "stdout",
          "text": [
            "====FIRST LAYER====\n",
            "\n",
            "\n",
            "[<tf.Variable 'first_layer/kernel:0' shape=(16, 3) dtype=float32, numpy=\n",
            "array([[-0.46818256,  0.38059044,  0.48482543],\n",
            "       [ 0.17822498,  0.00900328, -0.53398347],\n",
            "       [-0.14719999, -0.47189233, -0.12081403],\n",
            "       [-0.21391222, -0.30877692,  0.02310157],\n",
            "       [-0.00765401,  0.05650836, -0.1778852 ],\n",
            "       [ 0.5328272 , -0.1374113 ,  0.04446185],\n",
            "       [-0.13377145, -0.16145864,  0.20374447],\n",
            "       [-0.08752596,  0.32108927,  0.49153775],\n",
            "       [ 0.07826543,  0.09187239,  0.16314906],\n",
            "       [-0.32133147, -0.5477413 , -0.45519042],\n",
            "       [ 0.41632038, -0.09456539, -0.472874  ],\n",
            "       [ 0.29794186, -0.5613152 ,  0.2054522 ],\n",
            "       [ 0.52452284,  0.22918093, -0.10197058],\n",
            "       [ 0.3550334 , -0.40001494, -0.18387115],\n",
            "       [ 0.21963435, -0.1423195 ,  0.43512362],\n",
            "       [ 0.0810352 , -0.21327513, -0.00111967]], dtype=float32)>, <tf.Variable 'first_layer/bias:0' shape=(3,) dtype=float32, numpy=array([0., 0., 0.], dtype=float32)>]\n",
            "[0. 0. 0.]\n",
            "<keras.initializers.initializers_v2.Zeros object at 0x7ff7dc452850>\n",
            "\n",
            "\n",
            "====SECOND LAYER====\n",
            "\n",
            "\n",
            "[<tf.Variable 'second_layer/kernel:0' shape=(3, 8) dtype=float32, numpy=\n",
            "array([[-0.26395664,  0.20357507,  0.08375514, -0.66787875,  0.08577287,\n",
            "         0.06416953, -0.06932944,  0.27106184],\n",
            "       [ 0.70362693, -0.32503325,  0.14840287, -0.5461237 , -0.5868272 ,\n",
            "        -0.57948625, -0.6663539 ,  0.4422906 ],\n",
            "       [-0.6933866 ,  0.45708412, -0.6634418 , -0.2504239 , -0.2885212 ,\n",
            "         0.5105838 ,  0.1880992 , -0.00894332]], dtype=float32)>, <tf.Variable 'second_layer/bias:0' shape=(8,) dtype=float32, numpy=array([0., 0., 0., 0., 0., 0., 0., 0.], dtype=float32)>]\n",
            "[0. 0. 0. 0. 0. 0. 0. 0.]\n",
            "<keras.initializers.initializers_v2.Zeros object at 0x7ff7dfe633d0>\n",
            "\n",
            "\n",
            "====THIRD LAYER====\n",
            "\n",
            "\n",
            "[<tf.Variable 'last_layer/kernel:0' shape=(8, 3) dtype=float32, numpy=\n",
            "array([[-0.12543541, -0.25696823, -0.07055587],\n",
            "       [-0.21643198, -0.4814932 ,  0.5527342 ],\n",
            "       [ 0.40707046,  0.4564324 ,  0.38936788],\n",
            "       [ 0.63040704,  0.701979  ,  0.40168637],\n",
            "       [ 0.2647634 , -0.11956567,  0.61555034],\n",
            "       [-0.35501274,  0.6621224 ,  0.2384187 ],\n",
            "       [-0.11273396,  0.42000276,  0.68344456],\n",
            "       [ 0.5139434 , -0.29393226, -0.08414602]], dtype=float32)>, <tf.Variable 'last_layer/bias:0' shape=(3,) dtype=float32, numpy=array([0., 0., 0.], dtype=float32)>]\n",
            "[0. 0. 0.]\n",
            "<keras.initializers.initializers_v2.Zeros object at 0x7ff7dba4ed50>\n"
          ]
        }
      ]
    },
    {
      "cell_type": "markdown",
      "source": [
        "### Obtendo os mesmos dados utilizando nomes das camadas"
      ],
      "metadata": {
        "id": "2MUz5WZJHtX3"
      }
    },
    {
      "cell_type": "code",
      "source": [
        "# firstlayer by name\n",
        "print('====FIRST LAYER====\\n\\n')\n",
        "print((model.get_layer(\"first_layer\").weights))\n",
        "\n",
        "# secondlayer by name\n",
        "print('\\n\\n====SECOND LAYER====\\n\\n')\n",
        "print((model.get_layer(\"second_layer\").weights))\n",
        "\n",
        "# lastlayer by name\n",
        "print('\\n\\n====THIRD LAYER====\\n\\n')\n",
        "print((model.get_layer(\"last_layer\").weights))"
      ],
      "metadata": {
        "colab": {
          "base_uri": "https://localhost:8080/"
        },
        "id": "33TSZ01nHwMQ",
        "outputId": "df18f8bb-c248-4a18-c19b-2448fa5a1c61"
      },
      "execution_count": 11,
      "outputs": [
        {
          "output_type": "stream",
          "name": "stdout",
          "text": [
            "====FIRST LAYER====\n",
            "\n",
            "\n",
            "[<tf.Variable 'first_layer/kernel:0' shape=(16, 3) dtype=float32, numpy=\n",
            "array([[-0.46818256,  0.38059044,  0.48482543],\n",
            "       [ 0.17822498,  0.00900328, -0.53398347],\n",
            "       [-0.14719999, -0.47189233, -0.12081403],\n",
            "       [-0.21391222, -0.30877692,  0.02310157],\n",
            "       [-0.00765401,  0.05650836, -0.1778852 ],\n",
            "       [ 0.5328272 , -0.1374113 ,  0.04446185],\n",
            "       [-0.13377145, -0.16145864,  0.20374447],\n",
            "       [-0.08752596,  0.32108927,  0.49153775],\n",
            "       [ 0.07826543,  0.09187239,  0.16314906],\n",
            "       [-0.32133147, -0.5477413 , -0.45519042],\n",
            "       [ 0.41632038, -0.09456539, -0.472874  ],\n",
            "       [ 0.29794186, -0.5613152 ,  0.2054522 ],\n",
            "       [ 0.52452284,  0.22918093, -0.10197058],\n",
            "       [ 0.3550334 , -0.40001494, -0.18387115],\n",
            "       [ 0.21963435, -0.1423195 ,  0.43512362],\n",
            "       [ 0.0810352 , -0.21327513, -0.00111967]], dtype=float32)>, <tf.Variable 'first_layer/bias:0' shape=(3,) dtype=float32, numpy=array([0., 0., 0.], dtype=float32)>]\n",
            "\n",
            "\n",
            "====SECOND LAYER====\n",
            "\n",
            "\n",
            "[<tf.Variable 'second_layer/kernel:0' shape=(3, 8) dtype=float32, numpy=\n",
            "array([[-0.26395664,  0.20357507,  0.08375514, -0.66787875,  0.08577287,\n",
            "         0.06416953, -0.06932944,  0.27106184],\n",
            "       [ 0.70362693, -0.32503325,  0.14840287, -0.5461237 , -0.5868272 ,\n",
            "        -0.57948625, -0.6663539 ,  0.4422906 ],\n",
            "       [-0.6933866 ,  0.45708412, -0.6634418 , -0.2504239 , -0.2885212 ,\n",
            "         0.5105838 ,  0.1880992 , -0.00894332]], dtype=float32)>, <tf.Variable 'second_layer/bias:0' shape=(8,) dtype=float32, numpy=array([0., 0., 0., 0., 0., 0., 0., 0.], dtype=float32)>]\n",
            "\n",
            "\n",
            "====THIRD LAYER====\n",
            "\n",
            "\n",
            "[<tf.Variable 'last_layer/kernel:0' shape=(8, 3) dtype=float32, numpy=\n",
            "array([[-0.12543541, -0.25696823, -0.07055587],\n",
            "       [-0.21643198, -0.4814932 ,  0.5527342 ],\n",
            "       [ 0.40707046,  0.4564324 ,  0.38936788],\n",
            "       [ 0.63040704,  0.701979  ,  0.40168637],\n",
            "       [ 0.2647634 , -0.11956567,  0.61555034],\n",
            "       [-0.35501274,  0.6621224 ,  0.2384187 ],\n",
            "       [-0.11273396,  0.42000276,  0.68344456],\n",
            "       [ 0.5139434 , -0.29393226, -0.08414602]], dtype=float32)>, <tf.Variable 'last_layer/bias:0' shape=(3,) dtype=float32, numpy=array([0., 0., 0.], dtype=float32)>]\n"
          ]
        }
      ]
    },
    {
      "cell_type": "code",
      "source": [
        "model.set_weights?"
      ],
      "metadata": {
        "id": "vvrDlxKrDg4Z"
      },
      "execution_count": 12,
      "outputs": []
    },
    {
      "cell_type": "markdown",
      "source": [
        "## Escopo da Pesquisa"
      ],
      "metadata": {
        "id": "EsIi6FpwrkZn"
      }
    },
    {
      "cell_type": "markdown",
      "source": [
        "### Funções de Ativação\n",
        "\n",
        "#### Sigmoid:\n",
        "\n",
        "![Sigmoid funciton](https://miro.medium.com/max/875/1*hYXbd20tIReMJ3T5D4OZLg.png)\n",
        "\n",
        "A função sigmoid está presente apenas por razões históricas. Ela é não linear, mas muito computacionalmente custosa, causa desaparecimento do gradiente e não é centrada em zero.\n",
        "\n",
        "É melhor usada em problemas de classificação binária na última camada da rede.\n",
        "\n",
        "#### Softmax:\n",
        "\n",
        "![Softmax function](https://lh6.googleusercontent.com/3vcfJ5hJhsMZAMFIbQOEycfVW1t6rh1CXt62DeMk8RPPXVzV4vCcURNm_z_F7618uAeSHT7qT7wE_UiK5Ic0b-Eeuunn6iTGeHWbpAaUAP6-G2ePubeGWCb4_TmSapeaimZqvuUs)\n",
        "\n",
        "A função softmax ainda é melhor que a sigmoid, mas é melhor utilizada em problemas de classificação multi-classe.\n",
        "\n",
        "#### Tanh:\n",
        "\n",
        "![tanh graphic](https://production-media.paperswithcode.com/methods/Screen_Shot_2020-05-27_at_4.23.22_PM_dcuMBJl.png)\n",
        "\n",
        "A função tanh resolve um dos problemas das funções anteriores, a de ser centrada em zero.\n",
        "\n",
        "#### ReLU: ReLU (Rectified Linear Unit) is defined as f(x) = max(0,x):\n",
        "\n",
        "![ReLU](https://miro.medium.com/max/788/1*nLGwhQGJRDOnQvluaX-WiQ.png)\n",
        "\n",
        "\"This is a widely used activation function, especially with Convolutional Neural networks. It is easy to compute and does not saturate and does not cause the Vanishing Gradient Problem. It has just one issue of not being zero centred. It suffers from “dying ReLU” problem. Since the output is zero for all negative inputs. It causes some nodes to completely die and not learn anything.\n",
        "\n",
        "Another problem with ReLU is of exploding the activations since it higher limit is, well, inf. This sometimes leads to unusable nodes.\" - Mediun article at [Activation functions](https://towardsdatascience.com/everything-you-need-to-know-about-activation-functions-in-deep-learning-models-84ba9f82c253)\n",
        "\n",
        "#### Leaky ReLU and Parametric ReLU: It is defined as f(x) = max(αx, x)\n",
        "\n",
        "![Leak ReLU](https://miro.medium.com/max/850/1*scA-bQ597yTXJ-417RETAQ.png)\n",
        "\n",
        "\"Here α is a hyperparameter generally set to 0.01. Clearly, Leaky ReLU solves the “dying ReLU” problem to some extent. Note that, if we set α as 1 then Leaky ReLU will become a linear function f(x) = x and will be of no use. Hence, the value of α is never set close to 1. If we set α as a hyperparameter for each neuron separately, we get parametric ReLU or PReLU.\" - Mediun article at [Activation functions](https://towardsdatascience.com/everything-you-need-to-know-about-activation-functions-in-deep-learning-models-84ba9f82c253)\n",
        "\n",
        "![Activation Functions Cheat Sheet](https://static.wixstatic.com/media/8f929f_c90ad7e1f4c54b27b309e58ee2b9c654~mv2.png/v1/fit/w_880%2Ch_685%2Cal_c/file.png)"
      ],
      "metadata": {
        "id": "oziUKZ6krnqI"
      }
    },
    {
      "cell_type": "code",
      "source": [],
      "metadata": {
        "id": "swsFLwOPrpuO"
      },
      "execution_count": 12,
      "outputs": []
    },
    {
      "cell_type": "markdown",
      "source": [
        "## GA class"
      ],
      "metadata": {
        "id": "FdaJAu2tddim"
      }
    },
    {
      "cell_type": "code",
      "source": [
        "class GeneticAlgorithm:\n",
        "  def __init__(self, \n",
        "               objective_function, \n",
        "               initial_population, \n",
        "               max_iterations=100, \n",
        "               seed=\"123\"):\n",
        "    self.objective_function = objective_function\n",
        "    self.initial_population = initial_population\n",
        "    self.max_iterations = max_iterations\n",
        "    self.seed = seed\n",
        "    self.optim_results = None\n",
        "\n",
        "  def train_ga(self):\n",
        "    \"\"\"\n",
        "    This function applies the GA trainning with tensorflow\n",
        "    \"\"\"\n",
        "    self.optim_results = tfp.optimizer.differential_evolution_minimize(\n",
        "          objective_function=self.objective_function,\n",
        "          initial_population=self.initial_population,\n",
        "          max_iterations=self.max_iterations,\n",
        "          seed=self.seed\n",
        "      )\n",
        "\n",
        "  def get_converged_result(self):\n",
        "    \"\"\"\n",
        "    This function returns a boolean tensor depending if the GA had converged\n",
        "    \"\"\"\n",
        "    return self.optim_results.converged\n",
        "\n",
        "  def get_position_result(self):\n",
        "    \"\"\"\n",
        "    This function returns the position of the individuals that had made\n",
        "    the fitness function to minimize during the GA trainning\n",
        "    \"\"\"\n",
        "    return self.optim_results.position\n",
        "  \n",
        "  def get_objective_value(self):\n",
        "    \"\"\"\n",
        "    This function returns the objective value (ideal) of the fitness function\n",
        "    \"\"\"\n",
        "    return self.optim_results.objective_value\n",
        "  \n",
        "  def get_final_population(self):\n",
        "    \"\"\"\n",
        "    This function returns the final population of the individuals at the end\n",
        "    of the GA trainning\n",
        "    \"\"\"\n",
        "    return self.optim_results.final_population \n",
        "  \n",
        "  def get_final_objective_value(self):\n",
        "    \"\"\"\n",
        "    For each of the individuals of the population at the end of the GA execution,\n",
        "    returns the fitness values for each one of them\n",
        "    \"\"\"\n",
        "    return self.optim_results.final_objective_values\n",
        "\n",
        "  def check_time_spent_by_evolutionary_algorithm(self, population_size: list,\n",
        "                                                 variate_population_size: bool):\n",
        "    \"\"\"\n",
        "    This function must check the time spent by the evolutionary algorithm\n",
        "    to upgrade the weights of a neural network according to some parameters\n",
        "    given by the function.\n",
        "\n",
        "    ----------------------\n",
        "    PARAMS\n",
        "    ---------------------\n",
        "\n",
        "    - population_size: the number of weights of the neural network. Can be\n",
        "    either a integer number or a list if the user want to variate the\n",
        "    values of 'population_size' parameter to be tested.\n",
        "\n",
        "    \"\"\"\n",
        "\n",
        "    list_of_times = []\n",
        "\n",
        "    if ((variate_population_size == True) and (type(population_size) is list)):\n",
        "      for size in population_size:\n",
        "        initial_population = (tf.random.normal([size]))\n",
        "\n",
        "        st = time.time()\n",
        "\n",
        "        optim_results = self.train_ga()\n",
        "        \n",
        "        et = time.time()\n",
        "        time_taken = et - st\n",
        "        list_of_times.append(time_taken)\n",
        "    else:\n",
        "      raise ValueError('If variate_population_size is True, then population_size must be a list of possible values')\n",
        "\n",
        "    return list_of_times"
      ],
      "metadata": {
        "id": "tBD-TIECdfVv"
      },
      "execution_count": 79,
      "outputs": []
    },
    {
      "cell_type": "code",
      "source": [
        "a = tf.random.normal([40])\n",
        "def easom_fn(x):\n",
        "  return -tf.math.sin(x)\n",
        "GA = GeneticAlgorithm(easom_fn, a)"
      ],
      "metadata": {
        "id": "QIU2T9KzeqI2"
      },
      "execution_count": 80,
      "outputs": []
    },
    {
      "cell_type": "code",
      "source": [
        "GA.train_ga()"
      ],
      "metadata": {
        "id": "Vsmnhahne3yy"
      },
      "execution_count": 81,
      "outputs": []
    },
    {
      "cell_type": "code",
      "source": [
        "ps = [10000, 200000, 30000]\n",
        "GA.check_time_spent_by_evolutionary_algorithm(population_size=ps, variate_population_size=True)"
      ],
      "metadata": {
        "id": "Jf5fJtetf51Z",
        "outputId": "29764df7-acc2-4fda-87d9-92b40a6f968c",
        "colab": {
          "base_uri": "https://localhost:8080/"
        }
      },
      "execution_count": 82,
      "outputs": [
        {
          "output_type": "execute_result",
          "data": {
            "text/plain": [
              "[0.3662710189819336, 0.24460959434509277, 0.25389695167541504]"
            ]
          },
          "metadata": {},
          "execution_count": 82
        }
      ]
    },
    {
      "cell_type": "markdown",
      "source": [
        "## Sandbox\n",
        "\n",
        "Aqui vai qualquer coisa rs"
      ],
      "metadata": {
        "id": "AqL0oYnIB4co"
      }
    },
    {
      "cell_type": "code",
      "source": [
        "population_size = 40\n",
        "# With an initial population and a multi-part state.\n",
        "initial_population = (tf.random.normal([population_size]))\n",
        "\n",
        "print(f'initial pop: {initial_population}') \n",
        "\n",
        "def easom_fn(x):\n",
        "  return -tf.math.sin(x)\n",
        "\n",
        "st = time.time()\n",
        "\n",
        "optim_results = tfp.optimizer.differential_evolution_minimize(\n",
        "    easom_fn,\n",
        "    initial_population=initial_population,\n",
        "    max_iterations=50,\n",
        "    seed=43210)\n",
        "\n",
        "et = time.time()\n",
        "\n",
        "time_spent = et - st \n",
        "print(f'time spent {time_spent}')\n",
        "\n",
        "print(optim_results.converged)\n",
        "print(optim_results.position)  # Should be (close to) [pi, pi].\n",
        "print(optim_results.objective_value)    # Should be -1.\n",
        "print(optim_results.final_population) # final population\n",
        "print(optim_results.objective_value) # final value of objective fun. on the final position\n",
        "print(optim_results.final_objective_values)\n",
        "\n",
        "# With a single starting point\n",
        "initial_position = (tf.constant(1.0))\n",
        "\n",
        "optim_results = tfp.optimizer.differential_evolution_minimize(\n",
        "                easom_fn,\n",
        "                initial_position=initial_position,\n",
        "                population_size=40,\n",
        "                population_stddev=2.0,\n",
        "                seed=43210)"
      ],
      "metadata": {
        "id": "y8HKshPVssqX",
        "outputId": "912fd00b-d660-4698-f11a-d35cbc1d7705",
        "colab": {
          "base_uri": "https://localhost:8080/"
        }
      },
      "execution_count": 13,
      "outputs": [
        {
          "output_type": "stream",
          "name": "stdout",
          "text": [
            "initial pop: [ 0.29626808 -0.16818215 -0.14377171  0.40346417  0.8295372   0.76418614\n",
            " -1.095355   -0.61698276  1.4405764  -0.12567267 -0.35234573  0.8779033\n",
            "  0.2109137   2.9259536   0.18782878  1.0781256   0.63683623  0.76843876\n",
            "  0.57737035  0.93675977 -0.14560866 -1.5355195  -1.2934884   0.9142121\n",
            " -0.1001076  -0.03636413  2.253069    1.239689   -0.24057911 -0.63542855\n",
            " -1.3394338  -0.20371307  0.19951399 -0.8881995  -0.575347    0.48768696\n",
            " -0.44177058  0.55211914 -1.4806004  -0.32296494]\n",
            "time spent 0.19807147979736328\n",
            "tf.Tensor(True, shape=(), dtype=bool)\n",
            "tf.Tensor(1.5707092, shape=(), dtype=float32)\n",
            "tf.Tensor(-1.0, shape=(), dtype=float32)\n",
            "tf.Tensor(\n",
            "[1.5707092 1.5710129 1.5708438 1.5708401 1.5707015 1.5707093 1.5710375\n",
            " 1.570554  1.5709201 1.5709388 1.5708503 1.570835  1.5705534 1.5706358\n",
            " 1.5710107 1.5707695 1.5709093 1.5706253 1.5708973 1.5708213 1.5708137\n",
            " 1.5707448 1.5706604 1.5705712 1.5707579 1.5706326 1.5707074 1.5709352\n",
            " 1.5708432 1.5706854 1.5707932 1.5706536 1.5706573 1.5708091 1.5706825\n",
            " 1.5708638 1.5708334 1.5707238 1.5706956 1.5707896], shape=(40,), dtype=float32)\n",
            "tf.Tensor(-1.0, shape=(), dtype=float32)\n",
            "tf.Tensor(\n",
            "[-1. -1. -1. -1. -1. -1. -1. -1. -1. -1. -1. -1. -1. -1. -1. -1. -1. -1.\n",
            " -1. -1. -1. -1. -1. -1. -1. -1. -1. -1. -1. -1. -1. -1. -1. -1. -1. -1.\n",
            " -1. -1. -1. -1.], shape=(40,), dtype=float32)\n"
          ]
        }
      ]
    },
    {
      "cell_type": "code",
      "source": [
        "np.array(optim_results.position)"
      ],
      "metadata": {
        "id": "OCREEy_is5VT",
        "outputId": "b5980853-5ec0-4af6-9e9d-e33b24aa4a3e",
        "colab": {
          "base_uri": "https://localhost:8080/"
        }
      },
      "execution_count": 14,
      "outputs": [
        {
          "output_type": "execute_result",
          "data": {
            "text/plain": [
              "array(1.5706855, dtype=float32)"
            ]
          },
          "metadata": {},
          "execution_count": 14
        }
      ]
    },
    {
      "cell_type": "markdown",
      "source": [
        "## Referências\n",
        "\n",
        "[Hot to get weights of layers in tensforflow ](https://www.gcptutorials.com/post/how-to-get-weights-of-layers-in-tensorflow)\n",
        "\n",
        "[tf.keras.Sequential](https://www.tensorflow.org/api_docs/python/tf/keras/Sequential)\n",
        "\n",
        "[Guia do tensorflow](https://www.tensorflow.org/guide/keras/sequential_model)\n",
        "\n",
        "[Tutoriasi do tensorflow](https://www.tensorflow.org/tutorials)"
      ],
      "metadata": {
        "id": "Y-rzNF3dH_T5"
      }
    }
  ],
  "metadata": {
    "language_info": {
      "name": "python"
    },
    "orig_nbformat": 4,
    "colab": {
      "name": "first_implementations.ipynb",
      "provenance": [],
      "include_colab_link": true
    },
    "kernelspec": {
      "name": "python3",
      "display_name": "Python 3"
    },
    "gpuClass": "standard"
  },
  "nbformat": 4,
  "nbformat_minor": 0
}