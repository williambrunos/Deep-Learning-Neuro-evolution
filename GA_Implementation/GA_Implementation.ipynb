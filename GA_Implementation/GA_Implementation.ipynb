{
  "cells": [
    {
      "cell_type": "markdown",
      "metadata": {
        "id": "view-in-github",
        "colab_type": "text"
      },
      "source": [
        "<a href=\"https://colab.research.google.com/github/williambrunos/Deep-Learning-Neuro-evolution/blob/main/GA_Implementation/GA_Implementation.ipynb\" target=\"_parent\"><img src=\"https://colab.research.google.com/assets/colab-badge.svg\" alt=\"Open In Colab\"/></a>"
      ]
    },
    {
      "cell_type": "markdown",
      "metadata": {
        "id": "D4zAOEssmVe5"
      },
      "source": [
        "# First Implementations with tensorflow\n",
        "\n",
        "**NOTE:**\n",
        "\n",
        "At the end of the notebook, there's a class that you can implement and get use of the genetic algorithm (GA)\n",
        "\n",
        "## Abstract\n",
        "\n",
        "This notebook tries to implement some neural netowork used to solve some problem and tries to evolve the weights of it using neural evolution, implemented with [tensorflow](https://www.tensorflow.org/probability/api_docs/python/tfp/optimizer/differential_evolution_minimize)\n",
        "\n",
        "````Python\n",
        "tfp.optimizer.differential_evolution_minimize(\n",
        "    objective_function,\n",
        "    initial_population=None,\n",
        "    initial_position=None,\n",
        "    population_size=50,\n",
        "    population_stddev=1.0,\n",
        "    max_iterations=100,\n",
        "    func_tolerance=0,\n",
        "    position_tolerance=1e-08,\n",
        "    differential_weight=0.5,\n",
        "    crossover_prob=0.9,\n",
        "    seed=None,\n",
        "    name=None\n",
        ")\n",
        "````\n",
        "\n",
        "**obs**: if you read the documentation of this function, you'll see that the evolutionary algorithm will try to minimize the objective function, rather than maximize it. Because of this, it's important to implement a objective function with the negative value of the mathmatical expression.\n",
        "\n",
        "\"A candidate s_1 is considered better than s_2 if f(s_1) < f(s_2).\" - The function documentation"
      ]
    },
    {
      "cell_type": "markdown",
      "source": [
        "We can use as a base example:\n",
        "\n",
        "````Python\n",
        "population_size = 40\n",
        "  # With an initial population and a multi-part state.\n",
        "  initial_population = (tf.random.normal([population_size]),\n",
        "                        tf.random.normal([population_size]))\n",
        "  def easom_fn(x, y):\n",
        "    return -(tf.math.cos(x) * tf.math.cos(y) *\n",
        "             tf.math.exp(-(x-np.pi)**2 - (y-np.pi)**2))\n",
        "\n",
        "  optim_results = tfp.optimizer.differential_evolution_minimize(\n",
        "      easom_fn,\n",
        "      initial_population=initial_population,\n",
        "      seed=43210)\n",
        "\n",
        "  print(optim_results.converged)\n",
        "  print(optim_results.position)  # Should be (close to) [pi, pi].\n",
        "  print(optim_results.objective_value)    # Should be -1.\n",
        "\n",
        "\n",
        "  # With a single starting point\n",
        "  initial_position = (tf.constant(1.0), tf.constant(1.0))\n",
        "\n",
        "  optim_results = tfp.optimizer.differential_evolution_minimize(\n",
        "      easom_fn,\n",
        "      initial_position=initial_position,\n",
        "      population_size=40,\n",
        "      population_stddev=2.0,\n",
        "      seed=43210)\n",
        "````"
      ],
      "metadata": {
        "id": "yngWkhQf4QZF"
      }
    },
    {
      "cell_type": "markdown",
      "source": [
        "## Importações Necessárias"
      ],
      "metadata": {
        "id": "XNkiTiYdI-Pi"
      }
    },
    {
      "cell_type": "code",
      "source": [
        "import tensorflow as tf\n",
        "import tensorflow_probability as tfp\n",
        "import time\n",
        "\n",
        "import pandas as pd\n",
        "import numpy as np\n",
        "import matplotlib.pyplot as plt\n",
        "import seaborn as sns\n",
        "\n",
        "%matplotlib inline"
      ],
      "metadata": {
        "id": "x3i76T1am6Be"
      },
      "execution_count": 83,
      "outputs": []
    },
    {
      "cell_type": "markdown",
      "source": [
        "## Função de teste de tempo da evolução"
      ],
      "metadata": {
        "id": "dI-4xofaJBPQ"
      }
    },
    {
      "cell_type": "code",
      "source": [
        "def check_time_spent_by_evolutionary_algorithm(population_size,\n",
        "                                               objective_function: object,\n",
        "                                               max_iterations: int,\n",
        "                                               variate_population_size: bool,\n",
        "                                               seed=0):\n",
        "  \"\"\"\n",
        "  This function must check the time spent by the evolutionary algorithm\n",
        "  to upgrade the weights of a neural network according to some parameters\n",
        "  given by the function.\n",
        "\n",
        "  ----------------------\n",
        "  PARAMS\n",
        "  ---------------------\n",
        "\n",
        "  - population_size: the number of weights of the neural network. Can be\n",
        "  either a integer number or a list if the user want to variate the\n",
        "  values of 'population_size' parameter to be tested.\n",
        "\n",
        "  \"\"\"\n",
        "\n",
        "  list_of_times = []\n",
        "\n",
        "  if ((variate_population_size == True) and (type(population_size) is list)):\n",
        "    for size in population_size:\n",
        "      initial_population = (tf.random.normal([size]))\n",
        "\n",
        "      st = time.time()\n",
        "\n",
        "      optim_results = tfp.optimizer.differential_evolution_minimize(\n",
        "          objective_function=objective_function,\n",
        "          initial_population=initial_population,\n",
        "          max_iterations=max_iterations,\n",
        "          seed=seed\n",
        "      )\n",
        "      \n",
        "      et = time.time()\n",
        "      time_taken = et - st\n",
        "      list_of_times.append(time_taken)\n",
        "  else:\n",
        "    raise ValueError('If variate_population_size is True, then population_size must be a list of possible values')\n",
        "\n",
        "  return list_of_times"
      ],
      "metadata": {
        "id": "MNocA4nJ4dK5"
      },
      "execution_count": 84,
      "outputs": []
    },
    {
      "cell_type": "markdown",
      "source": [
        "### Implementando a função de teste"
      ],
      "metadata": {
        "id": "Ck1PY1DNJEZc"
      }
    },
    {
      "cell_type": "code",
      "source": [
        "obj_func = lambda x: -(tf.math.sin(x) + tf.math.cos(x))\n",
        "\n",
        "population_size_list = [100000, 200000, 300000, 400000, 500000, 600000, 700000, 800000, 900000, 1000000]\n",
        "\n",
        "time_spent = check_time_spent_by_evolutionary_algorithm(population_size=population_size_list,\n",
        "                                                        objective_function=obj_func, \n",
        "                                                        max_iterations=50,\n",
        "                                                        variate_population_size=True,\n",
        "                                                        seed=0)"
      ],
      "metadata": {
        "id": "5nlVfLf6CKcs"
      },
      "execution_count": 85,
      "outputs": []
    },
    {
      "cell_type": "markdown",
      "source": [
        "### Visualizando os resultados"
      ],
      "metadata": {
        "id": "M3vI5nAPJGcV"
      }
    },
    {
      "cell_type": "code",
      "source": [
        "fig, ax = plt.subplots(nrows=1, ncols=1, figsize=(10, 6))\n",
        "\n",
        "ax.set_title('Time spent by the algorithm VS input size', fontsize=14)\n",
        "\n",
        "ax.set_xlabel('population_size', fontsize=14)\n",
        "\n",
        "ax.set_ylabel('time spent (seconds)', fontsize=14)\n",
        "# ax.plot(population_size_list, time_spent)\n",
        "sns.scatterplot(x=population_size_list, y=time_spent, ax=ax)\n",
        "\n",
        "sns.despine()\n",
        "plt.show()"
      ],
      "metadata": {
        "id": "chsQIf6EgZp0",
        "outputId": "4b1a5b82-82c1-4dd2-a462-7567776ce4a9",
        "colab": {
          "base_uri": "https://localhost:8080/",
          "height": 409
        }
      },
      "execution_count": 86,
      "outputs": [
        {
          "output_type": "display_data",
          "data": {
            "text/plain": [
              "<Figure size 720x432 with 1 Axes>"
            ],
            "image/png": "[encoded data removed]"
          },
          "metadata": {
            "needs_background": "light"
          }
        }
      ]
    },
    {
      "cell_type": "markdown",
      "source": [
        "##  Implementando uma rede neural"
      ],
      "metadata": {
        "id": "zszA0gMsFkWN"
      }
    },
    {
      "cell_type": "markdown",
      "source": [
        "### Instanciando uma sequência de layers usando `tf.keras.Sequential`"
      ],
      "metadata": {
        "id": "qVhJfzagGFVj"
      }
    },
    {
      "cell_type": "code",
      "source": [
        "model = tf.keras.Sequential([\n",
        "    tf.keras.layers.Dense(3, activation='relu', name='first_layer', input_shape=(16, )),\n",
        "    tf.keras.layers.Dense(8, activation='tanh', name='second_layer'),\n",
        "    tf.keras.layers.Dense(3, name='last_layer')\n",
        "])"
      ],
      "metadata": {
        "id": "DcLIh23FFjxF"
      },
      "execution_count": 87,
      "outputs": []
    },
    {
      "cell_type": "code",
      "source": [
        "model.summary()"
      ],
      "metadata": {
        "id": "6Zhom8pSNDug",
        "outputId": "53fec233-0b91-41e4-c7e7-967fc1e729bb",
        "colab": {
          "base_uri": "https://localhost:8080/"
        }
      },
      "execution_count": 88,
      "outputs": [
        {
          "output_type": "stream",
          "name": "stdout",
          "text": [
            "Model: \"sequential_1\"\n",
            "_________________________________________________________________\n",
            " Layer (type)                Output Shape              Param #   \n",
            "=================================================================\n",
            " first_layer (Dense)         (None, 3)                 51        \n",
            "                                                                 \n",
            " second_layer (Dense)        (None, 8)                 32        \n",
            "                                                                 \n",
            " last_layer (Dense)          (None, 3)                 27        \n",
            "                                                                 \n",
            "=================================================================\n",
            "Total params: 110\n",
            "Trainable params: 110\n",
            "Non-trainable params: 0\n",
            "_________________________________________________________________\n"
          ]
        }
      ]
    },
    {
      "cell_type": "code",
      "source": [
        "model.weights"
      ],
      "metadata": {
        "id": "159sYacZqEt6",
        "outputId": "bb24ffff-2ecf-4d0f-8cd5-feb467e562f3",
        "colab": {
          "base_uri": "https://localhost:8080/"
        }
      },
      "execution_count": 89,
      "outputs": [
        {
          "output_type": "execute_result",
          "data": {
            "text/plain": [
              "[<tf.Variable 'first_layer/kernel:0' shape=(16, 3) dtype=float32, numpy=\n",
              " array([[ 0.3407213 ,  0.47621042, -0.0204674 ],\n",
              "        [-0.15494105, -0.31732535,  0.32092577],\n",
              "        [-0.42563546, -0.17505825, -0.46077752],\n",
              "        [ 0.00499326, -0.11910859,  0.19225281],\n",
              "        [-0.55130583,  0.08990467, -0.27329868],\n",
              "        [ 0.44955033,  0.23883295, -0.5236925 ],\n",
              "        [-0.14383173, -0.44860065, -0.08663219],\n",
              "        [ 0.4743697 , -0.07481426, -0.04443675],\n",
              "        [-0.4117088 , -0.13732609,  0.05258298],\n",
              "        [-0.2461414 , -0.46351218, -0.3037366 ],\n",
              "        [-0.19372079, -0.28275645,  0.13317794],\n",
              "        [-0.5374668 , -0.19381231, -0.13618028],\n",
              "        [-0.03925067, -0.20262656,  0.45765382],\n",
              "        [ 0.4041245 ,  0.22605091,  0.52877086],\n",
              "        [-0.02570683, -0.1278556 ,  0.28057605],\n",
              "        [ 0.07177371,  0.22925395, -0.4167258 ]], dtype=float32)>,\n",
              " <tf.Variable 'first_layer/bias:0' shape=(3,) dtype=float32, numpy=array([0., 0., 0.], dtype=float32)>,\n",
              " <tf.Variable 'second_layer/kernel:0' shape=(3, 8) dtype=float32, numpy=\n",
              " array([[-0.67010516,  0.6679712 , -0.1410079 ,  0.18963766,  0.21878463,\n",
              "         -0.56489456,  0.18177009,  0.5660685 ],\n",
              "        [-0.46607846,  0.5653487 , -0.5196169 ,  0.6601557 , -0.01003325,\n",
              "         -0.19223756, -0.23073155, -0.61880195],\n",
              "        [-0.34598   , -0.10488713,  0.30300194,  0.50677973,  0.5470275 ,\n",
              "          0.36611038,  0.4502681 ,  0.7306493 ]], dtype=float32)>,\n",
              " <tf.Variable 'second_layer/bias:0' shape=(8,) dtype=float32, numpy=array([0., 0., 0., 0., 0., 0., 0., 0.], dtype=float32)>,\n",
              " <tf.Variable 'last_layer/kernel:0' shape=(8, 3) dtype=float32, numpy=\n",
              " array([[-0.33687013,  0.42736095, -0.28779256],\n",
              "        [ 0.00306207, -0.0293389 ,  0.12222749],\n",
              "        [-0.05310494,  0.7124296 ,  0.2130214 ],\n",
              "        [ 0.55033475, -0.39397392, -0.63541365],\n",
              "        [-0.4448919 , -0.08604842, -0.5483844 ],\n",
              "        [-0.16217649, -0.16860586, -0.6667305 ],\n",
              "        [ 0.13512987, -0.52013797, -0.44291025],\n",
              "        [ 0.00434047,  0.1692276 , -0.35427654]], dtype=float32)>,\n",
              " <tf.Variable 'last_layer/bias:0' shape=(3,) dtype=float32, numpy=array([0., 0., 0.], dtype=float32)>]"
            ]
          },
          "metadata": {},
          "execution_count": 89
        }
      ]
    },
    {
      "cell_type": "markdown",
      "source": [
        "### Buildando o modelo utilizando um input"
      ],
      "metadata": {
        "id": "Sx2jqWwCGLrD"
      }
    },
    {
      "cell_type": "code",
      "source": [
        "input = tf.random.normal((1, 16))\n",
        "output = model(input)\n",
        "print(output)\n",
        "print(model.weights)"
      ],
      "metadata": {
        "colab": {
          "base_uri": "https://localhost:8080/"
        },
        "id": "FHvTrp-hGAOZ",
        "outputId": "0269dcb1-78b7-40e0-cfab-dbedb9a19f6d"
      },
      "execution_count": 90,
      "outputs": [
        {
          "output_type": "stream",
          "name": "stdout",
          "text": [
            "tf.Tensor([[ 0.3249836  -0.46936938  0.08372118]], shape=(1, 3), dtype=float32)\n",
            "[<tf.Variable 'first_layer/kernel:0' shape=(16, 3) dtype=float32, numpy=\n",
            "array([[ 0.3407213 ,  0.47621042, -0.0204674 ],\n",
            "       [-0.15494105, -0.31732535,  0.32092577],\n",
            "       [-0.42563546, -0.17505825, -0.46077752],\n",
            "       [ 0.00499326, -0.11910859,  0.19225281],\n",
            "       [-0.55130583,  0.08990467, -0.27329868],\n",
            "       [ 0.44955033,  0.23883295, -0.5236925 ],\n",
            "       [-0.14383173, -0.44860065, -0.08663219],\n",
            "       [ 0.4743697 , -0.07481426, -0.04443675],\n",
            "       [-0.4117088 , -0.13732609,  0.05258298],\n",
            "       [-0.2461414 , -0.46351218, -0.3037366 ],\n",
            "       [-0.19372079, -0.28275645,  0.13317794],\n",
            "       [-0.5374668 , -0.19381231, -0.13618028],\n",
            "       [-0.03925067, -0.20262656,  0.45765382],\n",
            "       [ 0.4041245 ,  0.22605091,  0.52877086],\n",
            "       [-0.02570683, -0.1278556 ,  0.28057605],\n",
            "       [ 0.07177371,  0.22925395, -0.4167258 ]], dtype=float32)>, <tf.Variable 'first_layer/bias:0' shape=(3,) dtype=float32, numpy=array([0., 0., 0.], dtype=float32)>, <tf.Variable 'second_layer/kernel:0' shape=(3, 8) dtype=float32, numpy=\n",
            "array([[-0.67010516,  0.6679712 , -0.1410079 ,  0.18963766,  0.21878463,\n",
            "        -0.56489456,  0.18177009,  0.5660685 ],\n",
            "       [-0.46607846,  0.5653487 , -0.5196169 ,  0.6601557 , -0.01003325,\n",
            "        -0.19223756, -0.23073155, -0.61880195],\n",
            "       [-0.34598   , -0.10488713,  0.30300194,  0.50677973,  0.5470275 ,\n",
            "         0.36611038,  0.4502681 ,  0.7306493 ]], dtype=float32)>, <tf.Variable 'second_layer/bias:0' shape=(8,) dtype=float32, numpy=array([0., 0., 0., 0., 0., 0., 0., 0.], dtype=float32)>, <tf.Variable 'last_layer/kernel:0' shape=(8, 3) dtype=float32, numpy=\n",
            "array([[-0.33687013,  0.42736095, -0.28779256],\n",
            "       [ 0.00306207, -0.0293389 ,  0.12222749],\n",
            "       [-0.05310494,  0.7124296 ,  0.2130214 ],\n",
            "       [ 0.55033475, -0.39397392, -0.63541365],\n",
            "       [-0.4448919 , -0.08604842, -0.5483844 ],\n",
            "       [-0.16217649, -0.16860586, -0.6667305 ],\n",
            "       [ 0.13512987, -0.52013797, -0.44291025],\n",
            "       [ 0.00434047,  0.1692276 , -0.35427654]], dtype=float32)>, <tf.Variable 'last_layer/bias:0' shape=(3,) dtype=float32, numpy=array([0., 0., 0.], dtype=float32)>]\n"
          ]
        }
      ]
    },
    {
      "cell_type": "markdown",
      "source": [
        "### Iterando por todas as camadas do modelo"
      ],
      "metadata": {
        "id": "rKHxFtdFGhpd"
      }
    },
    {
      "cell_type": "code",
      "source": [
        "for layer in model.layers:\n",
        "  print(layer.name, layer)"
      ],
      "metadata": {
        "colab": {
          "base_uri": "https://localhost:8080/"
        },
        "id": "r5SGqvqpGVv-",
        "outputId": "7817e33d-049f-4de4-d54d-6d1e40a76d0c"
      },
      "execution_count": 91,
      "outputs": [
        {
          "output_type": "stream",
          "name": "stdout",
          "text": [
            "first_layer <keras.layers.core.dense.Dense object at 0x7ff7dbb32cd0>\n",
            "second_layer <keras.layers.core.dense.Dense object at 0x7ff7dbb32e50>\n",
            "last_layer <keras.layers.core.dense.Dense object at 0x7ff7dbb32590>\n"
          ]
        }
      ]
    },
    {
      "cell_type": "markdown",
      "source": [
        "### Obtendo pesos, viéses e inicializadores de viéses"
      ],
      "metadata": {
        "id": "ydSGp_xEGfRp"
      }
    },
    {
      "cell_type": "code",
      "source": [
        "# first layer\n",
        "print('====FIRST LAYER====\\n\\n')\n",
        "print(model.layers[0].weights)\n",
        "print(model.layers[0].bias.numpy())\n",
        "print(model.layers[0].bias_initializer)\n",
        "\n",
        "# second layer\n",
        "print('\\n\\n====SECOND LAYER====\\n\\n')\n",
        "print(model.layers[1].weights)\n",
        "print(model.layers[1].bias.numpy())\n",
        "print(model.layers[1].bias_initializer)\n",
        "\n",
        "# third layer\n",
        "print('\\n\\n====THIRD LAYER====\\n\\n')\n",
        "print(model.layers[2].weights)\n",
        "print(model.layers[2].bias.numpy())\n",
        "print(model.layers[2].bias_initializer)"
      ],
      "metadata": {
        "colab": {
          "base_uri": "https://localhost:8080/"
        },
        "id": "VwiP9n2VGWus",
        "outputId": "c7e0a34c-f4f3-49af-81fd-e0064da2fc04"
      },
      "execution_count": 92,
      "outputs": [
        {
          "output_type": "stream",
          "name": "stdout",
          "text": [
            "====FIRST LAYER====\n",
            "\n",
            "\n",
            "[<tf.Variable 'first_layer/kernel:0' shape=(16, 3) dtype=float32, numpy=\n",
            "array([[ 0.3407213 ,  0.47621042, -0.0204674 ],\n",
            "       [-0.15494105, -0.31732535,  0.32092577],\n",
            "       [-0.42563546, -0.17505825, -0.46077752],\n",
            "       [ 0.00499326, -0.11910859,  0.19225281],\n",
            "       [-0.55130583,  0.08990467, -0.27329868],\n",
            "       [ 0.44955033,  0.23883295, -0.5236925 ],\n",
            "       [-0.14383173, -0.44860065, -0.08663219],\n",
            "       [ 0.4743697 , -0.07481426, -0.04443675],\n",
            "       [-0.4117088 , -0.13732609,  0.05258298],\n",
            "       [-0.2461414 , -0.46351218, -0.3037366 ],\n",
            "       [-0.19372079, -0.28275645,  0.13317794],\n",
            "       [-0.5374668 , -0.19381231, -0.13618028],\n",
            "       [-0.03925067, -0.20262656,  0.45765382],\n",
            "       [ 0.4041245 ,  0.22605091,  0.52877086],\n",
            "       [-0.02570683, -0.1278556 ,  0.28057605],\n",
            "       [ 0.07177371,  0.22925395, -0.4167258 ]], dtype=float32)>, <tf.Variable 'first_layer/bias:0' shape=(3,) dtype=float32, numpy=array([0., 0., 0.], dtype=float32)>]\n",
            "[0. 0. 0.]\n",
            "<keras.initializers.initializers_v2.Zeros object at 0x7ff7da4ee550>\n",
            "\n",
            "\n",
            "====SECOND LAYER====\n",
            "\n",
            "\n",
            "[<tf.Variable 'second_layer/kernel:0' shape=(3, 8) dtype=float32, numpy=\n",
            "array([[-0.67010516,  0.6679712 , -0.1410079 ,  0.18963766,  0.21878463,\n",
            "        -0.56489456,  0.18177009,  0.5660685 ],\n",
            "       [-0.46607846,  0.5653487 , -0.5196169 ,  0.6601557 , -0.01003325,\n",
            "        -0.19223756, -0.23073155, -0.61880195],\n",
            "       [-0.34598   , -0.10488713,  0.30300194,  0.50677973,  0.5470275 ,\n",
            "         0.36611038,  0.4502681 ,  0.7306493 ]], dtype=float32)>, <tf.Variable 'second_layer/bias:0' shape=(8,) dtype=float32, numpy=array([0., 0., 0., 0., 0., 0., 0., 0.], dtype=float32)>]\n",
            "[0. 0. 0. 0. 0. 0. 0. 0.]\n",
            "<keras.initializers.initializers_v2.Zeros object at 0x7ff7da510110>\n",
            "\n",
            "\n",
            "====THIRD LAYER====\n",
            "\n",
            "\n",
            "[<tf.Variable 'last_layer/kernel:0' shape=(8, 3) dtype=float32, numpy=\n",
            "array([[-0.33687013,  0.42736095, -0.28779256],\n",
            "       [ 0.00306207, -0.0293389 ,  0.12222749],\n",
            "       [-0.05310494,  0.7124296 ,  0.2130214 ],\n",
            "       [ 0.55033475, -0.39397392, -0.63541365],\n",
            "       [-0.4448919 , -0.08604842, -0.5483844 ],\n",
            "       [-0.16217649, -0.16860586, -0.6667305 ],\n",
            "       [ 0.13512987, -0.52013797, -0.44291025],\n",
            "       [ 0.00434047,  0.1692276 , -0.35427654]], dtype=float32)>, <tf.Variable 'last_layer/bias:0' shape=(3,) dtype=float32, numpy=array([0., 0., 0.], dtype=float32)>]\n",
            "[0. 0. 0.]\n",
            "<keras.initializers.initializers_v2.Zeros object at 0x7ff7da4eaed0>\n"
          ]
        }
      ]
    },
    {
      "cell_type": "markdown",
      "source": [
        "### Obtendo os mesmos dados utilizando nomes das camadas"
      ],
      "metadata": {
        "id": "2MUz5WZJHtX3"
      }
    },
    {
      "cell_type": "code",
      "source": [
        "# firstlayer by name\n",
        "print('====FIRST LAYER====\\n\\n')\n",
        "print((model.get_layer(\"first_layer\").weights))\n",
        "\n",
        "# secondlayer by name\n",
        "print('\\n\\n====SECOND LAYER====\\n\\n')\n",
        "print((model.get_layer(\"second_layer\").weights))\n",
        "\n",
        "# lastlayer by name\n",
        "print('\\n\\n====THIRD LAYER====\\n\\n')\n",
        "print((model.get_layer(\"last_layer\").weights))"
      ],
      "metadata": {
        "colab": {
          "base_uri": "https://localhost:8080/"
        },
        "id": "33TSZ01nHwMQ",
        "outputId": "ddf08373-b2d9-4738-999f-fc34387eb530"
      },
      "execution_count": 93,
      "outputs": [
        {
          "output_type": "stream",
          "name": "stdout",
          "text": [
            "====FIRST LAYER====\n",
            "\n",
            "\n",
            "[<tf.Variable 'first_layer/kernel:0' shape=(16, 3) dtype=float32, numpy=\n",
            "array([[ 0.3407213 ,  0.47621042, -0.0204674 ],\n",
            "       [-0.15494105, -0.31732535,  0.32092577],\n",
            "       [-0.42563546, -0.17505825, -0.46077752],\n",
            "       [ 0.00499326, -0.11910859,  0.19225281],\n",
            "       [-0.55130583,  0.08990467, -0.27329868],\n",
            "       [ 0.44955033,  0.23883295, -0.5236925 ],\n",
            "       [-0.14383173, -0.44860065, -0.08663219],\n",
            "       [ 0.4743697 , -0.07481426, -0.04443675],\n",
            "       [-0.4117088 , -0.13732609,  0.05258298],\n",
            "       [-0.2461414 , -0.46351218, -0.3037366 ],\n",
            "       [-0.19372079, -0.28275645,  0.13317794],\n",
            "       [-0.5374668 , -0.19381231, -0.13618028],\n",
            "       [-0.03925067, -0.20262656,  0.45765382],\n",
            "       [ 0.4041245 ,  0.22605091,  0.52877086],\n",
            "       [-0.02570683, -0.1278556 ,  0.28057605],\n",
            "       [ 0.07177371,  0.22925395, -0.4167258 ]], dtype=float32)>, <tf.Variable 'first_layer/bias:0' shape=(3,) dtype=float32, numpy=array([0., 0., 0.], dtype=float32)>]\n",
            "\n",
            "\n",
            "====SECOND LAYER====\n",
            "\n",
            "\n",
            "[<tf.Variable 'second_layer/kernel:0' shape=(3, 8) dtype=float32, numpy=\n",
            "array([[-0.67010516,  0.6679712 , -0.1410079 ,  0.18963766,  0.21878463,\n",
            "        -0.56489456,  0.18177009,  0.5660685 ],\n",
            "       [-0.46607846,  0.5653487 , -0.5196169 ,  0.6601557 , -0.01003325,\n",
            "        -0.19223756, -0.23073155, -0.61880195],\n",
            "       [-0.34598   , -0.10488713,  0.30300194,  0.50677973,  0.5470275 ,\n",
            "         0.36611038,  0.4502681 ,  0.7306493 ]], dtype=float32)>, <tf.Variable 'second_layer/bias:0' shape=(8,) dtype=float32, numpy=array([0., 0., 0., 0., 0., 0., 0., 0.], dtype=float32)>]\n",
            "\n",
            "\n",
            "====THIRD LAYER====\n",
            "\n",
            "\n",
            "[<tf.Variable 'last_layer/kernel:0' shape=(8, 3) dtype=float32, numpy=\n",
            "array([[-0.33687013,  0.42736095, -0.28779256],\n",
            "       [ 0.00306207, -0.0293389 ,  0.12222749],\n",
            "       [-0.05310494,  0.7124296 ,  0.2130214 ],\n",
            "       [ 0.55033475, -0.39397392, -0.63541365],\n",
            "       [-0.4448919 , -0.08604842, -0.5483844 ],\n",
            "       [-0.16217649, -0.16860586, -0.6667305 ],\n",
            "       [ 0.13512987, -0.52013797, -0.44291025],\n",
            "       [ 0.00434047,  0.1692276 , -0.35427654]], dtype=float32)>, <tf.Variable 'last_layer/bias:0' shape=(3,) dtype=float32, numpy=array([0., 0., 0.], dtype=float32)>]\n"
          ]
        }
      ]
    },
    {
      "cell_type": "code",
      "source": [
        "model.set_weights?"
      ],
      "metadata": {
        "id": "vvrDlxKrDg4Z"
      },
      "execution_count": 94,
      "outputs": []
    },
    {
      "cell_type": "markdown",
      "source": [
        "## Escopo da Pesquisa"
      ],
      "metadata": {
        "id": "EsIi6FpwrkZn"
      }
    },
    {
      "cell_type": "markdown",
      "source": [
        "### Funções de Ativação\n",
        "\n",
        "#### Sigmoid:\n",
        "\n",
        "![Sigmoid funciton](https://miro.medium.com/max/875/1*hYXbd20tIReMJ3T5D4OZLg.png)\n",
        "\n",
        "A função sigmoid está presente apenas por razões históricas. Ela é não linear, mas muito computacionalmente custosa, causa desaparecimento do gradiente e não é centrada em zero.\n",
        "\n",
        "É melhor usada em problemas de classificação binária na última camada da rede.\n",
        "\n",
        "#### Softmax:\n",
        "\n",
        "![Softmax function](https://lh6.googleusercontent.com/3vcfJ5hJhsMZAMFIbQOEycfVW1t6rh1CXt62DeMk8RPPXVzV4vCcURNm_z_F7618uAeSHT7qT7wE_UiK5Ic0b-Eeuunn6iTGeHWbpAaUAP6-G2ePubeGWCb4_TmSapeaimZqvuUs)\n",
        "\n",
        "A função softmax ainda é melhor que a sigmoid, mas é melhor utilizada em problemas de classificação multi-classe.\n",
        "\n",
        "#### Tanh:\n",
        "\n",
        "![tanh graphic](https://production-media.paperswithcode.com/methods/Screen_Shot_2020-05-27_at_4.23.22_PM_dcuMBJl.png)\n",
        "\n",
        "A função tanh resolve um dos problemas das funções anteriores, a de ser centrada em zero.\n",
        "\n",
        "#### ReLU: ReLU (Rectified Linear Unit) is defined as f(x) = max(0,x):\n",
        "\n",
        "![ReLU](https://miro.medium.com/max/788/1*nLGwhQGJRDOnQvluaX-WiQ.png)\n",
        "\n",
        "\"This is a widely used activation function, especially with Convolutional Neural networks. It is easy to compute and does not saturate and does not cause the Vanishing Gradient Problem. It has just one issue of not being zero centred. It suffers from “dying ReLU” problem. Since the output is zero for all negative inputs. It causes some nodes to completely die and not learn anything.\n",
        "\n",
        "Another problem with ReLU is of exploding the activations since it higher limit is, well, inf. This sometimes leads to unusable nodes.\" - Mediun article at [Activation functions](https://towardsdatascience.com/everything-you-need-to-know-about-activation-functions-in-deep-learning-models-84ba9f82c253)\n",
        "\n",
        "#### Leaky ReLU and Parametric ReLU: It is defined as f(x) = max(αx, x)\n",
        "\n",
        "![Leak ReLU](https://miro.medium.com/max/850/1*scA-bQ597yTXJ-417RETAQ.png)\n",
        "\n",
        "\"Here α is a hyperparameter generally set to 0.01. Clearly, Leaky ReLU solves the “dying ReLU” problem to some extent. Note that, if we set α as 1 then Leaky ReLU will become a linear function f(x) = x and will be of no use. Hence, the value of α is never set close to 1. If we set α as a hyperparameter for each neuron separately, we get parametric ReLU or PReLU.\" - Mediun article at [Activation functions](https://towardsdatascience.com/everything-you-need-to-know-about-activation-functions-in-deep-learning-models-84ba9f82c253)\n",
        "\n",
        "![Activation Functions Cheat Sheet](https://static.wixstatic.com/media/8f929f_c90ad7e1f4c54b27b309e58ee2b9c654~mv2.png/v1/fit/w_880%2Ch_685%2Cal_c/file.png)"
      ],
      "metadata": {
        "id": "oziUKZ6krnqI"
      }
    },
    {
      "cell_type": "code",
      "source": [],
      "metadata": {
        "id": "swsFLwOPrpuO"
      },
      "execution_count": 94,
      "outputs": []
    },
    {
      "cell_type": "markdown",
      "source": [
        "## GA class"
      ],
      "metadata": {
        "id": "FdaJAu2tddim"
      }
    },
    {
      "cell_type": "code",
      "source": [
        "class GeneticAlgorithm:\n",
        "  def __init__(self, \n",
        "               objective_function, \n",
        "               initial_population, \n",
        "               max_iterations=100, \n",
        "               seed=\"123\"):\n",
        "    self.objective_function = objective_function\n",
        "    self.initial_population = initial_population\n",
        "    self.max_iterations = max_iterations\n",
        "    self.seed = seed\n",
        "    self.optim_results = None\n",
        "\n",
        "  def train_ga(self):\n",
        "    \"\"\"\n",
        "    This function applies the GA trainning with tensorflow\n",
        "    \"\"\"\n",
        "    self.optim_results = tfp.optimizer.differential_evolution_minimize(\n",
        "          objective_function=self.objective_function,\n",
        "          initial_population=self.initial_population,\n",
        "          max_iterations=self.max_iterations,\n",
        "          seed=self.seed\n",
        "      )\n",
        "\n",
        "  def get_converged_result(self):\n",
        "    \"\"\"\n",
        "    This function returns a boolean tensor depending if the GA had converged\n",
        "    \"\"\"\n",
        "    return self.optim_results.converged\n",
        "\n",
        "  def get_position_result(self):\n",
        "    \"\"\"\n",
        "    This function returns the position of the individuals that had made\n",
        "    the fitness function to minimize during the GA trainning\n",
        "    \"\"\"\n",
        "    return self.optim_results.position\n",
        "  \n",
        "  def get_objective_value(self):\n",
        "    \"\"\"\n",
        "    This function returns the objective value (ideal) of the fitness function\n",
        "    \"\"\"\n",
        "    return self.optim_results.objective_value\n",
        "  \n",
        "  def get_final_population(self):\n",
        "    \"\"\"\n",
        "    This function returns the final population of the individuals at the end\n",
        "    of the GA trainning\n",
        "    \"\"\"\n",
        "    return self.optim_results.final_population \n",
        "  \n",
        "  def get_final_objective_value(self):\n",
        "    \"\"\"\n",
        "    For each of the individuals of the population at the end of the GA execution,\n",
        "    returns the fitness values for each one of them\n",
        "    \"\"\"\n",
        "    return self.optim_results.final_objective_values\n",
        "\n",
        "  def check_time_spent_by_evolutionary_algorithm(self, \n",
        "                                                 population_size: list):\n",
        "    \"\"\"\n",
        "    This function must check the time spent by the evolutionary algorithm\n",
        "    to upgrade the weights of a neural network according to some parameters\n",
        "    given by the function.\n",
        "\n",
        "    ----------------------\n",
        "    PARAMS\n",
        "    ---------------------\n",
        "\n",
        "    - population_size: the number of weights of the neural network. Can be\n",
        "    either a integer number or a list if the user want to variate the\n",
        "    values of 'population_size' parameter to be tested.\n",
        "\n",
        "    \"\"\"\n",
        "\n",
        "    list_of_times = []\n",
        "\n",
        "    if (type(population_size) is list):\n",
        "      for size in population_size:\n",
        "        initial_population = (tf.random.normal([size]))\n",
        "\n",
        "        st = time.time()\n",
        "\n",
        "        optim_results = self.train_ga()\n",
        "        \n",
        "        et = time.time()\n",
        "        time_taken = et - st\n",
        "        list_of_times.append(time_taken)\n",
        "    else:\n",
        "      raise ValueError('If variate_population_size is True, then population_size must be a list of possible values')\n",
        "\n",
        "    return list_of_times"
      ],
      "metadata": {
        "id": "tBD-TIECdfVv"
      },
      "execution_count": 102,
      "outputs": []
    },
    {
      "cell_type": "code",
      "source": [
        "a = tf.random.normal([40])\n",
        "def easom_fn(x):\n",
        "  return -tf.math.sin(x)\n",
        "GA = GeneticAlgorithm(easom_fn, a)"
      ],
      "metadata": {
        "id": "QIU2T9KzeqI2"
      },
      "execution_count": 103,
      "outputs": []
    },
    {
      "cell_type": "code",
      "source": [
        "GA.train_ga()"
      ],
      "metadata": {
        "id": "Vsmnhahne3yy"
      },
      "execution_count": 104,
      "outputs": []
    },
    {
      "cell_type": "code",
      "source": [
        "ps = [10000, 200000, 30000]\n",
        "GA.check_time_spent_by_evolutionary_algorithm(population_size=ps)"
      ],
      "metadata": {
        "id": "Jf5fJtetf51Z",
        "outputId": "47f0e215-7429-49f0-8505-3468e770e4c3",
        "colab": {
          "base_uri": "https://localhost:8080/"
        }
      },
      "execution_count": 105,
      "outputs": [
        {
          "output_type": "execute_result",
          "data": {
            "text/plain": [
              "[0.8771388530731201, 0.49350523948669434, 0.3658323287963867]"
            ]
          },
          "metadata": {},
          "execution_count": 105
        }
      ]
    },
    {
      "cell_type": "markdown",
      "source": [
        "## Sandbox\n",
        "\n",
        "Aqui vai qualquer coisa rs"
      ],
      "metadata": {
        "id": "AqL0oYnIB4co"
      }
    },
    {
      "cell_type": "code",
      "source": [
        "population_size = 40\n",
        "# With an initial population and a multi-part state.\n",
        "initial_population = (tf.random.normal([population_size]))\n",
        "\n",
        "print(f'initial pop: {initial_population}') \n",
        "\n",
        "def easom_fn(x):\n",
        "  return -tf.math.sin(x)\n",
        "\n",
        "st = time.time()\n",
        "\n",
        "optim_results = tfp.optimizer.differential_evolution_minimize(\n",
        "    easom_fn,\n",
        "    initial_population=initial_population,\n",
        "    max_iterations=50,\n",
        "    seed=43210)\n",
        "\n",
        "et = time.time()\n",
        "\n",
        "time_spent = et - st \n",
        "print(f'time spent {time_spent}')\n",
        "\n",
        "print(optim_results.converged)\n",
        "print(optim_results.position)  # Should be (close to) [pi, pi].\n",
        "print(optim_results.objective_value)    # Should be -1.\n",
        "print(optim_results.final_population) # final population\n",
        "print(optim_results.objective_value) # final value of objective fun. on the final position\n",
        "print(optim_results.final_objective_values)\n",
        "\n",
        "# With a single starting point\n",
        "initial_position = (tf.constant(1.0))\n",
        "\n",
        "optim_results = tfp.optimizer.differential_evolution_minimize(\n",
        "                easom_fn,\n",
        "                initial_position=initial_position,\n",
        "                population_size=40,\n",
        "                population_stddev=2.0,\n",
        "                seed=43210)"
      ],
      "metadata": {
        "id": "y8HKshPVssqX",
        "outputId": "792f2ff0-9b18-48de-9fdd-867004e43d46",
        "colab": {
          "base_uri": "https://localhost:8080/"
        }
      },
      "execution_count": 99,
      "outputs": [
        {
          "output_type": "stream",
          "name": "stdout",
          "text": [
            "initial pop: [ 0.37296993 -1.1506643   1.4955581  -0.16510136 -1.1081825   2.3321347\n",
            "  0.433107    0.8484418   0.6577517  -1.075108   -1.7395929   0.57405365\n",
            " -0.1520885   2.1590352   0.0948627  -0.1515702   0.3565315   0.5060957\n",
            " -0.184182   -0.09648258  0.09024584  0.05238824  0.18087251 -0.15689307\n",
            "  2.313519   -0.85932004 -1.2888408  -0.08930822 -0.70389867  0.09037446\n",
            "  0.9981627  -2.1699927   0.11337332 -1.6668417  -1.4235073  -0.20970483\n",
            " -0.93209904 -1.2830836   0.3916125   0.5534058 ]\n",
            "time spent 0.2807161808013916\n",
            "tf.Tensor(True, shape=(), dtype=bool)\n",
            "tf.Tensor(1.570779, shape=(), dtype=float32)\n",
            "tf.Tensor(-1.0, shape=(), dtype=float32)\n",
            "tf.Tensor(\n",
            "[1.570779  1.570991  1.5706712 1.5708269 1.5708101 1.5707356 1.5707283\n",
            " 1.5708303 1.5709738 1.5709186 1.5709817 1.5707268 1.5708717 1.5707504\n",
            " 1.5705597 1.5708005 1.5710329 1.5706813 1.5708302 1.5708973 1.570906\n",
            " 1.571017  1.5708964 1.5708071 1.5706184 1.5709928 1.5706614 1.5708582\n",
            " 1.5709026 1.5708181 1.5708301 1.5707256 1.5708578 1.570848  1.5705568\n",
            " 1.5706666 1.5709509 1.5705581 1.5707128 1.5706791], shape=(40,), dtype=float32)\n",
            "tf.Tensor(-1.0, shape=(), dtype=float32)\n",
            "tf.Tensor(\n",
            "[-1. -1. -1. -1. -1. -1. -1. -1. -1. -1. -1. -1. -1. -1. -1. -1. -1. -1.\n",
            " -1. -1. -1. -1. -1. -1. -1. -1. -1. -1. -1. -1. -1. -1. -1. -1. -1. -1.\n",
            " -1. -1. -1. -1.], shape=(40,), dtype=float32)\n"
          ]
        }
      ]
    },
    {
      "cell_type": "code",
      "source": [
        "np.array(optim_results.position)"
      ],
      "metadata": {
        "id": "OCREEy_is5VT",
        "outputId": "d61de1a9-b83c-46a4-c730-5b47cf54359d",
        "colab": {
          "base_uri": "https://localhost:8080/"
        }
      },
      "execution_count": 100,
      "outputs": [
        {
          "output_type": "execute_result",
          "data": {
            "text/plain": [
              "array(1.5708724, dtype=float32)"
            ]
          },
          "metadata": {},
          "execution_count": 100
        }
      ]
    },
    {
      "cell_type": "markdown",
      "source": [
        "## Referências\n",
        "\n",
        "[Hot to get weights of layers in tensforflow ](https://www.gcptutorials.com/post/how-to-get-weights-of-layers-in-tensorflow)\n",
        "\n",
        "[tf.keras.Sequential](https://www.tensorflow.org/api_docs/python/tf/keras/Sequential)\n",
        "\n",
        "[Guia do tensorflow](https://www.tensorflow.org/guide/keras/sequential_model)\n",
        "\n",
        "[Tutoriasi do tensorflow](https://www.tensorflow.org/tutorials)"
      ],
      "metadata": {
        "id": "Y-rzNF3dH_T5"
      }
    }
  ],
  "metadata": {
    "language_info": {
      "name": "python"
    },
    "orig_nbformat": 4,
    "colab": {
      "name": "first_implementations.ipynb",
      "provenance": [],
      "include_colab_link": true
    },
    "kernelspec": {
      "name": "python3",
      "display_name": "Python 3"
    },
    "gpuClass": "standard"
  },
  "nbformat": 4,
  "nbformat_minor": 0
}