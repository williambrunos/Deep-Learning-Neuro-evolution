{
  "cells": [
    {
      "cell_type": "markdown",
      "metadata": {
        "id": "view-in-github",
        "colab_type": "text"
      },
      "source": [
        "<a href=\"https://colab.research.google.com/github/williambrunos/Deep-Learning-Neuro-evolution/blob/main/First_Implementations/first_implementations.ipynb\" target=\"_parent\"><img src=\"https://colab.research.google.com/assets/colab-badge.svg\" alt=\"Open In Colab\"/></a>"
      ]
    },
    {
      "cell_type": "markdown",
      "metadata": {
        "id": "D4zAOEssmVe5"
      },
      "source": [
        "# First Implementations with tensorflow\n",
        "\n",
        "## Abstract\n",
        "\n",
        "This notebook tries to implement some neural netowork used to solve some problem and tries to evolve the weights of it using neural evolution, implemented with [tensorflow](https://www.tensorflow.org/probability/api_docs/python/tfp/optimizer/differential_evolution_minimize)\n",
        "\n",
        "````Python\n",
        "tfp.optimizer.differential_evolution_minimize(\n",
        "    objective_function,\n",
        "    initial_population=None,\n",
        "    initial_position=None,\n",
        "    population_size=50,\n",
        "    population_stddev=1.0,\n",
        "    max_iterations=100,\n",
        "    func_tolerance=0,\n",
        "    position_tolerance=1e-08,\n",
        "    differential_weight=0.5,\n",
        "    crossover_prob=0.9,\n",
        "    seed=None,\n",
        "    name=None\n",
        ")\n",
        "````\n",
        "\n",
        "**obs**: if you read the documentation of this function, you'll see that the evolutionary algorithm will try to minimize the objective function, rather than maximize it. Because of this, it's important to implement a objective function with the negative value of the mathmatical expression.\n",
        "\n",
        "\"A candidate s_1 is considered better than s_2 if f(s_1) < f(s_2).\" - The function documentation"
      ]
    },
    {
      "cell_type": "markdown",
      "source": [
        "We can use as a base example:\n",
        "\n",
        "````Python\n",
        "population_size = 40\n",
        "  # With an initial population and a multi-part state.\n",
        "  initial_population = (tf.random.normal([population_size]),\n",
        "                        tf.random.normal([population_size]))\n",
        "  def easom_fn(x, y):\n",
        "    return -(tf.math.cos(x) * tf.math.cos(y) *\n",
        "             tf.math.exp(-(x-np.pi)**2 - (y-np.pi)**2))\n",
        "\n",
        "  optim_results = tfp.optimizer.differential_evolution_minimize(\n",
        "      easom_fn,\n",
        "      initial_population=initial_population,\n",
        "      seed=43210)\n",
        "\n",
        "  print(optim_results.converged)\n",
        "  print(optim_results.position)  # Should be (close to) [pi, pi].\n",
        "  print(optim_results.objective_value)    # Should be -1.\n",
        "\n",
        "\n",
        "  # With a single starting point\n",
        "  initial_position = (tf.constant(1.0), tf.constant(1.0))\n",
        "\n",
        "  optim_results = tfp.optimizer.differential_evolution_minimize(\n",
        "      easom_fn,\n",
        "      initial_position=initial_position,\n",
        "      population_size=40,\n",
        "      population_stddev=2.0,\n",
        "      seed=43210)\n",
        "````"
      ],
      "metadata": {
        "id": "yngWkhQf4QZF"
      }
    },
    {
      "cell_type": "markdown",
      "source": [
        "## Importações Necessárias"
      ],
      "metadata": {
        "id": "XNkiTiYdI-Pi"
      }
    },
    {
      "cell_type": "code",
      "source": [
        "import tensorflow as tf\n",
        "import tensorflow_probability as tfp\n",
        "import time\n",
        "\n",
        "import pandas as pd\n",
        "import numpy as np\n",
        "import matplotlib.pyplot as plt\n",
        "import seaborn as sns\n",
        "\n",
        "%matplotlib inline"
      ],
      "metadata": {
        "id": "x3i76T1am6Be"
      },
      "execution_count": 1,
      "outputs": []
    },
    {
      "cell_type": "markdown",
      "source": [
        "## Função de teste de tempo da evolução"
      ],
      "metadata": {
        "id": "dI-4xofaJBPQ"
      }
    },
    {
      "cell_type": "code",
      "source": [
        "def check_time_spent_by_evolutionary_algorithm(population_size,\n",
        "                                               objective_function: object,\n",
        "                                               max_iterations: int,\n",
        "                                               variate_population_size: bool,\n",
        "                                               seed=0):\n",
        "  \"\"\"\n",
        "  This function must check the time spent by the evolutionary algorithm\n",
        "  to upgrade the weights of a neural network according to some parameters\n",
        "  given by the function.\n",
        "\n",
        "  ----------------------\n",
        "  PARAMS\n",
        "  ---------------------\n",
        "\n",
        "  - population_size: the number of weights of the neural network. Can be\n",
        "  either a integer number or a list if the user want to variate the\n",
        "  values of 'population_size' parameter to be tested.\n",
        "\n",
        "  \"\"\"\n",
        "\n",
        "  list_of_times = []\n",
        "\n",
        "  if ((variate_population_size == True) and (type(population_size) is list)):\n",
        "    for size in population_size:\n",
        "      initial_population = (tf.random.normal([size]))\n",
        "\n",
        "      st = time.time()\n",
        "\n",
        "      optim_results = tfp.optimizer.differential_evolution_minimize(\n",
        "          objective_function=objective_function,\n",
        "          initial_population=initial_population,\n",
        "          max_iterations=max_iterations,\n",
        "          seed=seed\n",
        "      )\n",
        "      \n",
        "      et = time.time()\n",
        "      time_taken = et - st\n",
        "      list_of_times.append(time_taken)\n",
        "  else:\n",
        "    raise ValueError('If variate_population_size is True, then population_size must be a list of possible values')\n",
        "\n",
        "  return list_of_times"
      ],
      "metadata": {
        "id": "MNocA4nJ4dK5"
      },
      "execution_count": 2,
      "outputs": []
    },
    {
      "cell_type": "markdown",
      "source": [
        "### Implementando a função de teste"
      ],
      "metadata": {
        "id": "Ck1PY1DNJEZc"
      }
    },
    {
      "cell_type": "code",
      "source": [
        "obj_func = lambda x: -(tf.math.sin(x) + tf.math.cos(x))\n",
        "\n",
        "population_size_list = [100000, 200000, 300000, 400000, 500000, 600000, 700000, 800000, 900000, 1000000]\n",
        "\n",
        "time_spent = check_time_spent_by_evolutionary_algorithm(population_size=population_size_list,\n",
        "                                                        objective_function=obj_func, \n",
        "                                                        max_iterations=50,\n",
        "                                                        variate_population_size=True,\n",
        "                                                        seed=0)"
      ],
      "metadata": {
        "id": "5nlVfLf6CKcs"
      },
      "execution_count": 3,
      "outputs": []
    },
    {
      "cell_type": "markdown",
      "source": [
        "### Visualizando os resultados"
      ],
      "metadata": {
        "id": "M3vI5nAPJGcV"
      }
    },
    {
      "cell_type": "code",
      "source": [
        "fig, ax = plt.subplots(nrows=1, ncols=1, figsize=(10, 6))\n",
        "\n",
        "ax.set_title('Time spent by the algorithm VS input size', fontsize=14)\n",
        "\n",
        "ax.set_xlabel('population_size', fontsize=14)\n",
        "\n",
        "ax.set_ylabel('time spent (seconds)', fontsize=14)\n",
        "# ax.plot(population_size_list, time_spent)\n",
        "sns.scatterplot(x=population_size_list, y=time_spent, ax=ax)\n",
        "\n",
        "sns.despine()\n",
        "plt.show()"
      ],
      "metadata": {
        "id": "chsQIf6EgZp0",
        "outputId": "5d62a2cf-4d46-49da-9101-dbf1c1ef875e",
        "colab": {
          "base_uri": "https://localhost:8080/",
          "height": 409
        }
      },
      "execution_count": 4,
      "outputs": [
        {
          "output_type": "display_data",
          "data": {
            "text/plain": [
              "<Figure size 720x432 with 1 Axes>"
            ],
            "image/png": "[encoded data removed]"
          },
          "metadata": {
            "needs_background": "light"
          }
        }
      ]
    },
    {
      "cell_type": "markdown",
      "source": [
        "##  Implementando uma rede neural"
      ],
      "metadata": {
        "id": "zszA0gMsFkWN"
      }
    },
    {
      "cell_type": "markdown",
      "source": [
        "### Instanciando uma sequência de layers usando `tf.keras.Sequential`"
      ],
      "metadata": {
        "id": "qVhJfzagGFVj"
      }
    },
    {
      "cell_type": "code",
      "source": [
        "model = tf.keras.Sequential([\n",
        "    tf.keras.layers.Dense(3, activation='relu', name='first_layer', input_shape=(16, )),\n",
        "    tf.keras.layers.Dense(8, activation='tanh', name='second_layer'),\n",
        "    tf.keras.layers.Dense(3, name='last_layer')\n",
        "])"
      ],
      "metadata": {
        "id": "DcLIh23FFjxF"
      },
      "execution_count": 5,
      "outputs": []
    },
    {
      "cell_type": "code",
      "source": [
        "model.summary()"
      ],
      "metadata": {
        "id": "6Zhom8pSNDug",
        "outputId": "208b3899-f19c-4fe3-e759-58838bfdb7ba",
        "colab": {
          "base_uri": "https://localhost:8080/"
        }
      },
      "execution_count": 6,
      "outputs": [
        {
          "output_type": "stream",
          "name": "stdout",
          "text": [
            "Model: \"sequential\"\n",
            "_________________________________________________________________\n",
            " Layer (type)                Output Shape              Param #   \n",
            "=================================================================\n",
            " first_layer (Dense)         (None, 3)                 51        \n",
            "                                                                 \n",
            " second_layer (Dense)        (None, 8)                 32        \n",
            "                                                                 \n",
            " last_layer (Dense)          (None, 3)                 27        \n",
            "                                                                 \n",
            "=================================================================\n",
            "Total params: 110\n",
            "Trainable params: 110\n",
            "Non-trainable params: 0\n",
            "_________________________________________________________________\n"
          ]
        }
      ]
    },
    {
      "cell_type": "code",
      "source": [
        "model.weights"
      ],
      "metadata": {
        "id": "159sYacZqEt6",
        "outputId": "5c77fea1-3e8e-48dd-a401-9ac296ee8705",
        "colab": {
          "base_uri": "https://localhost:8080/"
        }
      },
      "execution_count": 7,
      "outputs": [
        {
          "output_type": "execute_result",
          "data": {
            "text/plain": [
              "[<tf.Variable 'first_layer/kernel:0' shape=(16, 3) dtype=float32, numpy=\n",
              " array([[-0.12098297, -0.10808006, -0.49495506],\n",
              "        [ 0.10842854,  0.19255543,  0.43601698],\n",
              "        [-0.40727997, -0.22791243,  0.22277749],\n",
              "        [-0.54229087, -0.39840758,  0.03016341],\n",
              "        [ 0.15372962,  0.00802028, -0.05170184],\n",
              "        [ 0.16634071,  0.13202798,  0.31320614],\n",
              "        [ 0.2714088 , -0.01534802, -0.00458628],\n",
              "        [ 0.19089127, -0.08592331,  0.49838036],\n",
              "        [ 0.25570446,  0.5093667 , -0.2521224 ],\n",
              "        [ 0.325198  ,  0.4665782 ,  0.5477876 ],\n",
              "        [-0.48825783, -0.19727474, -0.28434223],\n",
              "        [-0.5480576 ,  0.46143728,  0.0041523 ],\n",
              "        [ 0.17577207,  0.52151304, -0.09140199],\n",
              "        [-0.28029644,  0.0117057 ,  0.22737825],\n",
              "        [-0.21132547,  0.34967583,  0.5553593 ],\n",
              "        [-0.23537454, -0.04154694,  0.20713109]], dtype=float32)>,\n",
              " <tf.Variable 'first_layer/bias:0' shape=(3,) dtype=float32, numpy=array([0., 0., 0.], dtype=float32)>,\n",
              " <tf.Variable 'second_layer/kernel:0' shape=(3, 8) dtype=float32, numpy=\n",
              " array([[-0.45255575, -0.10515618, -0.06361115, -0.5226905 , -0.2660765 ,\n",
              "         -0.5943905 , -0.60894054, -0.02147764],\n",
              "        [-0.00894397, -0.3789008 , -0.43927586,  0.6014158 ,  0.05964929,\n",
              "          0.39786452,  0.27168745, -0.5572582 ],\n",
              "        [-0.00740695, -0.62539905,  0.17983752,  0.50529677,  0.5970158 ,\n",
              "          0.51250213, -0.2673961 ,  0.7122651 ]], dtype=float32)>,\n",
              " <tf.Variable 'second_layer/bias:0' shape=(8,) dtype=float32, numpy=array([0., 0., 0., 0., 0., 0., 0., 0.], dtype=float32)>,\n",
              " <tf.Variable 'last_layer/kernel:0' shape=(8, 3) dtype=float32, numpy=\n",
              " array([[ 0.31102616,  0.10905361,  0.4929629 ],\n",
              "        [-0.3617321 ,  0.6179567 ,  0.5290018 ],\n",
              "        [ 0.5521869 ,  0.01392138, -0.2913542 ],\n",
              "        [-0.13021308,  0.6165646 ,  0.08518052],\n",
              "        [-0.05963218, -0.5046699 , -0.43373874],\n",
              "        [ 0.56852454,  0.6120146 ,  0.21695405],\n",
              "        [ 0.69611675,  0.545253  ,  0.7084426 ],\n",
              "        [ 0.23992419,  0.5769642 ,  0.37397295]], dtype=float32)>,\n",
              " <tf.Variable 'last_layer/bias:0' shape=(3,) dtype=float32, numpy=array([0., 0., 0.], dtype=float32)>]"
            ]
          },
          "metadata": {},
          "execution_count": 7
        }
      ]
    },
    {
      "cell_type": "markdown",
      "source": [
        "### Buildando o modelo utilizando um input"
      ],
      "metadata": {
        "id": "Sx2jqWwCGLrD"
      }
    },
    {
      "cell_type": "code",
      "source": [
        "input = tf.random.normal((1, 16))\n",
        "output = model(input)\n",
        "print(output)\n",
        "print(model.weights)"
      ],
      "metadata": {
        "colab": {
          "base_uri": "https://localhost:8080/"
        },
        "id": "FHvTrp-hGAOZ",
        "outputId": "7d4a3987-ad6b-464e-a833-f9adc4fa3bea"
      },
      "execution_count": 8,
      "outputs": [
        {
          "output_type": "stream",
          "name": "stdout",
          "text": [
            "tf.Tensor([[0.01276741 0.02354996 0.00264769]], shape=(1, 3), dtype=float32)\n",
            "[<tf.Variable 'first_layer/kernel:0' shape=(16, 3) dtype=float32, numpy=\n",
            "array([[-0.12098297, -0.10808006, -0.49495506],\n",
            "       [ 0.10842854,  0.19255543,  0.43601698],\n",
            "       [-0.40727997, -0.22791243,  0.22277749],\n",
            "       [-0.54229087, -0.39840758,  0.03016341],\n",
            "       [ 0.15372962,  0.00802028, -0.05170184],\n",
            "       [ 0.16634071,  0.13202798,  0.31320614],\n",
            "       [ 0.2714088 , -0.01534802, -0.00458628],\n",
            "       [ 0.19089127, -0.08592331,  0.49838036],\n",
            "       [ 0.25570446,  0.5093667 , -0.2521224 ],\n",
            "       [ 0.325198  ,  0.4665782 ,  0.5477876 ],\n",
            "       [-0.48825783, -0.19727474, -0.28434223],\n",
            "       [-0.5480576 ,  0.46143728,  0.0041523 ],\n",
            "       [ 0.17577207,  0.52151304, -0.09140199],\n",
            "       [-0.28029644,  0.0117057 ,  0.22737825],\n",
            "       [-0.21132547,  0.34967583,  0.5553593 ],\n",
            "       [-0.23537454, -0.04154694,  0.20713109]], dtype=float32)>, <tf.Variable 'first_layer/bias:0' shape=(3,) dtype=float32, numpy=array([0., 0., 0.], dtype=float32)>, <tf.Variable 'second_layer/kernel:0' shape=(3, 8) dtype=float32, numpy=\n",
            "array([[-0.45255575, -0.10515618, -0.06361115, -0.5226905 , -0.2660765 ,\n",
            "        -0.5943905 , -0.60894054, -0.02147764],\n",
            "       [-0.00894397, -0.3789008 , -0.43927586,  0.6014158 ,  0.05964929,\n",
            "         0.39786452,  0.27168745, -0.5572582 ],\n",
            "       [-0.00740695, -0.62539905,  0.17983752,  0.50529677,  0.5970158 ,\n",
            "         0.51250213, -0.2673961 ,  0.7122651 ]], dtype=float32)>, <tf.Variable 'second_layer/bias:0' shape=(8,) dtype=float32, numpy=array([0., 0., 0., 0., 0., 0., 0., 0.], dtype=float32)>, <tf.Variable 'last_layer/kernel:0' shape=(8, 3) dtype=float32, numpy=\n",
            "array([[ 0.31102616,  0.10905361,  0.4929629 ],\n",
            "       [-0.3617321 ,  0.6179567 ,  0.5290018 ],\n",
            "       [ 0.5521869 ,  0.01392138, -0.2913542 ],\n",
            "       [-0.13021308,  0.6165646 ,  0.08518052],\n",
            "       [-0.05963218, -0.5046699 , -0.43373874],\n",
            "       [ 0.56852454,  0.6120146 ,  0.21695405],\n",
            "       [ 0.69611675,  0.545253  ,  0.7084426 ],\n",
            "       [ 0.23992419,  0.5769642 ,  0.37397295]], dtype=float32)>, <tf.Variable 'last_layer/bias:0' shape=(3,) dtype=float32, numpy=array([0., 0., 0.], dtype=float32)>]\n"
          ]
        }
      ]
    },
    {
      "cell_type": "markdown",
      "source": [
        "### Iterando por todas as camadas do modelo"
      ],
      "metadata": {
        "id": "rKHxFtdFGhpd"
      }
    },
    {
      "cell_type": "code",
      "source": [
        "for layer in model.layers:\n",
        "  print(layer.name, layer)"
      ],
      "metadata": {
        "colab": {
          "base_uri": "https://localhost:8080/"
        },
        "id": "r5SGqvqpGVv-",
        "outputId": "31558e19-00e1-4454-fa8c-64982878ac51"
      },
      "execution_count": 9,
      "outputs": [
        {
          "output_type": "stream",
          "name": "stdout",
          "text": [
            "first_layer <keras.layers.core.dense.Dense object at 0x7f6ee0c56ed0>\n",
            "second_layer <keras.layers.core.dense.Dense object at 0x7f6ee12047d0>\n",
            "last_layer <keras.layers.core.dense.Dense object at 0x7f6ee1107fd0>\n"
          ]
        }
      ]
    },
    {
      "cell_type": "markdown",
      "source": [
        "### Obtendo pesos, viéses e inicializadores de viéses"
      ],
      "metadata": {
        "id": "ydSGp_xEGfRp"
      }
    },
    {
      "cell_type": "code",
      "source": [
        "# first layer\n",
        "print('====FIRST LAYER====\\n\\n')\n",
        "print(model.layers[0].weights)\n",
        "print(model.layers[0].bias.numpy())\n",
        "print(model.layers[0].bias_initializer)\n",
        "\n",
        "# second layer\n",
        "print('\\n\\n====SECOND LAYER====\\n\\n')\n",
        "print(model.layers[1].weights)\n",
        "print(model.layers[1].bias.numpy())\n",
        "print(model.layers[1].bias_initializer)\n",
        "\n",
        "# third layer\n",
        "print('\\n\\n====THIRD LAYER====\\n\\n')\n",
        "print(model.layers[2].weights)\n",
        "print(model.layers[2].bias.numpy())\n",
        "print(model.layers[2].bias_initializer)"
      ],
      "metadata": {
        "colab": {
          "base_uri": "https://localhost:8080/"
        },
        "id": "VwiP9n2VGWus",
        "outputId": "59ff9a06-11ab-402e-a699-2768adeb5386"
      },
      "execution_count": 10,
      "outputs": [
        {
          "output_type": "stream",
          "name": "stdout",
          "text": [
            "====FIRST LAYER====\n",
            "\n",
            "\n",
            "[<tf.Variable 'first_layer/kernel:0' shape=(16, 3) dtype=float32, numpy=\n",
            "array([[-0.12098297, -0.10808006, -0.49495506],\n",
            "       [ 0.10842854,  0.19255543,  0.43601698],\n",
            "       [-0.40727997, -0.22791243,  0.22277749],\n",
            "       [-0.54229087, -0.39840758,  0.03016341],\n",
            "       [ 0.15372962,  0.00802028, -0.05170184],\n",
            "       [ 0.16634071,  0.13202798,  0.31320614],\n",
            "       [ 0.2714088 , -0.01534802, -0.00458628],\n",
            "       [ 0.19089127, -0.08592331,  0.49838036],\n",
            "       [ 0.25570446,  0.5093667 , -0.2521224 ],\n",
            "       [ 0.325198  ,  0.4665782 ,  0.5477876 ],\n",
            "       [-0.48825783, -0.19727474, -0.28434223],\n",
            "       [-0.5480576 ,  0.46143728,  0.0041523 ],\n",
            "       [ 0.17577207,  0.52151304, -0.09140199],\n",
            "       [-0.28029644,  0.0117057 ,  0.22737825],\n",
            "       [-0.21132547,  0.34967583,  0.5553593 ],\n",
            "       [-0.23537454, -0.04154694,  0.20713109]], dtype=float32)>, <tf.Variable 'first_layer/bias:0' shape=(3,) dtype=float32, numpy=array([0., 0., 0.], dtype=float32)>]\n",
            "[0. 0. 0.]\n",
            "<keras.initializers.initializers_v2.Zeros object at 0x7f6ee1218e50>\n",
            "\n",
            "\n",
            "====SECOND LAYER====\n",
            "\n",
            "\n",
            "[<tf.Variable 'second_layer/kernel:0' shape=(3, 8) dtype=float32, numpy=\n",
            "array([[-0.45255575, -0.10515618, -0.06361115, -0.5226905 , -0.2660765 ,\n",
            "        -0.5943905 , -0.60894054, -0.02147764],\n",
            "       [-0.00894397, -0.3789008 , -0.43927586,  0.6014158 ,  0.05964929,\n",
            "         0.39786452,  0.27168745, -0.5572582 ],\n",
            "       [-0.00740695, -0.62539905,  0.17983752,  0.50529677,  0.5970158 ,\n",
            "         0.51250213, -0.2673961 ,  0.7122651 ]], dtype=float32)>, <tf.Variable 'second_layer/bias:0' shape=(8,) dtype=float32, numpy=array([0., 0., 0., 0., 0., 0., 0., 0.], dtype=float32)>]\n",
            "[0. 0. 0. 0. 0. 0. 0. 0.]\n",
            "<keras.initializers.initializers_v2.Zeros object at 0x7f6ee11070d0>\n",
            "\n",
            "\n",
            "====THIRD LAYER====\n",
            "\n",
            "\n",
            "[<tf.Variable 'last_layer/kernel:0' shape=(8, 3) dtype=float32, numpy=\n",
            "array([[ 0.31102616,  0.10905361,  0.4929629 ],\n",
            "       [-0.3617321 ,  0.6179567 ,  0.5290018 ],\n",
            "       [ 0.5521869 ,  0.01392138, -0.2913542 ],\n",
            "       [-0.13021308,  0.6165646 ,  0.08518052],\n",
            "       [-0.05963218, -0.5046699 , -0.43373874],\n",
            "       [ 0.56852454,  0.6120146 ,  0.21695405],\n",
            "       [ 0.69611675,  0.545253  ,  0.7084426 ],\n",
            "       [ 0.23992419,  0.5769642 ,  0.37397295]], dtype=float32)>, <tf.Variable 'last_layer/bias:0' shape=(3,) dtype=float32, numpy=array([0., 0., 0.], dtype=float32)>]\n",
            "[0. 0. 0.]\n",
            "<keras.initializers.initializers_v2.Zeros object at 0x7f6ee0c5e650>\n"
          ]
        }
      ]
    },
    {
      "cell_type": "markdown",
      "source": [
        "### Obtendo os mesmos dados utilizando nomes das camadas"
      ],
      "metadata": {
        "id": "2MUz5WZJHtX3"
      }
    },
    {
      "cell_type": "code",
      "source": [
        "# firstlayer by name\n",
        "print('====FIRST LAYER====\\n\\n')\n",
        "print((model.get_layer(\"first_layer\").weights))\n",
        "\n",
        "# secondlayer by name\n",
        "print('\\n\\n====SECOND LAYER====\\n\\n')\n",
        "print((model.get_layer(\"second_layer\").weights))\n",
        "\n",
        "# lastlayer by name\n",
        "print('\\n\\n====THIRD LAYER====\\n\\n')\n",
        "print((model.get_layer(\"last_layer\").weights))"
      ],
      "metadata": {
        "colab": {
          "base_uri": "https://localhost:8080/"
        },
        "id": "33TSZ01nHwMQ",
        "outputId": "6865917f-9121-47b8-f8e1-066e7332f4f4"
      },
      "execution_count": 11,
      "outputs": [
        {
          "output_type": "stream",
          "name": "stdout",
          "text": [
            "====FIRST LAYER====\n",
            "\n",
            "\n",
            "[<tf.Variable 'first_layer/kernel:0' shape=(16, 3) dtype=float32, numpy=\n",
            "array([[-0.12098297, -0.10808006, -0.49495506],\n",
            "       [ 0.10842854,  0.19255543,  0.43601698],\n",
            "       [-0.40727997, -0.22791243,  0.22277749],\n",
            "       [-0.54229087, -0.39840758,  0.03016341],\n",
            "       [ 0.15372962,  0.00802028, -0.05170184],\n",
            "       [ 0.16634071,  0.13202798,  0.31320614],\n",
            "       [ 0.2714088 , -0.01534802, -0.00458628],\n",
            "       [ 0.19089127, -0.08592331,  0.49838036],\n",
            "       [ 0.25570446,  0.5093667 , -0.2521224 ],\n",
            "       [ 0.325198  ,  0.4665782 ,  0.5477876 ],\n",
            "       [-0.48825783, -0.19727474, -0.28434223],\n",
            "       [-0.5480576 ,  0.46143728,  0.0041523 ],\n",
            "       [ 0.17577207,  0.52151304, -0.09140199],\n",
            "       [-0.28029644,  0.0117057 ,  0.22737825],\n",
            "       [-0.21132547,  0.34967583,  0.5553593 ],\n",
            "       [-0.23537454, -0.04154694,  0.20713109]], dtype=float32)>, <tf.Variable 'first_layer/bias:0' shape=(3,) dtype=float32, numpy=array([0., 0., 0.], dtype=float32)>]\n",
            "\n",
            "\n",
            "====SECOND LAYER====\n",
            "\n",
            "\n",
            "[<tf.Variable 'second_layer/kernel:0' shape=(3, 8) dtype=float32, numpy=\n",
            "array([[-0.45255575, -0.10515618, -0.06361115, -0.5226905 , -0.2660765 ,\n",
            "        -0.5943905 , -0.60894054, -0.02147764],\n",
            "       [-0.00894397, -0.3789008 , -0.43927586,  0.6014158 ,  0.05964929,\n",
            "         0.39786452,  0.27168745, -0.5572582 ],\n",
            "       [-0.00740695, -0.62539905,  0.17983752,  0.50529677,  0.5970158 ,\n",
            "         0.51250213, -0.2673961 ,  0.7122651 ]], dtype=float32)>, <tf.Variable 'second_layer/bias:0' shape=(8,) dtype=float32, numpy=array([0., 0., 0., 0., 0., 0., 0., 0.], dtype=float32)>]\n",
            "\n",
            "\n",
            "====THIRD LAYER====\n",
            "\n",
            "\n",
            "[<tf.Variable 'last_layer/kernel:0' shape=(8, 3) dtype=float32, numpy=\n",
            "array([[ 0.31102616,  0.10905361,  0.4929629 ],\n",
            "       [-0.3617321 ,  0.6179567 ,  0.5290018 ],\n",
            "       [ 0.5521869 ,  0.01392138, -0.2913542 ],\n",
            "       [-0.13021308,  0.6165646 ,  0.08518052],\n",
            "       [-0.05963218, -0.5046699 , -0.43373874],\n",
            "       [ 0.56852454,  0.6120146 ,  0.21695405],\n",
            "       [ 0.69611675,  0.545253  ,  0.7084426 ],\n",
            "       [ 0.23992419,  0.5769642 ,  0.37397295]], dtype=float32)>, <tf.Variable 'last_layer/bias:0' shape=(3,) dtype=float32, numpy=array([0., 0., 0.], dtype=float32)>]\n"
          ]
        }
      ]
    },
    {
      "cell_type": "code",
      "source": [
        "model.set_weights?"
      ],
      "metadata": {
        "id": "vvrDlxKrDg4Z"
      },
      "execution_count": 12,
      "outputs": []
    },
    {
      "cell_type": "markdown",
      "source": [
        "## Escopo da Pesquisa"
      ],
      "metadata": {
        "id": "EsIi6FpwrkZn"
      }
    },
    {
      "cell_type": "markdown",
      "source": [
        "### Funções de Ativação\n",
        "\n",
        "#### Sigmoid:\n",
        "\n",
        "![Sigmoid funciton](https://miro.medium.com/max/875/1*hYXbd20tIReMJ3T5D4OZLg.png)\n",
        "\n",
        "A função sigmoid está presente apenas por razões históricas. Ela é não linear, mas muito computacionalmente custosa, causa desaparecimento do gradiente e não é centrada em zero.\n",
        "\n",
        "É melhor usada em problemas de classificação binária na última camada da rede.\n",
        "\n",
        "#### Softmax:\n",
        "\n",
        "![Softmax function](https://lh6.googleusercontent.com/3vcfJ5hJhsMZAMFIbQOEycfVW1t6rh1CXt62DeMk8RPPXVzV4vCcURNm_z_F7618uAeSHT7qT7wE_UiK5Ic0b-Eeuunn6iTGeHWbpAaUAP6-G2ePubeGWCb4_TmSapeaimZqvuUs)\n",
        "\n",
        "A função softmax ainda é melhor que a sigmoid, mas é melhor utilizada em problemas de classificação multi-classe.\n",
        "\n",
        "#### Tanh:\n",
        "\n",
        "![tanh graphic](https://production-media.paperswithcode.com/methods/Screen_Shot_2020-05-27_at_4.23.22_PM_dcuMBJl.png)\n",
        "\n",
        "A função tanh resolve um dos problemas das funções anteriores, a de ser centrada em zero.\n",
        "\n",
        "#### ReLU: ReLU (Rectified Linear Unit) is defined as f(x) = max(0,x):\n",
        "\n",
        "![ReLU](https://miro.medium.com/max/788/1*nLGwhQGJRDOnQvluaX-WiQ.png)\n",
        "\n",
        "\"This is a widely used activation function, especially with Convolutional Neural networks. It is easy to compute and does not saturate and does not cause the Vanishing Gradient Problem. It has just one issue of not being zero centred. It suffers from “dying ReLU” problem. Since the output is zero for all negative inputs. It causes some nodes to completely die and not learn anything.\n",
        "\n",
        "Another problem with ReLU is of exploding the activations since it higher limit is, well, inf. This sometimes leads to unusable nodes.\" - Mediun article at [Activation functions](https://towardsdatascience.com/everything-you-need-to-know-about-activation-functions-in-deep-learning-models-84ba9f82c253)\n",
        "\n",
        "#### Leaky ReLU and Parametric ReLU: It is defined as f(x) = max(αx, x)\n",
        "\n",
        "![Leak ReLU](https://miro.medium.com/max/850/1*scA-bQ597yTXJ-417RETAQ.png)\n",
        "\n",
        "\"Here α is a hyperparameter generally set to 0.01. Clearly, Leaky ReLU solves the “dying ReLU” problem to some extent. Note that, if we set α as 1 then Leaky ReLU will become a linear function f(x) = x and will be of no use. Hence, the value of α is never set close to 1. If we set α as a hyperparameter for each neuron separately, we get parametric ReLU or PReLU.\" - Mediun article at [Activation functions](https://towardsdatascience.com/everything-you-need-to-know-about-activation-functions-in-deep-learning-models-84ba9f82c253)\n",
        "\n",
        "![Activation Functions Cheat Sheet](https://static.wixstatic.com/media/8f929f_c90ad7e1f4c54b27b309e58ee2b9c654~mv2.png/v1/fit/w_880%2Ch_685%2Cal_c/file.png)"
      ],
      "metadata": {
        "id": "oziUKZ6krnqI"
      }
    },
    {
      "cell_type": "code",
      "source": [],
      "metadata": {
        "id": "swsFLwOPrpuO"
      },
      "execution_count": 12,
      "outputs": []
    },
    {
      "cell_type": "markdown",
      "source": [
        "## Sandbox\n",
        "\n",
        "Aqui vai qualquer coisa rs"
      ],
      "metadata": {
        "id": "AqL0oYnIB4co"
      }
    },
    {
      "cell_type": "code",
      "source": [
        "population_size = 40\n",
        "# With an initial population and a multi-part state.\n",
        "initial_population = (tf.random.normal([population_size]))\n",
        "\n",
        "print(f'initial pop: {initial_population}') \n",
        "\n",
        "def easom_fn(x):\n",
        "  return -tf.math.sin(x)\n",
        "\n",
        "st = time.time()\n",
        "\n",
        "optim_results = tfp.optimizer.differential_evolution_minimize(\n",
        "    easom_fn,\n",
        "    initial_population=initial_population,\n",
        "    max_iterations=50,\n",
        "    seed=43210)\n",
        "\n",
        "et = time.time()\n",
        "\n",
        "time_spent = et - st \n",
        "print(f'time spent {time_spent}')\n",
        "\n",
        "print(optim_results.converged)\n",
        "print(optim_results.position)  # Should be (close to) [pi, pi].\n",
        "print(optim_results.objective_value)    # Should be -1.\n",
        "print(optim_results.final_population) # final population\n",
        "print(optim_results.objective_value) # final value of objective fun. on the final position\n",
        "print(optim_results.final_objective_values)\n",
        "\n",
        "# With a single starting point\n",
        "initial_position = (tf.constant(1.0))\n",
        "\n",
        "optim_results = tfp.optimizer.differential_evolution_minimize(\n",
        "                easom_fn,\n",
        "                initial_position=initial_position,\n",
        "                population_size=40,\n",
        "                population_stddev=2.0,\n",
        "                seed=43210)"
      ],
      "metadata": {
        "id": "y8HKshPVssqX",
        "outputId": "17404618-5437-4d46-81f6-05a8674be0eb",
        "colab": {
          "base_uri": "https://localhost:8080/"
        }
      },
      "execution_count": 13,
      "outputs": [
        {
          "output_type": "stream",
          "name": "stdout",
          "text": [
            "initial pop: [ 1.9215102  -2.1967776  -0.25400764 -1.1180905   1.7135704   0.5837339\n",
            " -1.2911673   0.21578379  0.04239525 -1.9633121  -0.22099496 -1.0348018\n",
            "  0.86294    -1.2183027  -1.0292768   0.14717793 -0.85624146  0.15265875\n",
            " -1.2434776  -0.07809013  1.470932    1.8117332  -0.85754645 -1.0215701\n",
            " -1.4435067   1.0498763   1.5140115   0.76934505 -0.53824115  0.6945127\n",
            " -1.2384173   0.33154932 -0.8201883   0.64626825  1.7737498  -0.5695252\n",
            "  1.3897643  -1.4817868  -0.27888682  0.3941104 ]\n",
            "time spent 0.1573786735534668\n",
            "tf.Tensor(True, shape=(), dtype=bool)\n",
            "tf.Tensor(1.5709403, shape=(), dtype=float32)\n",
            "tf.Tensor(-1.0, shape=(), dtype=float32)\n",
            "tf.Tensor(\n",
            "[1.5709403 1.5705618 1.570807  1.5707124 1.5705857 1.5709007 1.5706549\n",
            " 1.5708447 1.5708525 1.5707912 1.5708553 1.5709541 1.5709665 1.570812\n",
            " 1.5708246 1.5708169 1.5709186 1.570895  1.5706205 1.5709307 1.5705914\n",
            " 1.5709476 1.5706606 1.5706503 1.5708185 1.5706247 1.5709205 1.5709207\n",
            " 1.5707835 1.5710151 1.5708327 1.5709336 1.57094   1.5709434 1.5705783\n",
            " 1.5706894 1.5709698 1.570734  1.5708038 1.5708623], shape=(40,), dtype=float32)\n",
            "tf.Tensor(-1.0, shape=(), dtype=float32)\n",
            "tf.Tensor(\n",
            "[-1. -1. -1. -1. -1. -1. -1. -1. -1. -1. -1. -1. -1. -1. -1. -1. -1. -1.\n",
            " -1. -1. -1. -1. -1. -1. -1. -1. -1. -1. -1. -1. -1. -1. -1. -1. -1. -1.\n",
            " -1. -1. -1. -1.], shape=(40,), dtype=float32)\n"
          ]
        }
      ]
    },
    {
      "cell_type": "code",
      "source": [
        "np.array(optim_results.position)"
      ],
      "metadata": {
        "id": "OCREEy_is5VT",
        "outputId": "06b4f4b5-afea-43c8-ba64-b04df71c1f38",
        "colab": {
          "base_uri": "https://localhost:8080/"
        }
      },
      "execution_count": 14,
      "outputs": [
        {
          "output_type": "execute_result",
          "data": {
            "text/plain": [
              "array(1.570732, dtype=float32)"
            ]
          },
          "metadata": {},
          "execution_count": 14
        }
      ]
    },
    {
      "cell_type": "markdown",
      "source": [
        "## Referências\n",
        "\n",
        "[Hot to get weights of layers in tensforflow ](https://www.gcptutorials.com/post/how-to-get-weights-of-layers-in-tensorflow)\n",
        "\n",
        "[tf.keras.Sequential](https://www.tensorflow.org/api_docs/python/tf/keras/Sequential)\n",
        "\n",
        "[Guia do tensorflow](https://www.tensorflow.org/guide/keras/sequential_model)\n",
        "\n",
        "[Tutoriasi do tensorflow](https://www.tensorflow.org/tutorials)"
      ],
      "metadata": {
        "id": "Y-rzNF3dH_T5"
      }
    }
  ],
  "metadata": {
    "language_info": {
      "name": "python"
    },
    "orig_nbformat": 4,
    "colab": {
      "name": "first_implementations.ipynb",
      "provenance": [],
      "include_colab_link": true
    },
    "kernelspec": {
      "name": "python3",
      "display_name": "Python 3"
    },
    "gpuClass": "standard"
  },
  "nbformat": 4,
  "nbformat_minor": 0
}