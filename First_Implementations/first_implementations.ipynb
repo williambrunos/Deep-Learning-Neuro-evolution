{
  "cells": [
    {
      "cell_type": "markdown",
      "metadata": {
        "id": "view-in-github",
        "colab_type": "text"
      },
      "source": [
        "<a href=\"https://colab.research.google.com/github/williambrunos/Deep-Learning-Neuro-evolution/blob/main/First_Implementations/first_implementations.ipynb\" target=\"_parent\"><img src=\"https://colab.research.google.com/assets/colab-badge.svg\" alt=\"Open In Colab\"/></a>"
      ]
    },
    {
      "cell_type": "markdown",
      "metadata": {
        "id": "D4zAOEssmVe5"
      },
      "source": [
        "# First Implementations with tensorflow\n",
        "\n",
        "## Abstract\n",
        "\n",
        "This notebook tries to implement some neural netowork used to solve some problem and tries to evolve the weights of it using neural evolution, implemented with [tensorflow](https://www.tensorflow.org/probability/api_docs/python/tfp/optimizer/differential_evolution_minimize)\n",
        "\n",
        "````Python\n",
        "tfp.optimizer.differential_evolution_minimize(\n",
        "    objective_function,\n",
        "    initial_population=None,\n",
        "    initial_position=None,\n",
        "    population_size=50,\n",
        "    population_stddev=1.0,\n",
        "    max_iterations=100,\n",
        "    func_tolerance=0,\n",
        "    position_tolerance=1e-08,\n",
        "    differential_weight=0.5,\n",
        "    crossover_prob=0.9,\n",
        "    seed=None,\n",
        "    name=None\n",
        ")\n",
        "````\n",
        "\n",
        "**obs**: if you read the documentation of this function, you'll see that the evolutionary algorithm will try to minimize the objective function, rather than maximize it. Because of this, it's important to implement a objective function with the negative value of the mathmatical expression.\n",
        "\n",
        "\"A candidate s_1 is considered better than s_2 if f(s_1) < f(s_2).\" - The function documentation"
      ]
    },
    {
      "cell_type": "markdown",
      "source": [
        "We can use as a base example:\n",
        "\n",
        "````Python\n",
        "population_size = 40\n",
        "  # With an initial population and a multi-part state.\n",
        "  initial_population = (tf.random.normal([population_size]),\n",
        "                        tf.random.normal([population_size]))\n",
        "  def easom_fn(x, y):\n",
        "    return -(tf.math.cos(x) * tf.math.cos(y) *\n",
        "             tf.math.exp(-(x-np.pi)**2 - (y-np.pi)**2))\n",
        "\n",
        "  optim_results = tfp.optimizer.differential_evolution_minimize(\n",
        "      easom_fn,\n",
        "      initial_population=initial_population,\n",
        "      seed=43210)\n",
        "\n",
        "  print(optim_results.converged)\n",
        "  print(optim_results.position)  # Should be (close to) [pi, pi].\n",
        "  print(optim_results.objective_value)    # Should be -1.\n",
        "\n",
        "\n",
        "  # With a single starting point\n",
        "  initial_position = (tf.constant(1.0), tf.constant(1.0))\n",
        "\n",
        "  optim_results = tfp.optimizer.differential_evolution_minimize(\n",
        "      easom_fn,\n",
        "      initial_position=initial_position,\n",
        "      population_size=40,\n",
        "      population_stddev=2.0,\n",
        "      seed=43210)\n",
        "````"
      ],
      "metadata": {
        "id": "yngWkhQf4QZF"
      }
    },
    {
      "cell_type": "markdown",
      "source": [
        "## Importações Necessárias"
      ],
      "metadata": {
        "id": "XNkiTiYdI-Pi"
      }
    },
    {
      "cell_type": "code",
      "source": [
        "import tensorflow as tf\n",
        "import tensorflow_probability as tfp\n",
        "import time\n",
        "\n",
        "import pandas as pd\n",
        "import numpy as np\n",
        "import matplotlib.pyplot as plt\n",
        "import seaborn as sns\n",
        "\n",
        "%matplotlib inline"
      ],
      "metadata": {
        "id": "x3i76T1am6Be"
      },
      "execution_count": 1,
      "outputs": []
    },
    {
      "cell_type": "markdown",
      "source": [
        "## Função de teste de tempo da evolução"
      ],
      "metadata": {
        "id": "dI-4xofaJBPQ"
      }
    },
    {
      "cell_type": "code",
      "source": [
        "def check_time_spent_by_evolutionary_algorithm(population_size,\n",
        "                                               objective_function: object,\n",
        "                                               max_iterations: int,\n",
        "                                               variate_population_size: bool,\n",
        "                                               seed=0):\n",
        "  \"\"\"\n",
        "  This function must check the time spent by the evolutionary algorithm\n",
        "  to upgrade the weights of a neural network according to some parameters\n",
        "  given by the function.\n",
        "\n",
        "  ----------------------\n",
        "  PARAMS\n",
        "  ---------------------\n",
        "\n",
        "  - population_size: the number of weights of the neural network. Can be\n",
        "  either a integer number or a list if the user want to variate the\n",
        "  values of 'population_size' parameter to be tested.\n",
        "\n",
        "  \"\"\"\n",
        "\n",
        "  list_of_times = []\n",
        "\n",
        "  if ((variate_population_size == True) and (type(population_size) is list)):\n",
        "    for size in population_size:\n",
        "      initial_population = (tf.random.normal([size]))\n",
        "\n",
        "      st = time.time()\n",
        "      optim_results = tfp.optimizer.differential_evolution_minimize(\n",
        "          objective_function=objective_function,\n",
        "          initial_population=initial_population,\n",
        "          max_iterations=max_iterations,\n",
        "          seed=seed\n",
        "      )\n",
        "      et = time.time()\n",
        "      time_taken = et - st\n",
        "      list_of_times.append(time_taken)\n",
        "  else:\n",
        "    raise ValueError('If variate_population_size is True, then population_size must be a list of possible values')\n",
        "\n",
        "  return list_of_times"
      ],
      "metadata": {
        "id": "MNocA4nJ4dK5"
      },
      "execution_count": 2,
      "outputs": []
    },
    {
      "cell_type": "markdown",
      "source": [
        "### Implementando a função de teste"
      ],
      "metadata": {
        "id": "Ck1PY1DNJEZc"
      }
    },
    {
      "cell_type": "code",
      "source": [
        "obj_func = lambda x: -(tf.math.sin(x) + tf.math.cos(x))\n",
        "population_size_list = [100000, 200000, 300000, 400000, 500000, 600000, 700000, 800000, 900000, 1000000]\n",
        "\n",
        "time_spent = check_time_spent_by_evolutionary_algorithm(population_size=population_size_list,\n",
        "                                                        objective_function=obj_func, \n",
        "                                                        max_iterations=50,\n",
        "                                                        variate_population_size=True,\n",
        "                                                        seed=0)"
      ],
      "metadata": {
        "id": "5nlVfLf6CKcs"
      },
      "execution_count": 3,
      "outputs": []
    },
    {
      "cell_type": "markdown",
      "source": [
        "### Visualizando os resultados"
      ],
      "metadata": {
        "id": "M3vI5nAPJGcV"
      }
    },
    {
      "cell_type": "code",
      "source": [
        "fig, ax = plt.subplots(nrows=1, ncols=1, figsize=(10, 6))\n",
        "\n",
        "ax.set_title('Time spent by the algorithm VS input size', fontsize=14)\n",
        "\n",
        "ax.set_xlabel('population_size', fontsize=14)\n",
        "\n",
        "ax.set_ylabel('time spent (seconds)', fontsize=14)\n",
        "# ax.plot(population_size_list, time_spent)\n",
        "sns.scatterplot(x=population_size_list, y=time_spent, ax=ax)\n",
        "\n",
        "sns.despine()\n",
        "plt.show()"
      ],
      "metadata": {
        "id": "chsQIf6EgZp0",
        "outputId": "05f14652-77ac-4aca-85f3-a063c301ede3",
        "colab": {
          "base_uri": "https://localhost:8080/",
          "height": 409
        }
      },
      "execution_count": 4,
      "outputs": [
        {
          "output_type": "display_data",
          "data": {
            "text/plain": [
              "<Figure size 720x432 with 1 Axes>"
            ],
            "image/png": "[encoded data removed]"
          },
          "metadata": {
            "needs_background": "light"
          }
        }
      ]
    },
    {
      "cell_type": "markdown",
      "source": [
        "##  Implementando uma rede neural"
      ],
      "metadata": {
        "id": "zszA0gMsFkWN"
      }
    },
    {
      "cell_type": "markdown",
      "source": [
        "### Instanciando uma sequência de layers usando `tf.keras.Sequential`"
      ],
      "metadata": {
        "id": "qVhJfzagGFVj"
      }
    },
    {
      "cell_type": "code",
      "source": [
        "model = tf.keras.Sequential([\n",
        "    tf.keras.layers.Dense(3, activation='relu', name='first_layer'),\n",
        "    tf.keras.layers.Dense(8, activation='tanh', name='second_layer'),\n",
        "    tf.keras.layers.Dense(3, name='last_layer')\n",
        "])"
      ],
      "metadata": {
        "id": "DcLIh23FFjxF"
      },
      "execution_count": 9,
      "outputs": []
    },
    {
      "cell_type": "markdown",
      "source": [
        "### Buildando o modelo utilizando um input"
      ],
      "metadata": {
        "id": "Sx2jqWwCGLrD"
      }
    },
    {
      "cell_type": "code",
      "source": [
        "input = tf.random.normal((1, 4))\n",
        "output = model(input)\n",
        "output"
      ],
      "metadata": {
        "id": "FHvTrp-hGAOZ",
        "outputId": "724cc8bf-16ae-4d69-a5aa-a418d24ee87b",
        "colab": {
          "base_uri": "https://localhost:8080/"
        }
      },
      "execution_count": 12,
      "outputs": [
        {
          "output_type": "execute_result",
          "data": {
            "text/plain": [
              "<tf.Tensor: shape=(1, 3), dtype=float32, numpy=array([[ 0.689204 ,  0.4824665, -0.5757222]], dtype=float32)>"
            ]
          },
          "metadata": {},
          "execution_count": 12
        }
      ]
    },
    {
      "cell_type": "markdown",
      "source": [
        "### Iterando por todas as camadas do modelo"
      ],
      "metadata": {
        "id": "rKHxFtdFGhpd"
      }
    },
    {
      "cell_type": "code",
      "source": [
        "for layer in model.layers:\n",
        "  print(layer.name, layer)"
      ],
      "metadata": {
        "id": "r5SGqvqpGVv-",
        "outputId": "3b7cc4b9-0390-4423-cd48-30e759e16208",
        "colab": {
          "base_uri": "https://localhost:8080/"
        }
      },
      "execution_count": 13,
      "outputs": [
        {
          "output_type": "stream",
          "name": "stdout",
          "text": [
            "first_layer <keras.layers.core.dense.Dense object at 0x7fb026747910>\n",
            "second_layer <keras.layers.core.dense.Dense object at 0x7fb026a5ed10>\n",
            "last_layer <keras.layers.core.dense.Dense object at 0x7fb026747390>\n"
          ]
        }
      ]
    },
    {
      "cell_type": "markdown",
      "source": [
        "### Obtendo pesos, viéses e inicializadores de viéses"
      ],
      "metadata": {
        "id": "ydSGp_xEGfRp"
      }
    },
    {
      "cell_type": "code",
      "source": [
        "# first layer\n",
        "print('====FIRST LAYER====\\n\\n')\n",
        "print(model.layers[0].weights)\n",
        "print(model.layers[0].bias.numpy())\n",
        "print(model.layers[0].bias_initializer)\n",
        "\n",
        "# second layer\n",
        "print('\\n\\n====SECOND LAYER====\\n\\n')\n",
        "print(model.layers[1].weights)\n",
        "print(model.layers[1].bias.numpy())\n",
        "print(model.layers[1].bias_initializer)\n",
        "\n",
        "# third layer\n",
        "print('\\n\\n====THIRD LAYER====\\n\\n')\n",
        "print(model.layers[2].weights)\n",
        "print(model.layers[2].bias.numpy())\n",
        "print(model.layers[2].bias_initializer)"
      ],
      "metadata": {
        "id": "VwiP9n2VGWus",
        "outputId": "9a74066c-89e0-44f6-8e19-7cc8e3b592f6",
        "colab": {
          "base_uri": "https://localhost:8080/"
        }
      },
      "execution_count": 17,
      "outputs": [
        {
          "output_type": "stream",
          "name": "stdout",
          "text": [
            "====FIRST LAYER====\n",
            "\n",
            "\n",
            "[<tf.Variable 'first_layer/kernel:0' shape=(4, 3) dtype=float32, numpy=\n",
            "array([[-0.36932117,  0.24458206, -0.72741735],\n",
            "       [ 0.8882382 , -0.38577437, -0.8515855 ],\n",
            "       [ 0.17715299, -0.7183629 ,  0.81258   ],\n",
            "       [-0.70942986, -0.07228839,  0.8580239 ]], dtype=float32)>, <tf.Variable 'first_layer/bias:0' shape=(3,) dtype=float32, numpy=array([0., 0., 0.], dtype=float32)>]\n",
            "[0. 0. 0.]\n",
            "<keras.initializers.initializers_v2.Zeros object at 0x7fb026747590>\n",
            "\n",
            "\n",
            "====SECOND LAYER====\n",
            "\n",
            "\n",
            "[<tf.Variable 'second_layer/kernel:0' shape=(3, 8) dtype=float32, numpy=\n",
            "array([[-0.46052867,  0.58089334, -0.00527215,  0.50470585,  0.6277643 ,\n",
            "         0.22184479, -0.5740326 ,  0.31442636],\n",
            "       [-0.6058883 ,  0.01476073,  0.5811922 , -0.4788352 , -0.17661804,\n",
            "        -0.04636091, -0.15856063, -0.6230401 ],\n",
            "       [-0.43726763, -0.33413905, -0.39890814, -0.4120389 , -0.6695954 ,\n",
            "         0.03814942, -0.1176694 ,  0.08401906]], dtype=float32)>, <tf.Variable 'second_layer/bias:0' shape=(8,) dtype=float32, numpy=array([0., 0., 0., 0., 0., 0., 0., 0.], dtype=float32)>]\n",
            "[0. 0. 0. 0. 0. 0. 0. 0.]\n",
            "<keras.initializers.initializers_v2.Zeros object at 0x7fb026747650>\n",
            "\n",
            "\n",
            "====THIRD LAYER====\n",
            "\n",
            "\n",
            "[<tf.Variable 'last_layer/kernel:0' shape=(8, 3) dtype=float32, numpy=\n",
            "array([[ 0.52831596,  0.00473469, -0.12795395],\n",
            "       [-0.24778193,  0.5079593 , -0.28818154],\n",
            "       [ 0.7279218 , -0.05836207,  0.0344066 ],\n",
            "       [ 0.11840844, -0.72873527,  0.3339476 ],\n",
            "       [-0.6196439 ,  0.06085086, -0.41997674],\n",
            "       [ 0.20815074,  0.24585962, -0.2876045 ],\n",
            "       [ 0.5225237 ,  0.38198012,  0.49258786],\n",
            "       [-0.658391  , -0.13110107,  0.5133249 ]], dtype=float32)>, <tf.Variable 'last_layer/bias:0' shape=(3,) dtype=float32, numpy=array([0., 0., 0.], dtype=float32)>]\n",
            "[0. 0. 0.]\n",
            "<keras.initializers.initializers_v2.Zeros object at 0x7fb0267476d0>\n"
          ]
        }
      ]
    },
    {
      "cell_type": "markdown",
      "source": [
        "### Obtendo os mesmos dados utilizando nomes das camadas"
      ],
      "metadata": {
        "id": "2MUz5WZJHtX3"
      }
    },
    {
      "cell_type": "code",
      "source": [
        "# firstlayer by name\n",
        "print('====FIRST LAYER====\\n\\n')\n",
        "print((model.get_layer(\"first_layer\").weights))\n",
        "\n",
        "# secondlayer by name\n",
        "print('\\n\\n====SECOND LAYER====\\n\\n')\n",
        "print((model.get_layer(\"second_layer\").weights))\n",
        "\n",
        "# lastlayer by name\n",
        "print('\\n\\n====THIRD LAYER====\\n\\n')\n",
        "print((model.get_layer(\"last_layer\").weights))"
      ],
      "metadata": {
        "id": "33TSZ01nHwMQ",
        "outputId": "ead12908-54ac-458d-e3f1-fe69f9c4c4fd",
        "colab": {
          "base_uri": "https://localhost:8080/"
        }
      },
      "execution_count": 20,
      "outputs": [
        {
          "output_type": "stream",
          "name": "stdout",
          "text": [
            "====FIRST LAYER====\n",
            "\n",
            "\n",
            "[<tf.Variable 'first_layer/kernel:0' shape=(4, 3) dtype=float32, numpy=\n",
            "array([[-0.36932117,  0.24458206, -0.72741735],\n",
            "       [ 0.8882382 , -0.38577437, -0.8515855 ],\n",
            "       [ 0.17715299, -0.7183629 ,  0.81258   ],\n",
            "       [-0.70942986, -0.07228839,  0.8580239 ]], dtype=float32)>, <tf.Variable 'first_layer/bias:0' shape=(3,) dtype=float32, numpy=array([0., 0., 0.], dtype=float32)>]\n",
            "\n",
            "\n",
            "====SECOND LAYER====\n",
            "\n",
            "\n",
            "[<tf.Variable 'second_layer/kernel:0' shape=(3, 8) dtype=float32, numpy=\n",
            "array([[-0.46052867,  0.58089334, -0.00527215,  0.50470585,  0.6277643 ,\n",
            "         0.22184479, -0.5740326 ,  0.31442636],\n",
            "       [-0.6058883 ,  0.01476073,  0.5811922 , -0.4788352 , -0.17661804,\n",
            "        -0.04636091, -0.15856063, -0.6230401 ],\n",
            "       [-0.43726763, -0.33413905, -0.39890814, -0.4120389 , -0.6695954 ,\n",
            "         0.03814942, -0.1176694 ,  0.08401906]], dtype=float32)>, <tf.Variable 'second_layer/bias:0' shape=(8,) dtype=float32, numpy=array([0., 0., 0., 0., 0., 0., 0., 0.], dtype=float32)>]\n",
            "\n",
            "\n",
            "====THIRD LAYER====\n",
            "\n",
            "\n",
            "[<tf.Variable 'last_layer/kernel:0' shape=(8, 3) dtype=float32, numpy=\n",
            "array([[ 0.52831596,  0.00473469, -0.12795395],\n",
            "       [-0.24778193,  0.5079593 , -0.28818154],\n",
            "       [ 0.7279218 , -0.05836207,  0.0344066 ],\n",
            "       [ 0.11840844, -0.72873527,  0.3339476 ],\n",
            "       [-0.6196439 ,  0.06085086, -0.41997674],\n",
            "       [ 0.20815074,  0.24585962, -0.2876045 ],\n",
            "       [ 0.5225237 ,  0.38198012,  0.49258786],\n",
            "       [-0.658391  , -0.13110107,  0.5133249 ]], dtype=float32)>, <tf.Variable 'last_layer/bias:0' shape=(3,) dtype=float32, numpy=array([0., 0., 0.], dtype=float32)>]\n"
          ]
        }
      ]
    },
    {
      "cell_type": "markdown",
      "source": [
        "## Sandbox\n",
        "\n",
        "Aqui vai qualquer coisa rs"
      ],
      "metadata": {
        "id": "AqL0oYnIB4co"
      }
    },
    {
      "cell_type": "code",
      "source": [
        "population_size = 40\n",
        "# With an initial population and a multi-part state.\n",
        "initial_population = (tf.random.normal([population_size]))\n",
        "\n",
        "print(f'initial pop: {initial_population}') \n",
        "\n",
        "def easom_fn(x):\n",
        "  return -tf.math.sin(x)\n",
        "\n",
        "st = time.time()\n",
        "\n",
        "optim_results = tfp.optimizer.differential_evolution_minimize(\n",
        "    easom_fn,\n",
        "    initial_population=initial_population,\n",
        "    max_iterations=50,\n",
        "    seed=43210)\n",
        "\n",
        "et = time.time()\n",
        "\n",
        "time_spent = et - st \n",
        "print(f'time spent {time_spent}')\n",
        "\n",
        "print(optim_results.converged)\n",
        "print(optim_results.position)  # Should be (close to) [pi, pi].\n",
        "print(optim_results.objective_value)    # Should be -1.\n",
        "print(optim_results.final_population) # final population\n",
        "print(optim_results.objective_value) # final value of objective fun. on the final position\n",
        "print(optim_results.final_objective_values)\n",
        "\n",
        "# With a single starting point\n",
        "initial_position = (tf.constant(1.0))\n",
        "\n",
        "optim_results = tfp.optimizer.differential_evolution_minimize(\n",
        "                easom_fn,\n",
        "                initial_position=initial_position,\n",
        "                population_size=40,\n",
        "                population_stddev=2.0,\n",
        "                seed=43210)"
      ],
      "metadata": {
        "id": "y8HKshPVssqX",
        "outputId": "bde23fbf-a887-429a-b553-aaf34793a806",
        "colab": {
          "base_uri": "https://localhost:8080/"
        }
      },
      "execution_count": 5,
      "outputs": [
        {
          "output_type": "stream",
          "name": "stdout",
          "text": [
            "initial pop: [-1.3061314   2.3557496   1.8312285  -1.6604831  -0.01182505 -0.45045286\n",
            " -0.597637   -0.13734196 -0.03861462 -0.0411884  -0.15150647 -0.45294732\n",
            "  0.32212195  0.19396889 -0.34913233 -0.86359674  0.31918186 -0.41976953\n",
            " -0.98763764 -0.3959831   0.65994376 -0.73036766  0.33439612 -1.0468161\n",
            "  0.7969334   0.31865653 -0.23182318  1.6789315  -0.27010462  0.5540344\n",
            "  1.1317533  -0.22247714 -0.56144184  1.0222101   1.1715235   1.9027265\n",
            "  0.02456379  0.6495049  -1.2601067  -0.38043153]\n",
            "time spent 0.19843339920043945\n",
            "tf.Tensor(True, shape=(), dtype=bool)\n",
            "tf.Tensor(1.5705839, shape=(), dtype=float32)\n",
            "tf.Tensor(-1.0, shape=(), dtype=float32)\n",
            "tf.Tensor(\n",
            "[1.5705839 1.5706471 1.5706676 1.5708414 1.5705614 1.5706904 1.5709729\n",
            " 1.570833  1.5706089 1.5705928 1.570986  1.5708476 1.5705535 1.5709724\n",
            " 1.5708673 1.5708464 1.5709207 1.5705713 1.5707812 1.57058   1.5708411\n",
            " 1.5705996 1.5706189 1.5706971 1.5706797 1.5706513 1.5709368 1.570923\n",
            " 1.570755  1.5708523 1.5706198 1.5705556 1.5707312 1.5709348 1.5708387\n",
            " 1.5708419 1.5709596 1.5708084 1.5705833 1.5707852], shape=(40,), dtype=float32)\n",
            "tf.Tensor(-1.0, shape=(), dtype=float32)\n",
            "tf.Tensor(\n",
            "[-1. -1. -1. -1. -1. -1. -1. -1. -1. -1. -1. -1. -1. -1. -1. -1. -1. -1.\n",
            " -1. -1. -1. -1. -1. -1. -1. -1. -1. -1. -1. -1. -1. -1. -1. -1. -1. -1.\n",
            " -1. -1. -1. -1.], shape=(40,), dtype=float32)\n"
          ]
        }
      ]
    },
    {
      "cell_type": "code",
      "source": [
        "np.array(optim_results.position)"
      ],
      "metadata": {
        "id": "OCREEy_is5VT",
        "outputId": "523ed7ad-39fc-4b61-d9e2-83f2743abacf",
        "colab": {
          "base_uri": "https://localhost:8080/"
        }
      },
      "execution_count": 6,
      "outputs": [
        {
          "output_type": "execute_result",
          "data": {
            "text/plain": [
              "array(1.570732, dtype=float32)"
            ]
          },
          "metadata": {},
          "execution_count": 6
        }
      ]
    },
    {
      "cell_type": "markdown",
      "source": [
        "## Referências\n",
        "\n",
        "[Hot to get weights of layers in tensforflow ](https://www.gcptutorials.com/post/how-to-get-weights-of-layers-in-tensorflow)\n",
        "\n",
        "[tf.keras.Sequential](https://www.tensorflow.org/api_docs/python/tf/keras/Sequential)"
      ],
      "metadata": {
        "id": "Y-rzNF3dH_T5"
      }
    }
  ],
  "metadata": {
    "language_info": {
      "name": "python"
    },
    "orig_nbformat": 4,
    "colab": {
      "name": "first_implementations.ipynb",
      "provenance": [],
      "include_colab_link": true
    },
    "kernelspec": {
      "name": "python3",
      "display_name": "Python 3"
    },
    "gpuClass": "standard"
  },
  "nbformat": 4,
  "nbformat_minor": 0
}