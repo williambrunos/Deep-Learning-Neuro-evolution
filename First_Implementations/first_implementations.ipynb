{
  "cells": [
    {
      "cell_type": "markdown",
      "metadata": {
        "id": "view-in-github",
        "colab_type": "text"
      },
      "source": [
        "<a href=\"https://colab.research.google.com/github/williambrunos/Deep-Learning-Neuro-evolution/blob/main/First_Implementations/first_implementations.ipynb\" target=\"_parent\"><img src=\"https://colab.research.google.com/assets/colab-badge.svg\" alt=\"Open In Colab\"/></a>"
      ]
    },
    {
      "cell_type": "markdown",
      "metadata": {
        "id": "D4zAOEssmVe5"
      },
      "source": [
        "# First Implementations with tensorflow\n",
        "\n",
        "## Abstract\n",
        "\n",
        "This notebook tries to implement some neural netowork used to solve some problem and tries to evolve the weights of it using neural evolution, implemented with [tensorflow](https://www.tensorflow.org/probability/api_docs/python/tfp/optimizer/differential_evolution_minimize)\n",
        "\n",
        "````Python\n",
        "tfp.optimizer.differential_evolution_minimize(\n",
        "    objective_function,\n",
        "    initial_population=None,\n",
        "    initial_position=None,\n",
        "    population_size=50,\n",
        "    population_stddev=1.0,\n",
        "    max_iterations=100,\n",
        "    func_tolerance=0,\n",
        "    position_tolerance=1e-08,\n",
        "    differential_weight=0.5,\n",
        "    crossover_prob=0.9,\n",
        "    seed=None,\n",
        "    name=None\n",
        ")\n",
        "````\n",
        "\n",
        "**obs**: if you read the documentation of this function, you'll see that the evolutionary algorithm will try to minimize the objective function, rather than maximize it. Because of this, it's important to implement a objective function with the negative value of the mathmatical expression.\n",
        "\n",
        "\"A candidate s_1 is considered better than s_2 if f(s_1) < f(s_2).\" - The function documentation"
      ]
    },
    {
      "cell_type": "markdown",
      "source": [
        "We can use as a base example:\n",
        "\n",
        "````Python\n",
        "population_size = 40\n",
        "  # With an initial population and a multi-part state.\n",
        "  initial_population = (tf.random.normal([population_size]),\n",
        "                        tf.random.normal([population_size]))\n",
        "  def easom_fn(x, y):\n",
        "    return -(tf.math.cos(x) * tf.math.cos(y) *\n",
        "             tf.math.exp(-(x-np.pi)**2 - (y-np.pi)**2))\n",
        "\n",
        "  optim_results = tfp.optimizer.differential_evolution_minimize(\n",
        "      easom_fn,\n",
        "      initial_population=initial_population,\n",
        "      seed=43210)\n",
        "\n",
        "  print(optim_results.converged)\n",
        "  print(optim_results.position)  # Should be (close to) [pi, pi].\n",
        "  print(optim_results.objective_value)    # Should be -1.\n",
        "\n",
        "\n",
        "  # With a single starting point\n",
        "  initial_position = (tf.constant(1.0), tf.constant(1.0))\n",
        "\n",
        "  optim_results = tfp.optimizer.differential_evolution_minimize(\n",
        "      easom_fn,\n",
        "      initial_position=initial_position,\n",
        "      population_size=40,\n",
        "      population_stddev=2.0,\n",
        "      seed=43210)\n",
        "````"
      ],
      "metadata": {
        "id": "yngWkhQf4QZF"
      }
    },
    {
      "cell_type": "markdown",
      "source": [
        "## Importações Necessárias"
      ],
      "metadata": {
        "id": "XNkiTiYdI-Pi"
      }
    },
    {
      "cell_type": "code",
      "source": [
        "import tensorflow as tf\n",
        "import tensorflow_probability as tfp\n",
        "import time\n",
        "\n",
        "import pandas as pd\n",
        "import numpy as np\n",
        "import matplotlib.pyplot as plt\n",
        "import seaborn as sns\n",
        "\n",
        "%matplotlib inline"
      ],
      "metadata": {
        "id": "x3i76T1am6Be"
      },
      "execution_count": 1,
      "outputs": []
    },
    {
      "cell_type": "markdown",
      "source": [
        "## Função de teste de tempo da evolução"
      ],
      "metadata": {
        "id": "dI-4xofaJBPQ"
      }
    },
    {
      "cell_type": "code",
      "source": [
        "def check_time_spent_by_evolutionary_algorithm(population_size,\n",
        "                                               objective_function: object,\n",
        "                                               max_iterations: int,\n",
        "                                               variate_population_size: bool,\n",
        "                                               seed=0):\n",
        "  \"\"\"\n",
        "  This function must check the time spent by the evolutionary algorithm\n",
        "  to upgrade the weights of a neural network according to some parameters\n",
        "  given by the function.\n",
        "\n",
        "  ----------------------\n",
        "  PARAMS\n",
        "  ---------------------\n",
        "\n",
        "  - population_size: the number of weights of the neural network. Can be\n",
        "  either a integer number or a list if the user want to variate the\n",
        "  values of 'population_size' parameter to be tested.\n",
        "\n",
        "  \"\"\"\n",
        "\n",
        "  list_of_times = []\n",
        "\n",
        "  if ((variate_population_size == True) and (type(population_size) is list)):\n",
        "    for size in population_size:\n",
        "      initial_population = (tf.random.normal([size]))\n",
        "\n",
        "      st = time.time()\n",
        "      optim_results = tfp.optimizer.differential_evolution_minimize(\n",
        "          objective_function=objective_function,\n",
        "          initial_population=initial_population,\n",
        "          max_iterations=max_iterations,\n",
        "          seed=seed\n",
        "      )\n",
        "      et = time.time()\n",
        "      time_taken = et - st\n",
        "      list_of_times.append(time_taken)\n",
        "  else:\n",
        "    raise ValueError('If variate_population_size is True, then population_size must be a list of possible values')\n",
        "\n",
        "  return list_of_times"
      ],
      "metadata": {
        "id": "MNocA4nJ4dK5"
      },
      "execution_count": 2,
      "outputs": []
    },
    {
      "cell_type": "markdown",
      "source": [
        "### Implementando a função de teste"
      ],
      "metadata": {
        "id": "Ck1PY1DNJEZc"
      }
    },
    {
      "cell_type": "code",
      "source": [
        "obj_func = lambda x: -(tf.math.sin(x) + tf.math.cos(x))\n",
        "population_size_list = [100000, 200000, 300000, 400000, 500000, 600000, 700000, 800000, 900000, 1000000]\n",
        "\n",
        "time_spent = check_time_spent_by_evolutionary_algorithm(population_size=population_size_list,\n",
        "                                                        objective_function=obj_func, \n",
        "                                                        max_iterations=50,\n",
        "                                                        variate_population_size=True,\n",
        "                                                        seed=0)"
      ],
      "metadata": {
        "id": "5nlVfLf6CKcs"
      },
      "execution_count": 3,
      "outputs": []
    },
    {
      "cell_type": "markdown",
      "source": [
        "### Visualizando os resultados"
      ],
      "metadata": {
        "id": "M3vI5nAPJGcV"
      }
    },
    {
      "cell_type": "code",
      "source": [
        "fig, ax = plt.subplots(nrows=1, ncols=1, figsize=(10, 6))\n",
        "\n",
        "ax.set_title('Time spent by the algorithm VS input size', fontsize=14)\n",
        "\n",
        "ax.set_xlabel('population_size', fontsize=14)\n",
        "\n",
        "ax.set_ylabel('time spent (seconds)', fontsize=14)\n",
        "# ax.plot(population_size_list, time_spent)\n",
        "sns.scatterplot(x=population_size_list, y=time_spent, ax=ax)\n",
        "\n",
        "sns.despine()\n",
        "plt.show()"
      ],
      "metadata": {
        "id": "chsQIf6EgZp0",
        "outputId": "4bbbd44d-ddc5-47b9-fa8a-2811d7febbb9",
        "colab": {
          "base_uri": "https://localhost:8080/",
          "height": 409
        }
      },
      "execution_count": 4,
      "outputs": [
        {
          "output_type": "display_data",
          "data": {
            "text/plain": [
              "<Figure size 720x432 with 1 Axes>"
            ],
            "image/png": "[encoded data removed]"
          },
          "metadata": {
            "needs_background": "light"
          }
        }
      ]
    },
    {
      "cell_type": "markdown",
      "source": [
        "##  Implementando uma rede neural"
      ],
      "metadata": {
        "id": "zszA0gMsFkWN"
      }
    },
    {
      "cell_type": "markdown",
      "source": [
        "### Instanciando uma sequência de layers usando `tf.keras.Sequential`"
      ],
      "metadata": {
        "id": "qVhJfzagGFVj"
      }
    },
    {
      "cell_type": "code",
      "source": [
        "model = tf.keras.Sequential([\n",
        "    tf.keras.layers.Dense(3, activation='relu', name='first_layer', input_shape=(16, )),\n",
        "    tf.keras.layers.Dense(8, activation='tanh', name='second_layer'),\n",
        "    tf.keras.layers.Dense(3, name='last_layer')\n",
        "])"
      ],
      "metadata": {
        "id": "DcLIh23FFjxF"
      },
      "execution_count": 5,
      "outputs": []
    },
    {
      "cell_type": "code",
      "source": [
        "model.weights"
      ],
      "metadata": {
        "id": "159sYacZqEt6",
        "outputId": "0633a8d9-8522-43ee-c73d-7151270a8a94",
        "colab": {
          "base_uri": "https://localhost:8080/"
        }
      },
      "execution_count": 6,
      "outputs": [
        {
          "output_type": "execute_result",
          "data": {
            "text/plain": [
              "[<tf.Variable 'first_layer/kernel:0' shape=(16, 3) dtype=float32, numpy=\n",
              " array([[-0.09591231,  0.2864977 , -0.0625622 ],\n",
              "        [ 0.5468232 ,  0.5297311 , -0.24196997],\n",
              "        [-0.42543018, -0.51211303, -0.10063708],\n",
              "        [ 0.3851804 , -0.2048127 , -0.14987543],\n",
              "        [-0.02354866, -0.1062921 ,  0.21756947],\n",
              "        [-0.19649258,  0.2197997 ,  0.21976084],\n",
              "        [ 0.1516875 , -0.25621295,  0.29149795],\n",
              "        [-0.5012828 , -0.45919508, -0.48238817],\n",
              "        [-0.48865896, -0.17444274,  0.23634332],\n",
              "        [ 0.3978063 , -0.30919212, -0.3393138 ],\n",
              "        [-0.26991156, -0.20691231,  0.51388866],\n",
              "        [-0.20849541, -0.00096142, -0.02451843],\n",
              "        [ 0.03840166,  0.14703798,  0.10412204],\n",
              "        [-0.36267722,  0.48463243, -0.27570832],\n",
              "        [ 0.4247052 ,  0.1395449 , -0.21621692],\n",
              "        [-0.4578278 ,  0.28695995,  0.37786943]], dtype=float32)>,\n",
              " <tf.Variable 'first_layer/bias:0' shape=(3,) dtype=float32, numpy=array([0., 0., 0.], dtype=float32)>,\n",
              " <tf.Variable 'second_layer/kernel:0' shape=(3, 8) dtype=float32, numpy=\n",
              " array([[-0.71654236, -0.36895347, -0.35308355, -0.20198393,  0.04317892,\n",
              "         -0.71688694, -0.28841978,  0.11066848],\n",
              "        [ 0.09630078,  0.08192599,  0.71046776,  0.08792847, -0.40256858,\n",
              "          0.7127462 , -0.17899603, -0.593711  ],\n",
              "        [-0.5043042 ,  0.07269776, -0.38748682,  0.33947617, -0.6234141 ,\n",
              "         -0.53601944, -0.69724023, -0.256088  ]], dtype=float32)>,\n",
              " <tf.Variable 'second_layer/bias:0' shape=(8,) dtype=float32, numpy=array([0., 0., 0., 0., 0., 0., 0., 0.], dtype=float32)>,\n",
              " <tf.Variable 'last_layer/kernel:0' shape=(8, 3) dtype=float32, numpy=\n",
              " array([[ 0.60808915,  0.42412442,  0.04215568],\n",
              "        [ 0.37780946, -0.5309629 , -0.22829723],\n",
              "        [-0.30875728, -0.4768379 , -0.70998865],\n",
              "        [ 0.7016899 , -0.03840262, -0.63146114],\n",
              "        [ 0.0733521 , -0.17945999,  0.46953553],\n",
              "        [-0.265403  ,  0.06249458, -0.6764308 ],\n",
              "        [ 0.18892384, -0.43808025,  0.15352905],\n",
              "        [ 0.14792043,  0.35166854, -0.22268134]], dtype=float32)>,\n",
              " <tf.Variable 'last_layer/bias:0' shape=(3,) dtype=float32, numpy=array([0., 0., 0.], dtype=float32)>]"
            ]
          },
          "metadata": {},
          "execution_count": 6
        }
      ]
    },
    {
      "cell_type": "markdown",
      "source": [
        "### Buildando o modelo utilizando um input"
      ],
      "metadata": {
        "id": "Sx2jqWwCGLrD"
      }
    },
    {
      "cell_type": "code",
      "source": [
        "input = tf.random.normal((1, 16))\n",
        "output = model(input)\n",
        "print(output)\n",
        "print(model.weights)"
      ],
      "metadata": {
        "colab": {
          "base_uri": "https://localhost:8080/"
        },
        "id": "FHvTrp-hGAOZ",
        "outputId": "ca0e8adb-91f7-40cb-ca36-f9f6dfbab84a"
      },
      "execution_count": 7,
      "outputs": [
        {
          "output_type": "stream",
          "name": "stdout",
          "text": [
            "tf.Tensor([[0.00243827 0.06413835 0.0135911 ]], shape=(1, 3), dtype=float32)\n",
            "[<tf.Variable 'first_layer/kernel:0' shape=(16, 3) dtype=float32, numpy=\n",
            "array([[-0.09591231,  0.2864977 , -0.0625622 ],\n",
            "       [ 0.5468232 ,  0.5297311 , -0.24196997],\n",
            "       [-0.42543018, -0.51211303, -0.10063708],\n",
            "       [ 0.3851804 , -0.2048127 , -0.14987543],\n",
            "       [-0.02354866, -0.1062921 ,  0.21756947],\n",
            "       [-0.19649258,  0.2197997 ,  0.21976084],\n",
            "       [ 0.1516875 , -0.25621295,  0.29149795],\n",
            "       [-0.5012828 , -0.45919508, -0.48238817],\n",
            "       [-0.48865896, -0.17444274,  0.23634332],\n",
            "       [ 0.3978063 , -0.30919212, -0.3393138 ],\n",
            "       [-0.26991156, -0.20691231,  0.51388866],\n",
            "       [-0.20849541, -0.00096142, -0.02451843],\n",
            "       [ 0.03840166,  0.14703798,  0.10412204],\n",
            "       [-0.36267722,  0.48463243, -0.27570832],\n",
            "       [ 0.4247052 ,  0.1395449 , -0.21621692],\n",
            "       [-0.4578278 ,  0.28695995,  0.37786943]], dtype=float32)>, <tf.Variable 'first_layer/bias:0' shape=(3,) dtype=float32, numpy=array([0., 0., 0.], dtype=float32)>, <tf.Variable 'second_layer/kernel:0' shape=(3, 8) dtype=float32, numpy=\n",
            "array([[-0.71654236, -0.36895347, -0.35308355, -0.20198393,  0.04317892,\n",
            "        -0.71688694, -0.28841978,  0.11066848],\n",
            "       [ 0.09630078,  0.08192599,  0.71046776,  0.08792847, -0.40256858,\n",
            "         0.7127462 , -0.17899603, -0.593711  ],\n",
            "       [-0.5043042 ,  0.07269776, -0.38748682,  0.33947617, -0.6234141 ,\n",
            "        -0.53601944, -0.69724023, -0.256088  ]], dtype=float32)>, <tf.Variable 'second_layer/bias:0' shape=(8,) dtype=float32, numpy=array([0., 0., 0., 0., 0., 0., 0., 0.], dtype=float32)>, <tf.Variable 'last_layer/kernel:0' shape=(8, 3) dtype=float32, numpy=\n",
            "array([[ 0.60808915,  0.42412442,  0.04215568],\n",
            "       [ 0.37780946, -0.5309629 , -0.22829723],\n",
            "       [-0.30875728, -0.4768379 , -0.70998865],\n",
            "       [ 0.7016899 , -0.03840262, -0.63146114],\n",
            "       [ 0.0733521 , -0.17945999,  0.46953553],\n",
            "       [-0.265403  ,  0.06249458, -0.6764308 ],\n",
            "       [ 0.18892384, -0.43808025,  0.15352905],\n",
            "       [ 0.14792043,  0.35166854, -0.22268134]], dtype=float32)>, <tf.Variable 'last_layer/bias:0' shape=(3,) dtype=float32, numpy=array([0., 0., 0.], dtype=float32)>]\n"
          ]
        }
      ]
    },
    {
      "cell_type": "markdown",
      "source": [
        "### Iterando por todas as camadas do modelo"
      ],
      "metadata": {
        "id": "rKHxFtdFGhpd"
      }
    },
    {
      "cell_type": "code",
      "source": [
        "for layer in model.layers:\n",
        "  print(layer.name, layer)"
      ],
      "metadata": {
        "colab": {
          "base_uri": "https://localhost:8080/"
        },
        "id": "r5SGqvqpGVv-",
        "outputId": "af35830d-fa62-4fbe-beb3-57543b30b475"
      },
      "execution_count": 8,
      "outputs": [
        {
          "output_type": "stream",
          "name": "stdout",
          "text": [
            "first_layer <keras.layers.core.dense.Dense object at 0x7fdc54e2f810>\n",
            "second_layer <keras.layers.core.dense.Dense object at 0x7fdc50a85090>\n",
            "last_layer <keras.layers.core.dense.Dense object at 0x7fdc50f4a710>\n"
          ]
        }
      ]
    },
    {
      "cell_type": "markdown",
      "source": [
        "### Obtendo pesos, viéses e inicializadores de viéses"
      ],
      "metadata": {
        "id": "ydSGp_xEGfRp"
      }
    },
    {
      "cell_type": "code",
      "source": [
        "# first layer\n",
        "print('====FIRST LAYER====\\n\\n')\n",
        "print(model.layers[0].weights)\n",
        "print(model.layers[0].bias.numpy())\n",
        "print(model.layers[0].bias_initializer)\n",
        "\n",
        "# second layer\n",
        "print('\\n\\n====SECOND LAYER====\\n\\n')\n",
        "print(model.layers[1].weights)\n",
        "print(model.layers[1].bias.numpy())\n",
        "print(model.layers[1].bias_initializer)\n",
        "\n",
        "# third layer\n",
        "print('\\n\\n====THIRD LAYER====\\n\\n')\n",
        "print(model.layers[2].weights)\n",
        "print(model.layers[2].bias.numpy())\n",
        "print(model.layers[2].bias_initializer)"
      ],
      "metadata": {
        "colab": {
          "base_uri": "https://localhost:8080/"
        },
        "id": "VwiP9n2VGWus",
        "outputId": "d3fc4e36-a74f-4436-d9ae-5c2000579183"
      },
      "execution_count": 9,
      "outputs": [
        {
          "output_type": "stream",
          "name": "stdout",
          "text": [
            "====FIRST LAYER====\n",
            "\n",
            "\n",
            "[<tf.Variable 'first_layer/kernel:0' shape=(16, 3) dtype=float32, numpy=\n",
            "array([[-0.09591231,  0.2864977 , -0.0625622 ],\n",
            "       [ 0.5468232 ,  0.5297311 , -0.24196997],\n",
            "       [-0.42543018, -0.51211303, -0.10063708],\n",
            "       [ 0.3851804 , -0.2048127 , -0.14987543],\n",
            "       [-0.02354866, -0.1062921 ,  0.21756947],\n",
            "       [-0.19649258,  0.2197997 ,  0.21976084],\n",
            "       [ 0.1516875 , -0.25621295,  0.29149795],\n",
            "       [-0.5012828 , -0.45919508, -0.48238817],\n",
            "       [-0.48865896, -0.17444274,  0.23634332],\n",
            "       [ 0.3978063 , -0.30919212, -0.3393138 ],\n",
            "       [-0.26991156, -0.20691231,  0.51388866],\n",
            "       [-0.20849541, -0.00096142, -0.02451843],\n",
            "       [ 0.03840166,  0.14703798,  0.10412204],\n",
            "       [-0.36267722,  0.48463243, -0.27570832],\n",
            "       [ 0.4247052 ,  0.1395449 , -0.21621692],\n",
            "       [-0.4578278 ,  0.28695995,  0.37786943]], dtype=float32)>, <tf.Variable 'first_layer/bias:0' shape=(3,) dtype=float32, numpy=array([0., 0., 0.], dtype=float32)>]\n",
            "[0. 0. 0.]\n",
            "<keras.initializers.initializers_v2.Zeros object at 0x7fdc54e2f150>\n",
            "\n",
            "\n",
            "====SECOND LAYER====\n",
            "\n",
            "\n",
            "[<tf.Variable 'second_layer/kernel:0' shape=(3, 8) dtype=float32, numpy=\n",
            "array([[-0.71654236, -0.36895347, -0.35308355, -0.20198393,  0.04317892,\n",
            "        -0.71688694, -0.28841978,  0.11066848],\n",
            "       [ 0.09630078,  0.08192599,  0.71046776,  0.08792847, -0.40256858,\n",
            "         0.7127462 , -0.17899603, -0.593711  ],\n",
            "       [-0.5043042 ,  0.07269776, -0.38748682,  0.33947617, -0.6234141 ,\n",
            "        -0.53601944, -0.69724023, -0.256088  ]], dtype=float32)>, <tf.Variable 'second_layer/bias:0' shape=(8,) dtype=float32, numpy=array([0., 0., 0., 0., 0., 0., 0., 0.], dtype=float32)>]\n",
            "[0. 0. 0. 0. 0. 0. 0. 0.]\n",
            "<keras.initializers.initializers_v2.Zeros object at 0x7fdc54e2f4d0>\n",
            "\n",
            "\n",
            "====THIRD LAYER====\n",
            "\n",
            "\n",
            "[<tf.Variable 'last_layer/kernel:0' shape=(8, 3) dtype=float32, numpy=\n",
            "array([[ 0.60808915,  0.42412442,  0.04215568],\n",
            "       [ 0.37780946, -0.5309629 , -0.22829723],\n",
            "       [-0.30875728, -0.4768379 , -0.70998865],\n",
            "       [ 0.7016899 , -0.03840262, -0.63146114],\n",
            "       [ 0.0733521 , -0.17945999,  0.46953553],\n",
            "       [-0.265403  ,  0.06249458, -0.6764308 ],\n",
            "       [ 0.18892384, -0.43808025,  0.15352905],\n",
            "       [ 0.14792043,  0.35166854, -0.22268134]], dtype=float32)>, <tf.Variable 'last_layer/bias:0' shape=(3,) dtype=float32, numpy=array([0., 0., 0.], dtype=float32)>]\n",
            "[0. 0. 0.]\n",
            "<keras.initializers.initializers_v2.Zeros object at 0x7fdc50f4a0d0>\n"
          ]
        }
      ]
    },
    {
      "cell_type": "markdown",
      "source": [
        "### Obtendo os mesmos dados utilizando nomes das camadas"
      ],
      "metadata": {
        "id": "2MUz5WZJHtX3"
      }
    },
    {
      "cell_type": "code",
      "source": [
        "# firstlayer by name\n",
        "print('====FIRST LAYER====\\n\\n')\n",
        "print((model.get_layer(\"first_layer\").weights))\n",
        "\n",
        "# secondlayer by name\n",
        "print('\\n\\n====SECOND LAYER====\\n\\n')\n",
        "print((model.get_layer(\"second_layer\").weights))\n",
        "\n",
        "# lastlayer by name\n",
        "print('\\n\\n====THIRD LAYER====\\n\\n')\n",
        "print((model.get_layer(\"last_layer\").weights))"
      ],
      "metadata": {
        "colab": {
          "base_uri": "https://localhost:8080/"
        },
        "id": "33TSZ01nHwMQ",
        "outputId": "97cf7c51-b919-4193-f174-2fa85fdb4b6c"
      },
      "execution_count": 10,
      "outputs": [
        {
          "output_type": "stream",
          "name": "stdout",
          "text": [
            "====FIRST LAYER====\n",
            "\n",
            "\n",
            "[<tf.Variable 'first_layer/kernel:0' shape=(16, 3) dtype=float32, numpy=\n",
            "array([[-0.09591231,  0.2864977 , -0.0625622 ],\n",
            "       [ 0.5468232 ,  0.5297311 , -0.24196997],\n",
            "       [-0.42543018, -0.51211303, -0.10063708],\n",
            "       [ 0.3851804 , -0.2048127 , -0.14987543],\n",
            "       [-0.02354866, -0.1062921 ,  0.21756947],\n",
            "       [-0.19649258,  0.2197997 ,  0.21976084],\n",
            "       [ 0.1516875 , -0.25621295,  0.29149795],\n",
            "       [-0.5012828 , -0.45919508, -0.48238817],\n",
            "       [-0.48865896, -0.17444274,  0.23634332],\n",
            "       [ 0.3978063 , -0.30919212, -0.3393138 ],\n",
            "       [-0.26991156, -0.20691231,  0.51388866],\n",
            "       [-0.20849541, -0.00096142, -0.02451843],\n",
            "       [ 0.03840166,  0.14703798,  0.10412204],\n",
            "       [-0.36267722,  0.48463243, -0.27570832],\n",
            "       [ 0.4247052 ,  0.1395449 , -0.21621692],\n",
            "       [-0.4578278 ,  0.28695995,  0.37786943]], dtype=float32)>, <tf.Variable 'first_layer/bias:0' shape=(3,) dtype=float32, numpy=array([0., 0., 0.], dtype=float32)>]\n",
            "\n",
            "\n",
            "====SECOND LAYER====\n",
            "\n",
            "\n",
            "[<tf.Variable 'second_layer/kernel:0' shape=(3, 8) dtype=float32, numpy=\n",
            "array([[-0.71654236, -0.36895347, -0.35308355, -0.20198393,  0.04317892,\n",
            "        -0.71688694, -0.28841978,  0.11066848],\n",
            "       [ 0.09630078,  0.08192599,  0.71046776,  0.08792847, -0.40256858,\n",
            "         0.7127462 , -0.17899603, -0.593711  ],\n",
            "       [-0.5043042 ,  0.07269776, -0.38748682,  0.33947617, -0.6234141 ,\n",
            "        -0.53601944, -0.69724023, -0.256088  ]], dtype=float32)>, <tf.Variable 'second_layer/bias:0' shape=(8,) dtype=float32, numpy=array([0., 0., 0., 0., 0., 0., 0., 0.], dtype=float32)>]\n",
            "\n",
            "\n",
            "====THIRD LAYER====\n",
            "\n",
            "\n",
            "[<tf.Variable 'last_layer/kernel:0' shape=(8, 3) dtype=float32, numpy=\n",
            "array([[ 0.60808915,  0.42412442,  0.04215568],\n",
            "       [ 0.37780946, -0.5309629 , -0.22829723],\n",
            "       [-0.30875728, -0.4768379 , -0.70998865],\n",
            "       [ 0.7016899 , -0.03840262, -0.63146114],\n",
            "       [ 0.0733521 , -0.17945999,  0.46953553],\n",
            "       [-0.265403  ,  0.06249458, -0.6764308 ],\n",
            "       [ 0.18892384, -0.43808025,  0.15352905],\n",
            "       [ 0.14792043,  0.35166854, -0.22268134]], dtype=float32)>, <tf.Variable 'last_layer/bias:0' shape=(3,) dtype=float32, numpy=array([0., 0., 0.], dtype=float32)>]\n"
          ]
        }
      ]
    },
    {
      "cell_type": "markdown",
      "source": [
        "## Escopo da Pesquisa"
      ],
      "metadata": {
        "id": "EsIi6FpwrkZn"
      }
    },
    {
      "cell_type": "markdown",
      "source": [
        "### Funções de Ativação\n",
        "\n",
        "#### Sigmoid:\n",
        "\n",
        "![Sigmoid funciton](https://miro.medium.com/max/875/1*hYXbd20tIReMJ3T5D4OZLg.png)\n",
        "\n",
        "A função sigmoid está presente apenas por razões históricas. Ela é não linear, mas muito computacionalmente custosa, causa desaparecimento do gradiente e não é centrada em zero.\n",
        "\n",
        "É melhor usada em problemas de classificação binária na última camada da rede.\n",
        "\n",
        "#### Softmax:\n",
        "\n",
        "![Softmax function](https://lh6.googleusercontent.com/3vcfJ5hJhsMZAMFIbQOEycfVW1t6rh1CXt62DeMk8RPPXVzV4vCcURNm_z_F7618uAeSHT7qT7wE_UiK5Ic0b-Eeuunn6iTGeHWbpAaUAP6-G2ePubeGWCb4_TmSapeaimZqvuUs)\n",
        "\n",
        "A função softmax ainda é melhor que a sigmoid, mas é melhor utilizada em problemas de classificação multi-classe.\n",
        "\n",
        "#### Tanh:\n",
        "\n",
        "![tanh graphic](https://production-media.paperswithcode.com/methods/Screen_Shot_2020-05-27_at_4.23.22_PM_dcuMBJl.png)\n",
        "\n",
        "A função tanh resolve um dos problemas das funções anteriores, a de ser centrada em zero.\n",
        "\n",
        "#### ReLU: ReLU (Rectified Linear Unit) is defined as f(x) = max(0,x):\n",
        "\n",
        "![ReLU](https://miro.medium.com/max/788/1*nLGwhQGJRDOnQvluaX-WiQ.png)\n",
        "\n",
        "\"This is a widely used activation function, especially with Convolutional Neural networks. It is easy to compute and does not saturate and does not cause the Vanishing Gradient Problem. It has just one issue of not being zero centred. It suffers from “dying ReLU” problem. Since the output is zero for all negative inputs. It causes some nodes to completely die and not learn anything.\n",
        "\n",
        "Another problem with ReLU is of exploding the activations since it higher limit is, well, inf. This sometimes leads to unusable nodes.\" - Mediun article at [Activation functions](https://towardsdatascience.com/everything-you-need-to-know-about-activation-functions-in-deep-learning-models-84ba9f82c253)\n",
        "\n",
        "#### Leaky ReLU and Parametric ReLU: It is defined as f(x) = max(αx, x)\n",
        "\n",
        "![Leak ReLU](https://miro.medium.com/max/850/1*scA-bQ597yTXJ-417RETAQ.png)\n",
        "\n",
        "\"Here α is a hyperparameter generally set to 0.01. Clearly, Leaky ReLU solves the “dying ReLU” problem to some extent. Note that, if we set α as 1 then Leaky ReLU will become a linear function f(x) = x and will be of no use. Hence, the value of α is never set close to 1. If we set α as a hyperparameter for each neuron separately, we get parametric ReLU or PReLU.\" - Mediun article at [Activation functions](https://towardsdatascience.com/everything-you-need-to-know-about-activation-functions-in-deep-learning-models-84ba9f82c253)\n",
        "\n",
        "![Activation Functions Cheat Sheet](https://static.wixstatic.com/media/8f929f_c90ad7e1f4c54b27b309e58ee2b9c654~mv2.png/v1/fit/w_880%2Ch_685%2Cal_c/file.png)"
      ],
      "metadata": {
        "id": "oziUKZ6krnqI"
      }
    },
    {
      "cell_type": "code",
      "source": [],
      "metadata": {
        "id": "swsFLwOPrpuO"
      },
      "execution_count": 10,
      "outputs": []
    },
    {
      "cell_type": "markdown",
      "source": [
        "## Sandbox\n",
        "\n",
        "Aqui vai qualquer coisa rs"
      ],
      "metadata": {
        "id": "AqL0oYnIB4co"
      }
    },
    {
      "cell_type": "code",
      "source": [
        "population_size = 40\n",
        "# With an initial population and a multi-part state.\n",
        "initial_population = (tf.random.normal([population_size]))\n",
        "\n",
        "print(f'initial pop: {initial_population}') \n",
        "\n",
        "def easom_fn(x):\n",
        "  return -tf.math.sin(x)\n",
        "\n",
        "st = time.time()\n",
        "\n",
        "optim_results = tfp.optimizer.differential_evolution_minimize(\n",
        "    easom_fn,\n",
        "    initial_population=initial_population,\n",
        "    max_iterations=50,\n",
        "    seed=43210)\n",
        "\n",
        "et = time.time()\n",
        "\n",
        "time_spent = et - st \n",
        "print(f'time spent {time_spent}')\n",
        "\n",
        "print(optim_results.converged)\n",
        "print(optim_results.position)  # Should be (close to) [pi, pi].\n",
        "print(optim_results.objective_value)    # Should be -1.\n",
        "print(optim_results.final_population) # final population\n",
        "print(optim_results.objective_value) # final value of objective fun. on the final position\n",
        "print(optim_results.final_objective_values)\n",
        "\n",
        "# With a single starting point\n",
        "initial_position = (tf.constant(1.0))\n",
        "\n",
        "optim_results = tfp.optimizer.differential_evolution_minimize(\n",
        "                easom_fn,\n",
        "                initial_position=initial_position,\n",
        "                population_size=40,\n",
        "                population_stddev=2.0,\n",
        "                seed=43210)"
      ],
      "metadata": {
        "id": "y8HKshPVssqX",
        "outputId": "704e42e1-d7de-4f08-c8ef-d42ebaedddb2",
        "colab": {
          "base_uri": "https://localhost:8080/"
        }
      },
      "execution_count": 11,
      "outputs": [
        {
          "output_type": "stream",
          "name": "stdout",
          "text": [
            "initial pop: [ 0.32452062  1.44908     1.2234534   0.23349041 -0.35857543 -1.0104084\n",
            "  2.5297244   1.4186497  -0.34219706  0.8966624  -1.1542518  -0.75803035\n",
            " -0.54729325 -1.7702619   1.3509654   0.48618603  0.58123326  0.23607251\n",
            "  0.90350866 -0.01200206 -0.92216986 -0.33217308 -0.37016776  0.72239006\n",
            " -1.521929   -1.0641006   1.4783592  -1.01009    -1.1969842  -0.36957052\n",
            " -0.09638357 -0.7774356  -0.40418187  1.4321592  -0.28403446 -2.1601532\n",
            "  0.17460312 -0.65572864  1.0808219   1.0117998 ]\n",
            "time spent 0.1906595230102539\n",
            "tf.Tensor(True, shape=(), dtype=bool)\n",
            "tf.Tensor(1.5708643, shape=(), dtype=float32)\n",
            "tf.Tensor(-1.0, shape=(), dtype=float32)\n",
            "tf.Tensor(\n",
            "[1.5708643 1.5708766 1.5705576 1.5705858 1.5708166 1.570616  1.5705651\n",
            " 1.5707753 1.5708405 1.5707188 1.5707703 1.5706084 1.5710099 1.5710189\n",
            " 1.5708066 1.570554  1.5705543 1.5709009 1.5706377 1.5708206 1.5708101\n",
            " 1.5707633 1.5707016 1.5708851 1.5706308 1.5706062 1.5706513 1.5707765\n",
            " 1.5708914 1.5706913 1.5705745 1.5705676 1.5708055 1.570913  1.5708097\n",
            " 1.5706835 1.5708714 1.5706508 1.5710182 1.5708767], shape=(40,), dtype=float32)\n",
            "tf.Tensor(-1.0, shape=(), dtype=float32)\n",
            "tf.Tensor(\n",
            "[-1. -1. -1. -1. -1. -1. -1. -1. -1. -1. -1. -1. -1. -1. -1. -1. -1. -1.\n",
            " -1. -1. -1. -1. -1. -1. -1. -1. -1. -1. -1. -1. -1. -1. -1. -1. -1. -1.\n",
            " -1. -1. -1. -1.], shape=(40,), dtype=float32)\n"
          ]
        }
      ]
    },
    {
      "cell_type": "code",
      "source": [
        "np.array(optim_results.position)"
      ],
      "metadata": {
        "id": "OCREEy_is5VT",
        "outputId": "06be55ca-aea9-4d77-d7a6-a8bf72fd3d3b",
        "colab": {
          "base_uri": "https://localhost:8080/"
        }
      },
      "execution_count": 12,
      "outputs": [
        {
          "output_type": "execute_result",
          "data": {
            "text/plain": [
              "array(1.5707088, dtype=float32)"
            ]
          },
          "metadata": {},
          "execution_count": 12
        }
      ]
    },
    {
      "cell_type": "markdown",
      "source": [
        "## Referências\n",
        "\n",
        "[Hot to get weights of layers in tensforflow ](https://www.gcptutorials.com/post/how-to-get-weights-of-layers-in-tensorflow)\n",
        "\n",
        "[tf.keras.Sequential](https://www.tensorflow.org/api_docs/python/tf/keras/Sequential)\n",
        "\n",
        "[Guia do tensorflow](https://www.tensorflow.org/guide/keras/sequential_model)\n",
        "\n",
        "[Tutoriasi do tensorflow](https://www.tensorflow.org/tutorials)"
      ],
      "metadata": {
        "id": "Y-rzNF3dH_T5"
      }
    }
  ],
  "metadata": {
    "language_info": {
      "name": "python"
    },
    "orig_nbformat": 4,
    "colab": {
      "name": "first_implementations.ipynb",
      "provenance": [],
      "include_colab_link": true
    },
    "kernelspec": {
      "name": "python3",
      "display_name": "Python 3"
    },
    "gpuClass": "standard"
  },
  "nbformat": 4,
  "nbformat_minor": 0
}