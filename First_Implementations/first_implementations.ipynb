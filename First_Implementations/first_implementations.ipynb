{
  "cells": [
    {
      "cell_type": "markdown",
      "metadata": {
        "id": "view-in-github",
        "colab_type": "text"
      },
      "source": [
        "<a href=\"https://colab.research.google.com/github/williambrunos/Deep-Learning-Neuro-evolution/blob/main/First_Implementations/first_implementations.ipynb\" target=\"_parent\"><img src=\"https://colab.research.google.com/assets/colab-badge.svg\" alt=\"Open In Colab\"/></a>"
      ]
    },
    {
      "cell_type": "markdown",
      "metadata": {
        "id": "D4zAOEssmVe5"
      },
      "source": [
        "# First Implementations with tensorflow\n",
        "\n",
        "## Abstract\n",
        "\n",
        "This notebook tries to implement some neural netowork used to solve some problem and tries to evolve the weights of it using neural evolution, implemented with [tensorflow](https://www.tensorflow.org/probability/api_docs/python/tfp/optimizer/differential_evolution_minimize)\n",
        "\n",
        "````Python\n",
        "tfp.optimizer.differential_evolution_minimize(\n",
        "    objective_function,\n",
        "    initial_population=None,\n",
        "    initial_position=None,\n",
        "    population_size=50,\n",
        "    population_stddev=1.0,\n",
        "    max_iterations=100,\n",
        "    func_tolerance=0,\n",
        "    position_tolerance=1e-08,\n",
        "    differential_weight=0.5,\n",
        "    crossover_prob=0.9,\n",
        "    seed=None,\n",
        "    name=None\n",
        ")\n",
        "````\n",
        "\n",
        "**obs**: if you read the documentation of this function, you'll see that the evolutionary algorithm will try to minimize the objective function, rather than maximize it. Because of this, it's important to implement a objective function with the negative value of the mathmatical expression.\n",
        "\n",
        "\"A candidate s_1 is considered better than s_2 if f(s_1) < f(s_2).\" - The function documentation"
      ]
    },
    {
      "cell_type": "markdown",
      "source": [
        "We can use as a base example:\n",
        "\n",
        "````Python\n",
        "population_size = 40\n",
        "  # With an initial population and a multi-part state.\n",
        "  initial_population = (tf.random.normal([population_size]),\n",
        "                        tf.random.normal([population_size]))\n",
        "  def easom_fn(x, y):\n",
        "    return -(tf.math.cos(x) * tf.math.cos(y) *\n",
        "             tf.math.exp(-(x-np.pi)**2 - (y-np.pi)**2))\n",
        "\n",
        "  optim_results = tfp.optimizer.differential_evolution_minimize(\n",
        "      easom_fn,\n",
        "      initial_population=initial_population,\n",
        "      seed=43210)\n",
        "\n",
        "  print(optim_results.converged)\n",
        "  print(optim_results.position)  # Should be (close to) [pi, pi].\n",
        "  print(optim_results.objective_value)    # Should be -1.\n",
        "\n",
        "\n",
        "  # With a single starting point\n",
        "  initial_position = (tf.constant(1.0), tf.constant(1.0))\n",
        "\n",
        "  optim_results = tfp.optimizer.differential_evolution_minimize(\n",
        "      easom_fn,\n",
        "      initial_position=initial_position,\n",
        "      population_size=40,\n",
        "      population_stddev=2.0,\n",
        "      seed=43210)\n",
        "````"
      ],
      "metadata": {
        "id": "yngWkhQf4QZF"
      }
    },
    {
      "cell_type": "markdown",
      "source": [
        "## Importações Necessárias"
      ],
      "metadata": {
        "id": "XNkiTiYdI-Pi"
      }
    },
    {
      "cell_type": "code",
      "source": [
        "import tensorflow as tf\n",
        "import tensorflow_probability as tfp\n",
        "import time\n",
        "\n",
        "import pandas as pd\n",
        "import numpy as np\n",
        "import matplotlib.pyplot as plt\n",
        "import seaborn as sns\n",
        "\n",
        "%matplotlib inline"
      ],
      "metadata": {
        "id": "x3i76T1am6Be"
      },
      "execution_count": 1,
      "outputs": []
    },
    {
      "cell_type": "markdown",
      "source": [
        "## Função de teste de tempo da evolução"
      ],
      "metadata": {
        "id": "dI-4xofaJBPQ"
      }
    },
    {
      "cell_type": "code",
      "source": [
        "def check_time_spent_by_evolutionary_algorithm(population_size,\n",
        "                                               objective_function: object,\n",
        "                                               max_iterations: int,\n",
        "                                               variate_population_size: bool,\n",
        "                                               seed=0):\n",
        "  \"\"\"\n",
        "  This function must check the time spent by the evolutionary algorithm\n",
        "  to upgrade the weights of a neural network according to some parameters\n",
        "  given by the function.\n",
        "\n",
        "  ----------------------\n",
        "  PARAMS\n",
        "  ---------------------\n",
        "\n",
        "  - population_size: the number of weights of the neural network. Can be\n",
        "  either a integer number or a list if the user want to variate the\n",
        "  values of 'population_size' parameter to be tested.\n",
        "\n",
        "  \"\"\"\n",
        "\n",
        "  list_of_times = []\n",
        "\n",
        "  if ((variate_population_size == True) and (type(population_size) is list)):\n",
        "    for size in population_size:\n",
        "      initial_population = (tf.random.normal([size]))\n",
        "\n",
        "      st = time.time()\n",
        "      optim_results = tfp.optimizer.differential_evolution_minimize(\n",
        "          objective_function=objective_function,\n",
        "          initial_population=initial_population,\n",
        "          max_iterations=max_iterations,\n",
        "          seed=seed\n",
        "      )\n",
        "      et = time.time()\n",
        "      time_taken = et - st\n",
        "      list_of_times.append(time_taken)\n",
        "  else:\n",
        "    raise ValueError('If variate_population_size is True, then population_size must be a list of possible values')\n",
        "\n",
        "  return list_of_times"
      ],
      "metadata": {
        "id": "MNocA4nJ4dK5"
      },
      "execution_count": 2,
      "outputs": []
    },
    {
      "cell_type": "markdown",
      "source": [
        "### Implementando a função de teste"
      ],
      "metadata": {
        "id": "Ck1PY1DNJEZc"
      }
    },
    {
      "cell_type": "code",
      "source": [
        "obj_func = lambda x: -(tf.math.sin(x) + tf.math.cos(x))\n",
        "population_size_list = [100000, 200000, 300000, 400000, 500000, 600000, 700000, 800000, 900000, 1000000]\n",
        "\n",
        "time_spent = check_time_spent_by_evolutionary_algorithm(population_size=population_size_list,\n",
        "                                                        objective_function=obj_func, \n",
        "                                                        max_iterations=50,\n",
        "                                                        variate_population_size=True,\n",
        "                                                        seed=0)"
      ],
      "metadata": {
        "id": "5nlVfLf6CKcs"
      },
      "execution_count": 3,
      "outputs": []
    },
    {
      "cell_type": "markdown",
      "source": [
        "### Visualizando os resultados"
      ],
      "metadata": {
        "id": "M3vI5nAPJGcV"
      }
    },
    {
      "cell_type": "code",
      "source": [
        "fig, ax = plt.subplots(nrows=1, ncols=1, figsize=(10, 6))\n",
        "\n",
        "ax.set_title('Time spent by the algorithm VS input size', fontsize=14)\n",
        "\n",
        "ax.set_xlabel('population_size', fontsize=14)\n",
        "\n",
        "ax.set_ylabel('time spent (seconds)', fontsize=14)\n",
        "# ax.plot(population_size_list, time_spent)\n",
        "sns.scatterplot(x=population_size_list, y=time_spent, ax=ax)\n",
        "\n",
        "sns.despine()\n",
        "plt.show()"
      ],
      "metadata": {
        "id": "chsQIf6EgZp0",
        "outputId": "cb078ea1-eada-48f7-9742-4b2331dcd8f2",
        "colab": {
          "base_uri": "https://localhost:8080/",
          "height": 409
        }
      },
      "execution_count": 4,
      "outputs": [
        {
          "output_type": "display_data",
          "data": {
            "text/plain": [
              "<Figure size 720x432 with 1 Axes>"
            ],
            "image/png": "[encoded data removed]"
          },
          "metadata": {
            "needs_background": "light"
          }
        }
      ]
    },
    {
      "cell_type": "markdown",
      "source": [
        "##  Implementando uma rede neural"
      ],
      "metadata": {
        "id": "zszA0gMsFkWN"
      }
    },
    {
      "cell_type": "markdown",
      "source": [
        "### Instanciando uma sequência de layers usando `tf.keras.Sequential`"
      ],
      "metadata": {
        "id": "qVhJfzagGFVj"
      }
    },
    {
      "cell_type": "code",
      "source": [
        "model = tf.keras.Sequential([\n",
        "    tf.keras.layers.Dense(3, activation='relu', name='first_layer', input_shape=(16, )),\n",
        "    tf.keras.layers.Dense(8, activation='tanh', name='second_layer'),\n",
        "    tf.keras.layers.Dense(3, name='last_layer')\n",
        "])"
      ],
      "metadata": {
        "id": "DcLIh23FFjxF"
      },
      "execution_count": 5,
      "outputs": []
    },
    {
      "cell_type": "code",
      "source": [
        "model.weights"
      ],
      "metadata": {
        "id": "159sYacZqEt6",
        "outputId": "5100dfee-5e1c-416a-e0a9-f3d774262232",
        "colab": {
          "base_uri": "https://localhost:8080/"
        }
      },
      "execution_count": 6,
      "outputs": [
        {
          "output_type": "execute_result",
          "data": {
            "text/plain": [
              "[<tf.Variable 'first_layer/kernel:0' shape=(16, 3) dtype=float32, numpy=\n",
              " array([[ 0.13335723,  0.4767105 ,  0.10464108],\n",
              "        [ 0.18302935, -0.42122978, -0.05008185],\n",
              "        [-0.19557267, -0.34547716, -0.48290437],\n",
              "        [ 0.23222065,  0.36432528,  0.17624527],\n",
              "        [ 0.022955  ,  0.29318744, -0.49342436],\n",
              "        [-0.39151913,  0.24338317,  0.18959099],\n",
              "        [ 0.5166134 , -0.2223067 , -0.5261502 ],\n",
              "        [-0.25021908,  0.3509332 , -0.37146145],\n",
              "        [-0.4422993 , -0.2831801 , -0.10071829],\n",
              "        [-0.12986034,  0.38857186, -0.10540128],\n",
              "        [ 0.2677313 ,  0.27664244, -0.22175953],\n",
              "        [ 0.40929317,  0.20123893,  0.38956153],\n",
              "        [-0.23700026, -0.06855819,  0.20691335],\n",
              "        [ 0.06021166, -0.5248755 , -0.04232752],\n",
              "        [ 0.36028767, -0.3459288 ,  0.3880059 ],\n",
              "        [ 0.02747977,  0.36815912, -0.29936725]], dtype=float32)>,\n",
              " <tf.Variable 'first_layer/bias:0' shape=(3,) dtype=float32, numpy=array([0., 0., 0.], dtype=float32)>,\n",
              " <tf.Variable 'second_layer/kernel:0' shape=(3, 8) dtype=float32, numpy=\n",
              " array([[ 0.6978882 , -0.20917857,  0.7187932 ,  0.5968217 , -0.6102569 ,\n",
              "         -0.03434938,  0.06691712,  0.6848809 ],\n",
              "        [ 0.497418  ,  0.44512516,  0.5893336 , -0.06010532, -0.2571665 ,\n",
              "          0.49504298, -0.569851  ,  0.1645056 ],\n",
              "        [-0.55664027,  0.42261285,  0.38957268,  0.17141086,  0.51541084,\n",
              "         -0.20091724, -0.00869888,  0.3791688 ]], dtype=float32)>,\n",
              " <tf.Variable 'second_layer/bias:0' shape=(8,) dtype=float32, numpy=array([0., 0., 0., 0., 0., 0., 0., 0.], dtype=float32)>,\n",
              " <tf.Variable 'last_layer/kernel:0' shape=(8, 3) dtype=float32, numpy=\n",
              " array([[ 0.35524434, -0.6315764 , -0.0637545 ],\n",
              "        [-0.39550143,  0.5237531 , -0.09096438],\n",
              "        [-0.5957686 ,  0.24693286, -0.04899675],\n",
              "        [ 0.7376229 ,  0.13742387, -0.6553127 ],\n",
              "        [-0.29547846, -0.30521464, -0.4575405 ],\n",
              "        [-0.7376046 ,  0.24572104, -0.0072214 ],\n",
              "        [-0.5966222 ,  0.4233442 ,  0.20582503],\n",
              "        [-0.67645085, -0.36210364,  0.37500948]], dtype=float32)>,\n",
              " <tf.Variable 'last_layer/bias:0' shape=(3,) dtype=float32, numpy=array([0., 0., 0.], dtype=float32)>]"
            ]
          },
          "metadata": {},
          "execution_count": 6
        }
      ]
    },
    {
      "cell_type": "markdown",
      "source": [
        "### Buildando o modelo utilizando um input"
      ],
      "metadata": {
        "id": "Sx2jqWwCGLrD"
      }
    },
    {
      "cell_type": "code",
      "source": [
        "input = tf.random.normal((1, 16))\n",
        "output = model(input)\n",
        "print(output)\n",
        "print(model.weights)"
      ],
      "metadata": {
        "colab": {
          "base_uri": "https://localhost:8080/"
        },
        "id": "FHvTrp-hGAOZ",
        "outputId": "fe98f00c-365b-4a52-f1db-5729ef18dc06"
      },
      "execution_count": 7,
      "outputs": [
        {
          "output_type": "stream",
          "name": "stdout",
          "text": [
            "tf.Tensor([[-0.5845158   0.20747027 -0.15225953]], shape=(1, 3), dtype=float32)\n",
            "[<tf.Variable 'first_layer/kernel:0' shape=(16, 3) dtype=float32, numpy=\n",
            "array([[ 0.13335723,  0.4767105 ,  0.10464108],\n",
            "       [ 0.18302935, -0.42122978, -0.05008185],\n",
            "       [-0.19557267, -0.34547716, -0.48290437],\n",
            "       [ 0.23222065,  0.36432528,  0.17624527],\n",
            "       [ 0.022955  ,  0.29318744, -0.49342436],\n",
            "       [-0.39151913,  0.24338317,  0.18959099],\n",
            "       [ 0.5166134 , -0.2223067 , -0.5261502 ],\n",
            "       [-0.25021908,  0.3509332 , -0.37146145],\n",
            "       [-0.4422993 , -0.2831801 , -0.10071829],\n",
            "       [-0.12986034,  0.38857186, -0.10540128],\n",
            "       [ 0.2677313 ,  0.27664244, -0.22175953],\n",
            "       [ 0.40929317,  0.20123893,  0.38956153],\n",
            "       [-0.23700026, -0.06855819,  0.20691335],\n",
            "       [ 0.06021166, -0.5248755 , -0.04232752],\n",
            "       [ 0.36028767, -0.3459288 ,  0.3880059 ],\n",
            "       [ 0.02747977,  0.36815912, -0.29936725]], dtype=float32)>, <tf.Variable 'first_layer/bias:0' shape=(3,) dtype=float32, numpy=array([0., 0., 0.], dtype=float32)>, <tf.Variable 'second_layer/kernel:0' shape=(3, 8) dtype=float32, numpy=\n",
            "array([[ 0.6978882 , -0.20917857,  0.7187932 ,  0.5968217 , -0.6102569 ,\n",
            "        -0.03434938,  0.06691712,  0.6848809 ],\n",
            "       [ 0.497418  ,  0.44512516,  0.5893336 , -0.06010532, -0.2571665 ,\n",
            "         0.49504298, -0.569851  ,  0.1645056 ],\n",
            "       [-0.55664027,  0.42261285,  0.38957268,  0.17141086,  0.51541084,\n",
            "        -0.20091724, -0.00869888,  0.3791688 ]], dtype=float32)>, <tf.Variable 'second_layer/bias:0' shape=(8,) dtype=float32, numpy=array([0., 0., 0., 0., 0., 0., 0., 0.], dtype=float32)>, <tf.Variable 'last_layer/kernel:0' shape=(8, 3) dtype=float32, numpy=\n",
            "array([[ 0.35524434, -0.6315764 , -0.0637545 ],\n",
            "       [-0.39550143,  0.5237531 , -0.09096438],\n",
            "       [-0.5957686 ,  0.24693286, -0.04899675],\n",
            "       [ 0.7376229 ,  0.13742387, -0.6553127 ],\n",
            "       [-0.29547846, -0.30521464, -0.4575405 ],\n",
            "       [-0.7376046 ,  0.24572104, -0.0072214 ],\n",
            "       [-0.5966222 ,  0.4233442 ,  0.20582503],\n",
            "       [-0.67645085, -0.36210364,  0.37500948]], dtype=float32)>, <tf.Variable 'last_layer/bias:0' shape=(3,) dtype=float32, numpy=array([0., 0., 0.], dtype=float32)>]\n"
          ]
        }
      ]
    },
    {
      "cell_type": "markdown",
      "source": [
        "### Iterando por todas as camadas do modelo"
      ],
      "metadata": {
        "id": "rKHxFtdFGhpd"
      }
    },
    {
      "cell_type": "code",
      "source": [
        "for layer in model.layers:\n",
        "  print(layer.name, layer)"
      ],
      "metadata": {
        "colab": {
          "base_uri": "https://localhost:8080/"
        },
        "id": "r5SGqvqpGVv-",
        "outputId": "037dce8c-5444-4100-e159-bc0f4a88d55c"
      },
      "execution_count": 8,
      "outputs": [
        {
          "output_type": "stream",
          "name": "stdout",
          "text": [
            "first_layer <keras.layers.core.dense.Dense object at 0x7f572be5a490>\n",
            "second_layer <keras.layers.core.dense.Dense object at 0x7f573020a210>\n",
            "last_layer <keras.layers.core.dense.Dense object at 0x7f572be4a590>\n"
          ]
        }
      ]
    },
    {
      "cell_type": "markdown",
      "source": [
        "### Obtendo pesos, viéses e inicializadores de viéses"
      ],
      "metadata": {
        "id": "ydSGp_xEGfRp"
      }
    },
    {
      "cell_type": "code",
      "source": [
        "# first layer\n",
        "print('====FIRST LAYER====\\n\\n')\n",
        "print(model.layers[0].weights)\n",
        "print(model.layers[0].bias.numpy())\n",
        "print(model.layers[0].bias_initializer)\n",
        "\n",
        "# second layer\n",
        "print('\\n\\n====SECOND LAYER====\\n\\n')\n",
        "print(model.layers[1].weights)\n",
        "print(model.layers[1].bias.numpy())\n",
        "print(model.layers[1].bias_initializer)\n",
        "\n",
        "# third layer\n",
        "print('\\n\\n====THIRD LAYER====\\n\\n')\n",
        "print(model.layers[2].weights)\n",
        "print(model.layers[2].bias.numpy())\n",
        "print(model.layers[2].bias_initializer)"
      ],
      "metadata": {
        "colab": {
          "base_uri": "https://localhost:8080/"
        },
        "id": "VwiP9n2VGWus",
        "outputId": "68a263af-554c-4853-debc-f8545615e3ca"
      },
      "execution_count": 9,
      "outputs": [
        {
          "output_type": "stream",
          "name": "stdout",
          "text": [
            "====FIRST LAYER====\n",
            "\n",
            "\n",
            "[<tf.Variable 'first_layer/kernel:0' shape=(16, 3) dtype=float32, numpy=\n",
            "array([[ 0.13335723,  0.4767105 ,  0.10464108],\n",
            "       [ 0.18302935, -0.42122978, -0.05008185],\n",
            "       [-0.19557267, -0.34547716, -0.48290437],\n",
            "       [ 0.23222065,  0.36432528,  0.17624527],\n",
            "       [ 0.022955  ,  0.29318744, -0.49342436],\n",
            "       [-0.39151913,  0.24338317,  0.18959099],\n",
            "       [ 0.5166134 , -0.2223067 , -0.5261502 ],\n",
            "       [-0.25021908,  0.3509332 , -0.37146145],\n",
            "       [-0.4422993 , -0.2831801 , -0.10071829],\n",
            "       [-0.12986034,  0.38857186, -0.10540128],\n",
            "       [ 0.2677313 ,  0.27664244, -0.22175953],\n",
            "       [ 0.40929317,  0.20123893,  0.38956153],\n",
            "       [-0.23700026, -0.06855819,  0.20691335],\n",
            "       [ 0.06021166, -0.5248755 , -0.04232752],\n",
            "       [ 0.36028767, -0.3459288 ,  0.3880059 ],\n",
            "       [ 0.02747977,  0.36815912, -0.29936725]], dtype=float32)>, <tf.Variable 'first_layer/bias:0' shape=(3,) dtype=float32, numpy=array([0., 0., 0.], dtype=float32)>]\n",
            "[0. 0. 0.]\n",
            "<keras.initializers.initializers_v2.Zeros object at 0x7f573020a390>\n",
            "\n",
            "\n",
            "====SECOND LAYER====\n",
            "\n",
            "\n",
            "[<tf.Variable 'second_layer/kernel:0' shape=(3, 8) dtype=float32, numpy=\n",
            "array([[ 0.6978882 , -0.20917857,  0.7187932 ,  0.5968217 , -0.6102569 ,\n",
            "        -0.03434938,  0.06691712,  0.6848809 ],\n",
            "       [ 0.497418  ,  0.44512516,  0.5893336 , -0.06010532, -0.2571665 ,\n",
            "         0.49504298, -0.569851  ,  0.1645056 ],\n",
            "       [-0.55664027,  0.42261285,  0.38957268,  0.17141086,  0.51541084,\n",
            "        -0.20091724, -0.00869888,  0.3791688 ]], dtype=float32)>, <tf.Variable 'second_layer/bias:0' shape=(8,) dtype=float32, numpy=array([0., 0., 0., 0., 0., 0., 0., 0.], dtype=float32)>]\n",
            "[0. 0. 0. 0. 0. 0. 0. 0.]\n",
            "<keras.initializers.initializers_v2.Zeros object at 0x7f572be4aed0>\n",
            "\n",
            "\n",
            "====THIRD LAYER====\n",
            "\n",
            "\n",
            "[<tf.Variable 'last_layer/kernel:0' shape=(8, 3) dtype=float32, numpy=\n",
            "array([[ 0.35524434, -0.6315764 , -0.0637545 ],\n",
            "       [-0.39550143,  0.5237531 , -0.09096438],\n",
            "       [-0.5957686 ,  0.24693286, -0.04899675],\n",
            "       [ 0.7376229 ,  0.13742387, -0.6553127 ],\n",
            "       [-0.29547846, -0.30521464, -0.4575405 ],\n",
            "       [-0.7376046 ,  0.24572104, -0.0072214 ],\n",
            "       [-0.5966222 ,  0.4233442 ,  0.20582503],\n",
            "       [-0.67645085, -0.36210364,  0.37500948]], dtype=float32)>, <tf.Variable 'last_layer/bias:0' shape=(3,) dtype=float32, numpy=array([0., 0., 0.], dtype=float32)>]\n",
            "[0. 0. 0.]\n",
            "<keras.initializers.initializers_v2.Zeros object at 0x7f572be4a310>\n"
          ]
        }
      ]
    },
    {
      "cell_type": "markdown",
      "source": [
        "### Obtendo os mesmos dados utilizando nomes das camadas"
      ],
      "metadata": {
        "id": "2MUz5WZJHtX3"
      }
    },
    {
      "cell_type": "code",
      "source": [
        "# firstlayer by name\n",
        "print('====FIRST LAYER====\\n\\n')\n",
        "print((model.get_layer(\"first_layer\").weights))\n",
        "\n",
        "# secondlayer by name\n",
        "print('\\n\\n====SECOND LAYER====\\n\\n')\n",
        "print((model.get_layer(\"second_layer\").weights))\n",
        "\n",
        "# lastlayer by name\n",
        "print('\\n\\n====THIRD LAYER====\\n\\n')\n",
        "print((model.get_layer(\"last_layer\").weights))"
      ],
      "metadata": {
        "colab": {
          "base_uri": "https://localhost:8080/"
        },
        "id": "33TSZ01nHwMQ",
        "outputId": "bd705d64-32cc-4d0b-de1a-c963bfbd73b1"
      },
      "execution_count": 10,
      "outputs": [
        {
          "output_type": "stream",
          "name": "stdout",
          "text": [
            "====FIRST LAYER====\n",
            "\n",
            "\n",
            "[<tf.Variable 'first_layer/kernel:0' shape=(16, 3) dtype=float32, numpy=\n",
            "array([[ 0.13335723,  0.4767105 ,  0.10464108],\n",
            "       [ 0.18302935, -0.42122978, -0.05008185],\n",
            "       [-0.19557267, -0.34547716, -0.48290437],\n",
            "       [ 0.23222065,  0.36432528,  0.17624527],\n",
            "       [ 0.022955  ,  0.29318744, -0.49342436],\n",
            "       [-0.39151913,  0.24338317,  0.18959099],\n",
            "       [ 0.5166134 , -0.2223067 , -0.5261502 ],\n",
            "       [-0.25021908,  0.3509332 , -0.37146145],\n",
            "       [-0.4422993 , -0.2831801 , -0.10071829],\n",
            "       [-0.12986034,  0.38857186, -0.10540128],\n",
            "       [ 0.2677313 ,  0.27664244, -0.22175953],\n",
            "       [ 0.40929317,  0.20123893,  0.38956153],\n",
            "       [-0.23700026, -0.06855819,  0.20691335],\n",
            "       [ 0.06021166, -0.5248755 , -0.04232752],\n",
            "       [ 0.36028767, -0.3459288 ,  0.3880059 ],\n",
            "       [ 0.02747977,  0.36815912, -0.29936725]], dtype=float32)>, <tf.Variable 'first_layer/bias:0' shape=(3,) dtype=float32, numpy=array([0., 0., 0.], dtype=float32)>]\n",
            "\n",
            "\n",
            "====SECOND LAYER====\n",
            "\n",
            "\n",
            "[<tf.Variable 'second_layer/kernel:0' shape=(3, 8) dtype=float32, numpy=\n",
            "array([[ 0.6978882 , -0.20917857,  0.7187932 ,  0.5968217 , -0.6102569 ,\n",
            "        -0.03434938,  0.06691712,  0.6848809 ],\n",
            "       [ 0.497418  ,  0.44512516,  0.5893336 , -0.06010532, -0.2571665 ,\n",
            "         0.49504298, -0.569851  ,  0.1645056 ],\n",
            "       [-0.55664027,  0.42261285,  0.38957268,  0.17141086,  0.51541084,\n",
            "        -0.20091724, -0.00869888,  0.3791688 ]], dtype=float32)>, <tf.Variable 'second_layer/bias:0' shape=(8,) dtype=float32, numpy=array([0., 0., 0., 0., 0., 0., 0., 0.], dtype=float32)>]\n",
            "\n",
            "\n",
            "====THIRD LAYER====\n",
            "\n",
            "\n",
            "[<tf.Variable 'last_layer/kernel:0' shape=(8, 3) dtype=float32, numpy=\n",
            "array([[ 0.35524434, -0.6315764 , -0.0637545 ],\n",
            "       [-0.39550143,  0.5237531 , -0.09096438],\n",
            "       [-0.5957686 ,  0.24693286, -0.04899675],\n",
            "       [ 0.7376229 ,  0.13742387, -0.6553127 ],\n",
            "       [-0.29547846, -0.30521464, -0.4575405 ],\n",
            "       [-0.7376046 ,  0.24572104, -0.0072214 ],\n",
            "       [-0.5966222 ,  0.4233442 ,  0.20582503],\n",
            "       [-0.67645085, -0.36210364,  0.37500948]], dtype=float32)>, <tf.Variable 'last_layer/bias:0' shape=(3,) dtype=float32, numpy=array([0., 0., 0.], dtype=float32)>]\n"
          ]
        }
      ]
    },
    {
      "cell_type": "markdown",
      "source": [
        "## Escopo da Pesquisa"
      ],
      "metadata": {
        "id": "EsIi6FpwrkZn"
      }
    },
    {
      "cell_type": "markdown",
      "source": [
        "### Funções de Ativação\n",
        "\n",
        "#### Sigmoid:\n",
        "\n",
        "![Sigmoid funciton](https://miro.medium.com/max/875/1*hYXbd20tIReMJ3T5D4OZLg.png)\n",
        "\n",
        "A função sigmoid está presente apenas por razões históricas. Ela é não linear, mas muito computacionalmente custosa, causa desaparecimento do gradiente e não é centrada em zero.\n",
        "\n",
        "É melhor usada em problemas de classificação binária na última camada da rede.\n",
        "\n",
        "#### Softmax:\n",
        "\n",
        "![Softmax function](https://lh6.googleusercontent.com/3vcfJ5hJhsMZAMFIbQOEycfVW1t6rh1CXt62DeMk8RPPXVzV4vCcURNm_z_F7618uAeSHT7qT7wE_UiK5Ic0b-Eeuunn6iTGeHWbpAaUAP6-G2ePubeGWCb4_TmSapeaimZqvuUs)\n",
        "\n",
        "A função softmax ainda é melhor que a sigmoid, mas é melhor utilizada em problemas de classificação multi-classe.\n",
        "\n",
        "#### Tanh:\n",
        "\n",
        "![tanh graphic](https://production-media.paperswithcode.com/methods/Screen_Shot_2020-05-27_at_4.23.22_PM_dcuMBJl.png)\n",
        "\n",
        "A função tanh resolve um dos problemas das funções anteriores, a de ser centrada em zero.\n",
        "\n",
        "#### ReLU: ReLU (Rectified Linear Unit) is defined as f(x) = max(0,x):\n",
        "\n",
        "![ReLU](https://miro.medium.com/max/788/1*nLGwhQGJRDOnQvluaX-WiQ.png)\n",
        "\n",
        "\"This is a widely used activation function, especially with Convolutional Neural networks. It is easy to compute and does not saturate and does not cause the Vanishing Gradient Problem. It has just one issue of not being zero centred. It suffers from “dying ReLU” problem. Since the output is zero for all negative inputs. It causes some nodes to completely die and not learn anything.\n",
        "\n",
        "Another problem with ReLU is of exploding the activations since it higher limit is, well, inf. This sometimes leads to unusable nodes.\" - Mediun article at [Activation functions](https://towardsdatascience.com/everything-you-need-to-know-about-activation-functions-in-deep-learning-models-84ba9f82c253)\n",
        "\n",
        "#### Leaky ReLU and Parametric ReLU: It is defined as f(x) = max(αx, x)\n",
        "\n",
        "![Leak ReLU](https://miro.medium.com/max/850/1*scA-bQ597yTXJ-417RETAQ.png)\n",
        "\n",
        "\"Here α is a hyperparameter generally set to 0.01. Clearly, Leaky ReLU solves the “dying ReLU” problem to some extent. Note that, if we set α as 1 then Leaky ReLU will become a linear function f(x) = x and will be of no use. Hence, the value of α is never set close to 1. If we set α as a hyperparameter for each neuron separately, we get parametric ReLU or PReLU.\" - Mediun article at [Activation functions](https://towardsdatascience.com/everything-you-need-to-know-about-activation-functions-in-deep-learning-models-84ba9f82c253)\n",
        "\n",
        "![Activation Functions Cheat Sheet](https://static.wixstatic.com/media/8f929f_c90ad7e1f4c54b27b309e58ee2b9c654~mv2.png/v1/fit/w_880%2Ch_685%2Cal_c/file.png)"
      ],
      "metadata": {
        "id": "oziUKZ6krnqI"
      }
    },
    {
      "cell_type": "code",
      "source": [],
      "metadata": {
        "id": "swsFLwOPrpuO"
      },
      "execution_count": null,
      "outputs": []
    },
    {
      "cell_type": "markdown",
      "source": [
        "## Sandbox\n",
        "\n",
        "Aqui vai qualquer coisa rs"
      ],
      "metadata": {
        "id": "AqL0oYnIB4co"
      }
    },
    {
      "cell_type": "code",
      "source": [
        "population_size = 40\n",
        "# With an initial population and a multi-part state.\n",
        "initial_population = (tf.random.normal([population_size]))\n",
        "\n",
        "print(f'initial pop: {initial_population}') \n",
        "\n",
        "def easom_fn(x):\n",
        "  return -tf.math.sin(x)\n",
        "\n",
        "st = time.time()\n",
        "\n",
        "optim_results = tfp.optimizer.differential_evolution_minimize(\n",
        "    easom_fn,\n",
        "    initial_population=initial_population,\n",
        "    max_iterations=50,\n",
        "    seed=43210)\n",
        "\n",
        "et = time.time()\n",
        "\n",
        "time_spent = et - st \n",
        "print(f'time spent {time_spent}')\n",
        "\n",
        "print(optim_results.converged)\n",
        "print(optim_results.position)  # Should be (close to) [pi, pi].\n",
        "print(optim_results.objective_value)    # Should be -1.\n",
        "print(optim_results.final_population) # final population\n",
        "print(optim_results.objective_value) # final value of objective fun. on the final position\n",
        "print(optim_results.final_objective_values)\n",
        "\n",
        "# With a single starting point\n",
        "initial_position = (tf.constant(1.0))\n",
        "\n",
        "optim_results = tfp.optimizer.differential_evolution_minimize(\n",
        "                easom_fn,\n",
        "                initial_position=initial_position,\n",
        "                population_size=40,\n",
        "                population_stddev=2.0,\n",
        "                seed=43210)"
      ],
      "metadata": {
        "id": "y8HKshPVssqX",
        "outputId": "98d6d1c1-c251-41d3-bfa4-692bb495b52b",
        "colab": {
          "base_uri": "https://localhost:8080/"
        }
      },
      "execution_count": 11,
      "outputs": [
        {
          "output_type": "stream",
          "name": "stdout",
          "text": [
            "initial pop: [-6.8903059e-02 -2.9329750e-01 -1.4447140e+00  1.5607460e+00\n",
            " -1.0128423e+00 -1.5110725e-01  1.7252089e+00  2.2731772e-01\n",
            " -2.1454100e-01  3.6599907e-01  1.5726922e-01  4.0914461e-01\n",
            " -3.2348338e-01 -5.6142974e-01  8.1531477e-01 -7.9229391e-01\n",
            "  1.9283329e+00 -7.3319739e-01  3.4639519e-01 -1.5994829e+00\n",
            " -1.2308563e+00  4.7202745e-01  6.0325032e-01 -1.3285965e+00\n",
            "  1.1110790e+00 -7.7231032e-01 -1.7790461e+00 -8.7694985e-01\n",
            " -5.2527207e-01  6.4629656e-01 -2.6917779e-01 -6.4112097e-01\n",
            " -2.0045483e+00  6.7666903e-02  6.4953811e-02  5.7702708e-01\n",
            "  8.7208354e-01  1.7688515e-03  9.0383393e-01  3.7774917e-01]\n",
            "time spent 0.15234708786010742\n",
            "tf.Tensor(True, shape=(), dtype=bool)\n",
            "tf.Tensor(1.5706282, shape=(), dtype=float32)\n",
            "tf.Tensor(-1.0, shape=(), dtype=float32)\n",
            "tf.Tensor(\n",
            "[1.5706282 1.5706259 1.5707183 1.5707582 1.571017  1.5706664 1.5705643\n",
            " 1.5708711 1.5705869 1.5708101 1.5706593 1.5708835 1.5708315 1.5706854\n",
            " 1.5707663 1.5706046 1.5707966 1.5709869 1.5708666 1.5708615 1.5707943\n",
            " 1.5708747 1.5705638 1.5709813 1.5705703 1.5707272 1.5706666 1.5706513\n",
            " 1.5707006 1.5706221 1.5708418 1.570627  1.5706255 1.5708226 1.5706122\n",
            " 1.570621  1.57076   1.5705664 1.5707269 1.5706445], shape=(40,), dtype=float32)\n",
            "tf.Tensor(-1.0, shape=(), dtype=float32)\n",
            "tf.Tensor(\n",
            "[-1. -1. -1. -1. -1. -1. -1. -1. -1. -1. -1. -1. -1. -1. -1. -1. -1. -1.\n",
            " -1. -1. -1. -1. -1. -1. -1. -1. -1. -1. -1. -1. -1. -1. -1. -1. -1. -1.\n",
            " -1. -1. -1. -1.], shape=(40,), dtype=float32)\n"
          ]
        }
      ]
    },
    {
      "cell_type": "code",
      "source": [
        "np.array(optim_results.position)"
      ],
      "metadata": {
        "id": "OCREEy_is5VT",
        "outputId": "c52c56ea-9c96-4b1d-a8b6-ef9e0aed881f",
        "colab": {
          "base_uri": "https://localhost:8080/"
        }
      },
      "execution_count": 12,
      "outputs": [
        {
          "output_type": "execute_result",
          "data": {
            "text/plain": [
              "array(1.5707088, dtype=float32)"
            ]
          },
          "metadata": {},
          "execution_count": 12
        }
      ]
    },
    {
      "cell_type": "markdown",
      "source": [
        "## Referências\n",
        "\n",
        "[Hot to get weights of layers in tensforflow ](https://www.gcptutorials.com/post/how-to-get-weights-of-layers-in-tensorflow)\n",
        "\n",
        "[tf.keras.Sequential](https://www.tensorflow.org/api_docs/python/tf/keras/Sequential)\n",
        "\n",
        "[Guia do tensorflow](https://www.tensorflow.org/guide/keras/sequential_model)\n",
        "\n",
        "[Tutoriasi do tensorflow](https://www.tensorflow.org/tutorials)"
      ],
      "metadata": {
        "id": "Y-rzNF3dH_T5"
      }
    }
  ],
  "metadata": {
    "language_info": {
      "name": "python"
    },
    "orig_nbformat": 4,
    "colab": {
      "name": "first_implementations.ipynb",
      "provenance": [],
      "include_colab_link": true
    },
    "kernelspec": {
      "name": "python3",
      "display_name": "Python 3"
    },
    "gpuClass": "standard"
  },
  "nbformat": 4,
  "nbformat_minor": 0
}