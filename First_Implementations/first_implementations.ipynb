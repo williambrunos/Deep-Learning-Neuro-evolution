{
  "cells": [
    {
      "cell_type": "markdown",
      "metadata": {
        "id": "view-in-github",
        "colab_type": "text"
      },
      "source": [
        "<a href=\"https://colab.research.google.com/github/williambrunos/Deep-Learning-Neuro-evolution/blob/main/First_Implementations/first_implementations.ipynb\" target=\"_parent\"><img src=\"https://colab.research.google.com/assets/colab-badge.svg\" alt=\"Open In Colab\"/></a>"
      ]
    },
    {
      "cell_type": "markdown",
      "metadata": {
        "id": "D4zAOEssmVe5"
      },
      "source": [
        "# First Implementations with tensorflow\n",
        "\n",
        "## Abstract\n",
        "\n",
        "This notebook tries to implement some neural netowork used to solve some problem and tries to evolve the weights of it using neural evolution, implemented with [tensorflow](https://www.tensorflow.org/probability/api_docs/python/tfp/optimizer/differential_evolution_minimize)\n",
        "\n",
        "````Python\n",
        "tfp.optimizer.differential_evolution_minimize(\n",
        "    objective_function,\n",
        "    initial_population=None,\n",
        "    initial_position=None,\n",
        "    population_size=50,\n",
        "    population_stddev=1.0,\n",
        "    max_iterations=100,\n",
        "    func_tolerance=0,\n",
        "    position_tolerance=1e-08,\n",
        "    differential_weight=0.5,\n",
        "    crossover_prob=0.9,\n",
        "    seed=None,\n",
        "    name=None\n",
        ")\n",
        "````\n",
        "\n",
        "**obs**: if you read the documentation of this function, you'll see that the evolutionary algorithm will try to minimize the objective function, rather than maximize it. Because of this, it's important to implement a objective function with the negative value of the mathmatical expression.\n",
        "\n",
        "\"A candidate s_1 is considered better than s_2 if f(s_1) < f(s_2).\" - The function documentation"
      ]
    },
    {
      "cell_type": "markdown",
      "source": [
        "We can use as a base example:\n",
        "\n",
        "````Python\n",
        "population_size = 40\n",
        "  # With an initial population and a multi-part state.\n",
        "  initial_population = (tf.random.normal([population_size]),\n",
        "                        tf.random.normal([population_size]))\n",
        "  def easom_fn(x, y):\n",
        "    return -(tf.math.cos(x) * tf.math.cos(y) *\n",
        "             tf.math.exp(-(x-np.pi)**2 - (y-np.pi)**2))\n",
        "\n",
        "  optim_results = tfp.optimizer.differential_evolution_minimize(\n",
        "      easom_fn,\n",
        "      initial_population=initial_population,\n",
        "      seed=43210)\n",
        "\n",
        "  print(optim_results.converged)\n",
        "  print(optim_results.position)  # Should be (close to) [pi, pi].\n",
        "  print(optim_results.objective_value)    # Should be -1.\n",
        "\n",
        "\n",
        "  # With a single starting point\n",
        "  initial_position = (tf.constant(1.0), tf.constant(1.0))\n",
        "\n",
        "  optim_results = tfp.optimizer.differential_evolution_minimize(\n",
        "      easom_fn,\n",
        "      initial_position=initial_position,\n",
        "      population_size=40,\n",
        "      population_stddev=2.0,\n",
        "      seed=43210)\n",
        "````"
      ],
      "metadata": {
        "id": "yngWkhQf4QZF"
      }
    },
    {
      "cell_type": "code",
      "source": [
        "import tensorflow as tf\n",
        "import tensorflow_probability as tfp\n",
        "import time\n",
        "\n",
        "import pandas as pd\n",
        "import numpy as np\n",
        "import matplotlib.pyplot as plt\n",
        "import seaborn as sns\n",
        "\n",
        "%matplotlib inline"
      ],
      "metadata": {
        "id": "x3i76T1am6Be"
      },
      "execution_count": 1,
      "outputs": []
    },
    {
      "cell_type": "code",
      "source": [
        "def check_time_spent_by_evolutionary_algorithm(population_size,\n",
        "                                               objective_function: object,\n",
        "                                               max_iterations: int,\n",
        "                                               variate_population_size: bool,\n",
        "                                               seed=0):\n",
        "  \"\"\"\n",
        "  This function must check the time spent by the evolutionary algorithm\n",
        "  to upgrade the weights of a neural network according to some parameters\n",
        "  given by the function.\n",
        "\n",
        "  ----------------------\n",
        "  PARAMS\n",
        "  ---------------------\n",
        "\n",
        "  - population_size: the number of weights of the neural network. Can be\n",
        "  either a integer number or a list if the user want to variate the\n",
        "  values of 'population_size' parameter to be tested.\n",
        "\n",
        "  \"\"\"\n",
        "\n",
        "  list_of_times = []\n",
        "\n",
        "  if ((variate_population_size == True) and (type(population_size) is list)):\n",
        "    for size in population_size:\n",
        "      initial_population = (tf.random.normal([size]))\n",
        "\n",
        "      st = time.time()\n",
        "      optim_results = tfp.optimizer.differential_evolution_minimize(\n",
        "          objective_function=objective_function,\n",
        "          initial_population=initial_population,\n",
        "          max_iterations=max_iterations,\n",
        "          seed=seed\n",
        "      )\n",
        "      et = time.time()\n",
        "      time_taken = et - st\n",
        "      list_of_times.append(time_taken)\n",
        "  else:\n",
        "    raise ValueError('If variate_population_size is True, then population_size must be a list of possible values')\n",
        "\n",
        "  return list_of_times"
      ],
      "metadata": {
        "id": "MNocA4nJ4dK5"
      },
      "execution_count": 2,
      "outputs": []
    },
    {
      "cell_type": "code",
      "source": [
        "obj_func = lambda x: -(tf.math.sin(x) + tf.math.cos(x))\n",
        "population_size_list = [100000, 200000, 300000, 400000, 500000, 600000, 700000, 800000, 900000, 1000000]\n",
        "\n",
        "time_spent = check_time_spent_by_evolutionary_algorithm(population_size=population_size_list,\n",
        "                                                        objective_function=obj_func, \n",
        "                                                        max_iterations=50,\n",
        "                                                        variate_population_size=True,\n",
        "                                                        seed=0)"
      ],
      "metadata": {
        "id": "5nlVfLf6CKcs"
      },
      "execution_count": 9,
      "outputs": []
    },
    {
      "cell_type": "code",
      "source": [
        "fig, ax = plt.subplots(nrows=1, ncols=1, figsize=(10, 6))\n",
        "\n",
        "ax.set_title('Time spent by the algorithm VS input size', fontsize=14)\n",
        "\n",
        "ax.set_xlabel('population_size', fontsize=14)\n",
        "\n",
        "ax.set_ylabel('time spent (seconds)', fontsize=14)\n",
        "# ax.plot(population_size_list, time_spent)\n",
        "sns.scatterplot(x=population_size_list, y=time_spent, ax=ax)\n",
        "\n",
        "sns.despine()\n",
        "plt.show()"
      ],
      "metadata": {
        "id": "chsQIf6EgZp0",
        "outputId": "3a44dd09-777e-4b3d-dc55-e76484ddc885",
        "colab": {
          "base_uri": "https://localhost:8080/",
          "height": 409
        }
      },
      "execution_count": 10,
      "outputs": [
        {
          "output_type": "display_data",
          "data": {
            "text/plain": [
              "<Figure size 720x432 with 1 Axes>"
            ],
            "image/png": "[encoded data removed]"
          },
          "metadata": {
            "needs_background": "light"
          }
        }
      ]
    },
    {
      "cell_type": "markdown",
      "source": [
        "## Sandbox\n",
        "\n",
        "Aqui vai qualquer coisa rs"
      ],
      "metadata": {
        "id": "AqL0oYnIB4co"
      }
    },
    {
      "cell_type": "code",
      "source": [
        "population_size = 40\n",
        "# With an initial population and a multi-part state.\n",
        "initial_population = (tf.random.normal([population_size]))\n",
        "\n",
        "print(f'initial pop: {initial_population}') \n",
        "\n",
        "def easom_fn(x):\n",
        "  return -tf.math.sin(x)\n",
        "\n",
        "st = time.time()\n",
        "\n",
        "optim_results = tfp.optimizer.differential_evolution_minimize(\n",
        "    easom_fn,\n",
        "    initial_population=initial_population,\n",
        "    max_iterations=50,\n",
        "    seed=43210)\n",
        "\n",
        "et = time.time()\n",
        "\n",
        "time_spent = et - st \n",
        "print(f'time spent {time_spent}')\n",
        "\n",
        "print(optim_results.converged)\n",
        "print(optim_results.position)  # Should be (close to) [pi, pi].\n",
        "print(optim_results.objective_value)    # Should be -1.\n",
        "print(optim_results.final_population) # final population\n",
        "print(optim_results.objective_value) # final value of objective fun. on the final position\n",
        "print(optim_results.final_objective_values)\n",
        "\n",
        "# With a single starting point\n",
        "initial_position = (tf.constant(1.0))\n",
        "\n",
        "optim_results = tfp.optimizer.differential_evolution_minimize(\n",
        "                easom_fn,\n",
        "                initial_position=initial_position,\n",
        "                population_size=40,\n",
        "                population_stddev=2.0,\n",
        "                seed=43210)"
      ],
      "metadata": {
        "id": "y8HKshPVssqX",
        "outputId": "1bb7b43e-63c5-4dec-8df8-c000327b41ec",
        "colab": {
          "base_uri": "https://localhost:8080/"
        }
      },
      "execution_count": 5,
      "outputs": [
        {
          "output_type": "stream",
          "name": "stdout",
          "text": [
            "initial pop: [-0.018134    2.6037312   1.5925593  -1.2456292   0.4780776   0.6704429\n",
            " -0.1549688   0.20457648 -0.51312846  0.7579566  -1.1900133   1.6667023\n",
            "  1.3917066   0.28853828  1.0447514   0.7207251  -0.9823278  -0.09182341\n",
            "  0.88516974  0.33479533 -0.07321157 -0.48040298 -0.5588934   0.15632357\n",
            " -1.214519    1.5670208  -0.79129297  0.27595666  0.21650851 -1.441523\n",
            "  1.5113926  -0.8356547  -0.4476361   1.6752728  -0.3404701  -2.0088556\n",
            "  1.2316519  -0.10008086  2.1436076   0.6513348 ]\n",
            "time spent 0.372424840927124\n",
            "tf.Tensor(True, shape=(), dtype=bool)\n",
            "tf.Tensor(1.5708294, shape=(), dtype=float32)\n",
            "tf.Tensor(-1.0, shape=(), dtype=float32)\n",
            "tf.Tensor(\n",
            "[1.5708294 1.5707047 1.5705626 1.5708623 1.5707822 1.570773  1.5707624\n",
            " 1.5708568 1.5708481 1.5708492 1.5707269 1.5708867 1.5709231 1.5709544\n",
            " 1.5705857 1.5710347 1.5708376 1.5707266 1.5709596 1.5709212 1.5706974\n",
            " 1.5708699 1.5706241 1.570708  1.5707117 1.5706478 1.5708785 1.5706711\n",
            " 1.5709345 1.570579  1.5707216 1.570601  1.5707765 1.5709174 1.5709002\n",
            " 1.5708873 1.5708728 1.5709666 1.5708753 1.5710388], shape=(40,), dtype=float32)\n",
            "tf.Tensor(-1.0, shape=(), dtype=float32)\n",
            "tf.Tensor(\n",
            "[-1. -1. -1. -1. -1. -1. -1. -1. -1. -1. -1. -1. -1. -1. -1. -1. -1. -1.\n",
            " -1. -1. -1. -1. -1. -1. -1. -1. -1. -1. -1. -1. -1. -1. -1. -1. -1. -1.\n",
            " -1. -1. -1. -1.], shape=(40,), dtype=float32)\n"
          ]
        }
      ]
    },
    {
      "cell_type": "code",
      "source": [
        "np.array(optim_results.position)"
      ],
      "metadata": {
        "id": "OCREEy_is5VT",
        "outputId": "1cf9e795-6127-4ff6-ca6d-7fc3b1a1fc40",
        "colab": {
          "base_uri": "https://localhost:8080/"
        }
      },
      "execution_count": 6,
      "outputs": [
        {
          "output_type": "execute_result",
          "data": {
            "text/plain": [
              "array(1.5706855, dtype=float32)"
            ]
          },
          "metadata": {},
          "execution_count": 6
        }
      ]
    }
  ],
  "metadata": {
    "language_info": {
      "name": "python"
    },
    "orig_nbformat": 4,
    "colab": {
      "name": "first_implementations.ipynb",
      "provenance": [],
      "include_colab_link": true
    },
    "kernelspec": {
      "name": "python3",
      "display_name": "Python 3"
    },
    "gpuClass": "standard"
  },
  "nbformat": 4,
  "nbformat_minor": 0
}