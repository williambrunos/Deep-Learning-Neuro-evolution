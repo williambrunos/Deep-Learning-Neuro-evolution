{
  "cells": [
    {
      "cell_type": "markdown",
      "metadata": {
        "id": "view-in-github",
        "colab_type": "text"
      },
      "source": [
        "<a href=\"https://colab.research.google.com/github/williambrunos/Deep-Learning-Neuro-evolution/blob/main/First_Implementations/first_implementations.ipynb\" target=\"_parent\"><img src=\"https://colab.research.google.com/assets/colab-badge.svg\" alt=\"Open In Colab\"/></a>"
      ]
    },
    {
      "cell_type": "markdown",
      "metadata": {
        "id": "D4zAOEssmVe5"
      },
      "source": [
        "# First Implementations with tensorflow\n",
        "\n",
        "## Abstract\n",
        "\n",
        "This notebook tries to implement some neural netowork used to solve some problem and tries to evolve the weights of it using neural evolution, implemented with [tensorflow](https://www.tensorflow.org/probability/api_docs/python/tfp/optimizer/differential_evolution_minimize)\n",
        "\n",
        "````Python\n",
        "tfp.optimizer.differential_evolution_minimize(\n",
        "    objective_function,\n",
        "    initial_population=None,\n",
        "    initial_position=None,\n",
        "    population_size=50,\n",
        "    population_stddev=1.0,\n",
        "    max_iterations=100,\n",
        "    func_tolerance=0,\n",
        "    position_tolerance=1e-08,\n",
        "    differential_weight=0.5,\n",
        "    crossover_prob=0.9,\n",
        "    seed=None,\n",
        "    name=None\n",
        ")\n",
        "````\n",
        "\n",
        "**obs**: if you read the documentation of this function, you'll see that the evolutionary algorithm will try to minimize the objective function, rather than maximize it. Because of this, it's important to implement a objective function with the negative value of the mathmatical expression.\n",
        "\n",
        "\"A candidate s_1 is considered better than s_2 if f(s_1) < f(s_2).\" - The function documentation"
      ]
    },
    {
      "cell_type": "markdown",
      "source": [
        "We can use as a base example:\n",
        "\n",
        "````Python\n",
        "population_size = 40\n",
        "  # With an initial population and a multi-part state.\n",
        "  initial_population = (tf.random.normal([population_size]),\n",
        "                        tf.random.normal([population_size]))\n",
        "  def easom_fn(x, y):\n",
        "    return -(tf.math.cos(x) * tf.math.cos(y) *\n",
        "             tf.math.exp(-(x-np.pi)**2 - (y-np.pi)**2))\n",
        "\n",
        "  optim_results = tfp.optimizer.differential_evolution_minimize(\n",
        "      easom_fn,\n",
        "      initial_population=initial_population,\n",
        "      seed=43210)\n",
        "\n",
        "  print(optim_results.converged)\n",
        "  print(optim_results.position)  # Should be (close to) [pi, pi].\n",
        "  print(optim_results.objective_value)    # Should be -1.\n",
        "\n",
        "\n",
        "  # With a single starting point\n",
        "  initial_position = (tf.constant(1.0), tf.constant(1.0))\n",
        "\n",
        "  optim_results = tfp.optimizer.differential_evolution_minimize(\n",
        "      easom_fn,\n",
        "      initial_position=initial_position,\n",
        "      population_size=40,\n",
        "      population_stddev=2.0,\n",
        "      seed=43210)\n",
        "````"
      ],
      "metadata": {
        "id": "yngWkhQf4QZF"
      }
    },
    {
      "cell_type": "markdown",
      "source": [
        "## Importações Necessárias"
      ],
      "metadata": {
        "id": "XNkiTiYdI-Pi"
      }
    },
    {
      "cell_type": "code",
      "source": [
        "import tensorflow as tf\n",
        "import tensorflow_probability as tfp\n",
        "import time\n",
        "\n",
        "import pandas as pd\n",
        "import numpy as np\n",
        "import matplotlib.pyplot as plt\n",
        "import seaborn as sns\n",
        "\n",
        "%matplotlib inline"
      ],
      "metadata": {
        "id": "x3i76T1am6Be"
      },
      "execution_count": 1,
      "outputs": []
    },
    {
      "cell_type": "markdown",
      "source": [
        "## Função de teste de tempo da evolução"
      ],
      "metadata": {
        "id": "dI-4xofaJBPQ"
      }
    },
    {
      "cell_type": "code",
      "source": [
        "def check_time_spent_by_evolutionary_algorithm(population_size,\n",
        "                                               objective_function: object,\n",
        "                                               max_iterations: int,\n",
        "                                               variate_population_size: bool,\n",
        "                                               seed=0):\n",
        "  \"\"\"\n",
        "  This function must check the time spent by the evolutionary algorithm\n",
        "  to upgrade the weights of a neural network according to some parameters\n",
        "  given by the function.\n",
        "\n",
        "  ----------------------\n",
        "  PARAMS\n",
        "  ---------------------\n",
        "\n",
        "  - population_size: the number of weights of the neural network. Can be\n",
        "  either a integer number or a list if the user want to variate the\n",
        "  values of 'population_size' parameter to be tested.\n",
        "\n",
        "  \"\"\"\n",
        "\n",
        "  list_of_times = []\n",
        "\n",
        "  if ((variate_population_size == True) and (type(population_size) is list)):\n",
        "    for size in population_size:\n",
        "      initial_population = (tf.random.normal([size]))\n",
        "\n",
        "      st = time.time()\n",
        "      optim_results = tfp.optimizer.differential_evolution_minimize(\n",
        "          objective_function=objective_function,\n",
        "          initial_population=initial_population,\n",
        "          max_iterations=max_iterations,\n",
        "          seed=seed\n",
        "      )\n",
        "      et = time.time()\n",
        "      time_taken = et - st\n",
        "      list_of_times.append(time_taken)\n",
        "  else:\n",
        "    raise ValueError('If variate_population_size is True, then population_size must be a list of possible values')\n",
        "\n",
        "  return list_of_times"
      ],
      "metadata": {
        "id": "MNocA4nJ4dK5"
      },
      "execution_count": 2,
      "outputs": []
    },
    {
      "cell_type": "markdown",
      "source": [
        "### Implementando a função de teste"
      ],
      "metadata": {
        "id": "Ck1PY1DNJEZc"
      }
    },
    {
      "cell_type": "code",
      "source": [
        "obj_func = lambda x: -(tf.math.sin(x) + tf.math.cos(x))\n",
        "population_size_list = [100000, 200000, 300000, 400000, 500000, 600000, 700000, 800000, 900000, 1000000]\n",
        "\n",
        "time_spent = check_time_spent_by_evolutionary_algorithm(population_size=population_size_list,\n",
        "                                                        objective_function=obj_func, \n",
        "                                                        max_iterations=50,\n",
        "                                                        variate_population_size=True,\n",
        "                                                        seed=0)"
      ],
      "metadata": {
        "id": "5nlVfLf6CKcs"
      },
      "execution_count": 3,
      "outputs": []
    },
    {
      "cell_type": "markdown",
      "source": [
        "### Visualizando os resultados"
      ],
      "metadata": {
        "id": "M3vI5nAPJGcV"
      }
    },
    {
      "cell_type": "code",
      "source": [
        "fig, ax = plt.subplots(nrows=1, ncols=1, figsize=(10, 6))\n",
        "\n",
        "ax.set_title('Time spent by the algorithm VS input size', fontsize=14)\n",
        "\n",
        "ax.set_xlabel('population_size', fontsize=14)\n",
        "\n",
        "ax.set_ylabel('time spent (seconds)', fontsize=14)\n",
        "# ax.plot(population_size_list, time_spent)\n",
        "sns.scatterplot(x=population_size_list, y=time_spent, ax=ax)\n",
        "\n",
        "sns.despine()\n",
        "plt.show()"
      ],
      "metadata": {
        "id": "chsQIf6EgZp0",
        "outputId": "847eb9f9-a36b-4a34-e74f-de5c25fa4f5a",
        "colab": {
          "base_uri": "https://localhost:8080/",
          "height": 409
        }
      },
      "execution_count": 4,
      "outputs": [
        {
          "output_type": "display_data",
          "data": {
            "text/plain": [
              "<Figure size 720x432 with 1 Axes>"
            ],
            "image/png": "[encoded data removed]"
          },
          "metadata": {
            "needs_background": "light"
          }
        }
      ]
    },
    {
      "cell_type": "markdown",
      "source": [
        "##  Implementando uma rede neural"
      ],
      "metadata": {
        "id": "zszA0gMsFkWN"
      }
    },
    {
      "cell_type": "markdown",
      "source": [
        "### Instanciando uma sequência de layers usando `tf.keras.Sequential`"
      ],
      "metadata": {
        "id": "qVhJfzagGFVj"
      }
    },
    {
      "cell_type": "code",
      "source": [
        "model = tf.keras.Sequential([\n",
        "    tf.keras.layers.Dense(3, activation='relu', name='first_layer', input_shape=(16, )),\n",
        "    tf.keras.layers.Dense(8, activation='tanh', name='second_layer'),\n",
        "    tf.keras.layers.Dense(3, name='last_layer')\n",
        "])"
      ],
      "metadata": {
        "id": "DcLIh23FFjxF"
      },
      "execution_count": 12,
      "outputs": []
    },
    {
      "cell_type": "code",
      "source": [
        "model.weights"
      ],
      "metadata": {
        "id": "159sYacZqEt6",
        "outputId": "204360b9-654d-4481-9ad7-94caed14eddd",
        "colab": {
          "base_uri": "https://localhost:8080/"
        }
      },
      "execution_count": 13,
      "outputs": [
        {
          "output_type": "execute_result",
          "data": {
            "text/plain": [
              "[<tf.Variable 'first_layer/kernel:0' shape=(16, 3) dtype=float32, numpy=\n",
              " array([[-4.0080917e-01, -3.9209056e-01, -2.1655858e-01],\n",
              "        [-3.1213617e-01, -5.3966498e-01,  6.3860893e-02],\n",
              "        [-1.7635623e-01, -4.3819499e-01, -4.3974859e-01],\n",
              "        [-2.7710828e-01,  5.0035781e-01, -5.3550237e-01],\n",
              "        [ 1.0333437e-01,  6.0517550e-02, -5.3520405e-01],\n",
              "        [ 1.1088669e-02, -2.0673639e-01, -3.3362773e-01],\n",
              "        [ 5.0809520e-01,  3.3918697e-01, -4.5139787e-01],\n",
              "        [-2.6397076e-01, -2.5468865e-01,  5.0763935e-01],\n",
              "        [ 2.1311438e-01, -3.4890300e-01,  1.3732702e-01],\n",
              "        [ 4.1802365e-01, -3.7324339e-01, -1.8781590e-01],\n",
              "        [-3.0217960e-01, -1.8153644e-01,  6.1631203e-05],\n",
              "        [-8.0169678e-02, -4.3153644e-02,  5.5793941e-02],\n",
              "        [-3.4647208e-01,  1.8272561e-01, -3.8553065e-01],\n",
              "        [ 3.0689317e-01,  3.8292074e-01,  5.0651604e-01],\n",
              "        [ 1.0033041e-01,  4.6044737e-01,  4.4590455e-01],\n",
              "        [ 2.0105201e-01, -2.4311802e-01, -6.9145560e-02]], dtype=float32)>,\n",
              " <tf.Variable 'first_layer/bias:0' shape=(3,) dtype=float32, numpy=array([0., 0., 0.], dtype=float32)>,\n",
              " <tf.Variable 'second_layer/kernel:0' shape=(3, 8) dtype=float32, numpy=\n",
              " array([[ 0.18112469,  0.4918732 ,  0.58069104,  0.494487  , -0.2787952 ,\n",
              "          0.41525537, -0.61337376, -0.10907513],\n",
              "        [-0.6867877 ,  0.53513867,  0.01551247,  0.19287902,  0.4592138 ,\n",
              "         -0.04020083,  0.29688293, -0.41320103],\n",
              "        [ 0.6667351 ,  0.03215504,  0.21874076, -0.6677395 , -0.0134204 ,\n",
              "          0.25389504, -0.15092248,  0.61390275]], dtype=float32)>,\n",
              " <tf.Variable 'second_layer/bias:0' shape=(8,) dtype=float32, numpy=array([0., 0., 0., 0., 0., 0., 0., 0.], dtype=float32)>,\n",
              " <tf.Variable 'last_layer/kernel:0' shape=(8, 3) dtype=float32, numpy=\n",
              " array([[-0.12211746,  0.55588716,  0.04432714],\n",
              "        [ 0.44913727, -0.60929847,  0.08184636],\n",
              "        [ 0.22503668,  0.20558804, -0.19236237],\n",
              "        [ 0.4024536 ,  0.34498912, -0.5533329 ],\n",
              "        [ 0.67605203, -0.39911646,  0.0854091 ],\n",
              "        [-0.03247339, -0.18264079, -0.5710522 ],\n",
              "        [-0.6909968 ,  0.5423127 ,  0.16443425],\n",
              "        [-0.14301914,  0.6227967 ,  0.28646213]], dtype=float32)>,\n",
              " <tf.Variable 'last_layer/bias:0' shape=(3,) dtype=float32, numpy=array([0., 0., 0.], dtype=float32)>]"
            ]
          },
          "metadata": {},
          "execution_count": 13
        }
      ]
    },
    {
      "cell_type": "markdown",
      "source": [
        "### Buildando o modelo utilizando um input"
      ],
      "metadata": {
        "id": "Sx2jqWwCGLrD"
      }
    },
    {
      "cell_type": "code",
      "source": [
        "input = tf.random.normal((1, 16))\n",
        "output = model(input)\n",
        "print(output)\n",
        "print(model.weights)"
      ],
      "metadata": {
        "colab": {
          "base_uri": "https://localhost:8080/"
        },
        "id": "FHvTrp-hGAOZ",
        "outputId": "36b8753f-633e-46f8-f0db-fc77cfc8ba1f"
      },
      "execution_count": 17,
      "outputs": [
        {
          "output_type": "stream",
          "name": "stdout",
          "text": [
            "tf.Tensor([[0. 0. 0.]], shape=(1, 3), dtype=float32)\n",
            "[<tf.Variable 'first_layer/kernel:0' shape=(16, 3) dtype=float32, numpy=\n",
            "array([[-4.0080917e-01, -3.9209056e-01, -2.1655858e-01],\n",
            "       [-3.1213617e-01, -5.3966498e-01,  6.3860893e-02],\n",
            "       [-1.7635623e-01, -4.3819499e-01, -4.3974859e-01],\n",
            "       [-2.7710828e-01,  5.0035781e-01, -5.3550237e-01],\n",
            "       [ 1.0333437e-01,  6.0517550e-02, -5.3520405e-01],\n",
            "       [ 1.1088669e-02, -2.0673639e-01, -3.3362773e-01],\n",
            "       [ 5.0809520e-01,  3.3918697e-01, -4.5139787e-01],\n",
            "       [-2.6397076e-01, -2.5468865e-01,  5.0763935e-01],\n",
            "       [ 2.1311438e-01, -3.4890300e-01,  1.3732702e-01],\n",
            "       [ 4.1802365e-01, -3.7324339e-01, -1.8781590e-01],\n",
            "       [-3.0217960e-01, -1.8153644e-01,  6.1631203e-05],\n",
            "       [-8.0169678e-02, -4.3153644e-02,  5.5793941e-02],\n",
            "       [-3.4647208e-01,  1.8272561e-01, -3.8553065e-01],\n",
            "       [ 3.0689317e-01,  3.8292074e-01,  5.0651604e-01],\n",
            "       [ 1.0033041e-01,  4.6044737e-01,  4.4590455e-01],\n",
            "       [ 2.0105201e-01, -2.4311802e-01, -6.9145560e-02]], dtype=float32)>, <tf.Variable 'first_layer/bias:0' shape=(3,) dtype=float32, numpy=array([0., 0., 0.], dtype=float32)>, <tf.Variable 'second_layer/kernel:0' shape=(3, 8) dtype=float32, numpy=\n",
            "array([[ 0.18112469,  0.4918732 ,  0.58069104,  0.494487  , -0.2787952 ,\n",
            "         0.41525537, -0.61337376, -0.10907513],\n",
            "       [-0.6867877 ,  0.53513867,  0.01551247,  0.19287902,  0.4592138 ,\n",
            "        -0.04020083,  0.29688293, -0.41320103],\n",
            "       [ 0.6667351 ,  0.03215504,  0.21874076, -0.6677395 , -0.0134204 ,\n",
            "         0.25389504, -0.15092248,  0.61390275]], dtype=float32)>, <tf.Variable 'second_layer/bias:0' shape=(8,) dtype=float32, numpy=array([0., 0., 0., 0., 0., 0., 0., 0.], dtype=float32)>, <tf.Variable 'last_layer/kernel:0' shape=(8, 3) dtype=float32, numpy=\n",
            "array([[-0.12211746,  0.55588716,  0.04432714],\n",
            "       [ 0.44913727, -0.60929847,  0.08184636],\n",
            "       [ 0.22503668,  0.20558804, -0.19236237],\n",
            "       [ 0.4024536 ,  0.34498912, -0.5533329 ],\n",
            "       [ 0.67605203, -0.39911646,  0.0854091 ],\n",
            "       [-0.03247339, -0.18264079, -0.5710522 ],\n",
            "       [-0.6909968 ,  0.5423127 ,  0.16443425],\n",
            "       [-0.14301914,  0.6227967 ,  0.28646213]], dtype=float32)>, <tf.Variable 'last_layer/bias:0' shape=(3,) dtype=float32, numpy=array([0., 0., 0.], dtype=float32)>]\n"
          ]
        }
      ]
    },
    {
      "cell_type": "markdown",
      "source": [
        "### Iterando por todas as camadas do modelo"
      ],
      "metadata": {
        "id": "rKHxFtdFGhpd"
      }
    },
    {
      "cell_type": "code",
      "source": [
        "for layer in model.layers:\n",
        "  print(layer.name, layer)"
      ],
      "metadata": {
        "colab": {
          "base_uri": "https://localhost:8080/"
        },
        "id": "r5SGqvqpGVv-",
        "outputId": "82ae5051-8fa7-42d6-af0f-ae08a611c487"
      },
      "execution_count": 18,
      "outputs": [
        {
          "output_type": "stream",
          "name": "stdout",
          "text": [
            "first_layer <keras.layers.core.dense.Dense object at 0x7fb01b2ab410>\n",
            "second_layer <keras.layers.core.dense.Dense object at 0x7fb01b2ab510>\n",
            "last_layer <keras.layers.core.dense.Dense object at 0x7fb01b2ab810>\n"
          ]
        }
      ]
    },
    {
      "cell_type": "markdown",
      "source": [
        "### Obtendo pesos, viéses e inicializadores de viéses"
      ],
      "metadata": {
        "id": "ydSGp_xEGfRp"
      }
    },
    {
      "cell_type": "code",
      "source": [
        "# first layer\n",
        "print('====FIRST LAYER====\\n\\n')\n",
        "print(model.layers[0].weights)\n",
        "print(model.layers[0].bias.numpy())\n",
        "print(model.layers[0].bias_initializer)\n",
        "\n",
        "# second layer\n",
        "print('\\n\\n====SECOND LAYER====\\n\\n')\n",
        "print(model.layers[1].weights)\n",
        "print(model.layers[1].bias.numpy())\n",
        "print(model.layers[1].bias_initializer)\n",
        "\n",
        "# third layer\n",
        "print('\\n\\n====THIRD LAYER====\\n\\n')\n",
        "print(model.layers[2].weights)\n",
        "print(model.layers[2].bias.numpy())\n",
        "print(model.layers[2].bias_initializer)"
      ],
      "metadata": {
        "colab": {
          "base_uri": "https://localhost:8080/"
        },
        "id": "VwiP9n2VGWus",
        "outputId": "c8e07be1-058b-43a9-ce66-1ac764c66dff"
      },
      "execution_count": 19,
      "outputs": [
        {
          "output_type": "stream",
          "name": "stdout",
          "text": [
            "====FIRST LAYER====\n",
            "\n",
            "\n",
            "[<tf.Variable 'first_layer/kernel:0' shape=(16, 3) dtype=float32, numpy=\n",
            "array([[-4.0080917e-01, -3.9209056e-01, -2.1655858e-01],\n",
            "       [-3.1213617e-01, -5.3966498e-01,  6.3860893e-02],\n",
            "       [-1.7635623e-01, -4.3819499e-01, -4.3974859e-01],\n",
            "       [-2.7710828e-01,  5.0035781e-01, -5.3550237e-01],\n",
            "       [ 1.0333437e-01,  6.0517550e-02, -5.3520405e-01],\n",
            "       [ 1.1088669e-02, -2.0673639e-01, -3.3362773e-01],\n",
            "       [ 5.0809520e-01,  3.3918697e-01, -4.5139787e-01],\n",
            "       [-2.6397076e-01, -2.5468865e-01,  5.0763935e-01],\n",
            "       [ 2.1311438e-01, -3.4890300e-01,  1.3732702e-01],\n",
            "       [ 4.1802365e-01, -3.7324339e-01, -1.8781590e-01],\n",
            "       [-3.0217960e-01, -1.8153644e-01,  6.1631203e-05],\n",
            "       [-8.0169678e-02, -4.3153644e-02,  5.5793941e-02],\n",
            "       [-3.4647208e-01,  1.8272561e-01, -3.8553065e-01],\n",
            "       [ 3.0689317e-01,  3.8292074e-01,  5.0651604e-01],\n",
            "       [ 1.0033041e-01,  4.6044737e-01,  4.4590455e-01],\n",
            "       [ 2.0105201e-01, -2.4311802e-01, -6.9145560e-02]], dtype=float32)>, <tf.Variable 'first_layer/bias:0' shape=(3,) dtype=float32, numpy=array([0., 0., 0.], dtype=float32)>]\n",
            "[0. 0. 0.]\n",
            "<keras.initializers.initializers_v2.Zeros object at 0x7fb026741a90>\n",
            "\n",
            "\n",
            "====SECOND LAYER====\n",
            "\n",
            "\n",
            "[<tf.Variable 'second_layer/kernel:0' shape=(3, 8) dtype=float32, numpy=\n",
            "array([[ 0.18112469,  0.4918732 ,  0.58069104,  0.494487  , -0.2787952 ,\n",
            "         0.41525537, -0.61337376, -0.10907513],\n",
            "       [-0.6867877 ,  0.53513867,  0.01551247,  0.19287902,  0.4592138 ,\n",
            "        -0.04020083,  0.29688293, -0.41320103],\n",
            "       [ 0.6667351 ,  0.03215504,  0.21874076, -0.6677395 , -0.0134204 ,\n",
            "         0.25389504, -0.15092248,  0.61390275]], dtype=float32)>, <tf.Variable 'second_layer/bias:0' shape=(8,) dtype=float32, numpy=array([0., 0., 0., 0., 0., 0., 0., 0.], dtype=float32)>]\n",
            "[0. 0. 0. 0. 0. 0. 0. 0.]\n",
            "<keras.initializers.initializers_v2.Zeros object at 0x7fb01b2ab850>\n",
            "\n",
            "\n",
            "====THIRD LAYER====\n",
            "\n",
            "\n",
            "[<tf.Variable 'last_layer/kernel:0' shape=(8, 3) dtype=float32, numpy=\n",
            "array([[-0.12211746,  0.55588716,  0.04432714],\n",
            "       [ 0.44913727, -0.60929847,  0.08184636],\n",
            "       [ 0.22503668,  0.20558804, -0.19236237],\n",
            "       [ 0.4024536 ,  0.34498912, -0.5533329 ],\n",
            "       [ 0.67605203, -0.39911646,  0.0854091 ],\n",
            "       [-0.03247339, -0.18264079, -0.5710522 ],\n",
            "       [-0.6909968 ,  0.5423127 ,  0.16443425],\n",
            "       [-0.14301914,  0.6227967 ,  0.28646213]], dtype=float32)>, <tf.Variable 'last_layer/bias:0' shape=(3,) dtype=float32, numpy=array([0., 0., 0.], dtype=float32)>]\n",
            "[0. 0. 0.]\n",
            "<keras.initializers.initializers_v2.Zeros object at 0x7fb01b2abbd0>\n"
          ]
        }
      ]
    },
    {
      "cell_type": "markdown",
      "source": [
        "### Obtendo os mesmos dados utilizando nomes das camadas"
      ],
      "metadata": {
        "id": "2MUz5WZJHtX3"
      }
    },
    {
      "cell_type": "code",
      "source": [
        "# firstlayer by name\n",
        "print('====FIRST LAYER====\\n\\n')\n",
        "print((model.get_layer(\"first_layer\").weights))\n",
        "\n",
        "# secondlayer by name\n",
        "print('\\n\\n====SECOND LAYER====\\n\\n')\n",
        "print((model.get_layer(\"second_layer\").weights))\n",
        "\n",
        "# lastlayer by name\n",
        "print('\\n\\n====THIRD LAYER====\\n\\n')\n",
        "print((model.get_layer(\"last_layer\").weights))"
      ],
      "metadata": {
        "colab": {
          "base_uri": "https://localhost:8080/"
        },
        "id": "33TSZ01nHwMQ",
        "outputId": "66a839ab-b0f2-4b22-adec-2f5c32fecc3a"
      },
      "execution_count": 20,
      "outputs": [
        {
          "output_type": "stream",
          "name": "stdout",
          "text": [
            "====FIRST LAYER====\n",
            "\n",
            "\n",
            "[<tf.Variable 'first_layer/kernel:0' shape=(16, 3) dtype=float32, numpy=\n",
            "array([[-4.0080917e-01, -3.9209056e-01, -2.1655858e-01],\n",
            "       [-3.1213617e-01, -5.3966498e-01,  6.3860893e-02],\n",
            "       [-1.7635623e-01, -4.3819499e-01, -4.3974859e-01],\n",
            "       [-2.7710828e-01,  5.0035781e-01, -5.3550237e-01],\n",
            "       [ 1.0333437e-01,  6.0517550e-02, -5.3520405e-01],\n",
            "       [ 1.1088669e-02, -2.0673639e-01, -3.3362773e-01],\n",
            "       [ 5.0809520e-01,  3.3918697e-01, -4.5139787e-01],\n",
            "       [-2.6397076e-01, -2.5468865e-01,  5.0763935e-01],\n",
            "       [ 2.1311438e-01, -3.4890300e-01,  1.3732702e-01],\n",
            "       [ 4.1802365e-01, -3.7324339e-01, -1.8781590e-01],\n",
            "       [-3.0217960e-01, -1.8153644e-01,  6.1631203e-05],\n",
            "       [-8.0169678e-02, -4.3153644e-02,  5.5793941e-02],\n",
            "       [-3.4647208e-01,  1.8272561e-01, -3.8553065e-01],\n",
            "       [ 3.0689317e-01,  3.8292074e-01,  5.0651604e-01],\n",
            "       [ 1.0033041e-01,  4.6044737e-01,  4.4590455e-01],\n",
            "       [ 2.0105201e-01, -2.4311802e-01, -6.9145560e-02]], dtype=float32)>, <tf.Variable 'first_layer/bias:0' shape=(3,) dtype=float32, numpy=array([0., 0., 0.], dtype=float32)>]\n",
            "\n",
            "\n",
            "====SECOND LAYER====\n",
            "\n",
            "\n",
            "[<tf.Variable 'second_layer/kernel:0' shape=(3, 8) dtype=float32, numpy=\n",
            "array([[ 0.18112469,  0.4918732 ,  0.58069104,  0.494487  , -0.2787952 ,\n",
            "         0.41525537, -0.61337376, -0.10907513],\n",
            "       [-0.6867877 ,  0.53513867,  0.01551247,  0.19287902,  0.4592138 ,\n",
            "        -0.04020083,  0.29688293, -0.41320103],\n",
            "       [ 0.6667351 ,  0.03215504,  0.21874076, -0.6677395 , -0.0134204 ,\n",
            "         0.25389504, -0.15092248,  0.61390275]], dtype=float32)>, <tf.Variable 'second_layer/bias:0' shape=(8,) dtype=float32, numpy=array([0., 0., 0., 0., 0., 0., 0., 0.], dtype=float32)>]\n",
            "\n",
            "\n",
            "====THIRD LAYER====\n",
            "\n",
            "\n",
            "[<tf.Variable 'last_layer/kernel:0' shape=(8, 3) dtype=float32, numpy=\n",
            "array([[-0.12211746,  0.55588716,  0.04432714],\n",
            "       [ 0.44913727, -0.60929847,  0.08184636],\n",
            "       [ 0.22503668,  0.20558804, -0.19236237],\n",
            "       [ 0.4024536 ,  0.34498912, -0.5533329 ],\n",
            "       [ 0.67605203, -0.39911646,  0.0854091 ],\n",
            "       [-0.03247339, -0.18264079, -0.5710522 ],\n",
            "       [-0.6909968 ,  0.5423127 ,  0.16443425],\n",
            "       [-0.14301914,  0.6227967 ,  0.28646213]], dtype=float32)>, <tf.Variable 'last_layer/bias:0' shape=(3,) dtype=float32, numpy=array([0., 0., 0.], dtype=float32)>]\n"
          ]
        }
      ]
    },
    {
      "cell_type": "markdown",
      "source": [
        "## Sandbox\n",
        "\n",
        "Aqui vai qualquer coisa rs"
      ],
      "metadata": {
        "id": "AqL0oYnIB4co"
      }
    },
    {
      "cell_type": "code",
      "source": [
        "population_size = 40\n",
        "# With an initial population and a multi-part state.\n",
        "initial_population = (tf.random.normal([population_size]))\n",
        "\n",
        "print(f'initial pop: {initial_population}') \n",
        "\n",
        "def easom_fn(x):\n",
        "  return -tf.math.sin(x)\n",
        "\n",
        "st = time.time()\n",
        "\n",
        "optim_results = tfp.optimizer.differential_evolution_minimize(\n",
        "    easom_fn,\n",
        "    initial_population=initial_population,\n",
        "    max_iterations=50,\n",
        "    seed=43210)\n",
        "\n",
        "et = time.time()\n",
        "\n",
        "time_spent = et - st \n",
        "print(f'time spent {time_spent}')\n",
        "\n",
        "print(optim_results.converged)\n",
        "print(optim_results.position)  # Should be (close to) [pi, pi].\n",
        "print(optim_results.objective_value)    # Should be -1.\n",
        "print(optim_results.final_population) # final population\n",
        "print(optim_results.objective_value) # final value of objective fun. on the final position\n",
        "print(optim_results.final_objective_values)\n",
        "\n",
        "# With a single starting point\n",
        "initial_position = (tf.constant(1.0))\n",
        "\n",
        "optim_results = tfp.optimizer.differential_evolution_minimize(\n",
        "                easom_fn,\n",
        "                initial_position=initial_position,\n",
        "                population_size=40,\n",
        "                population_stddev=2.0,\n",
        "                seed=43210)"
      ],
      "metadata": {
        "id": "y8HKshPVssqX",
        "outputId": "a36fb961-a5e8-4cf2-a808-aee1f9e360be",
        "colab": {
          "base_uri": "https://localhost:8080/"
        }
      },
      "execution_count": 10,
      "outputs": [
        {
          "output_type": "stream",
          "name": "stdout",
          "text": [
            "initial pop: [ 0.81041545 -0.4875199   0.1513603  -0.71026653 -0.2493162  -0.9930944\n",
            " -1.1657662  -0.38859192  2.1365154   1.0226978   0.27468213  1.75429\n",
            " -0.327431    0.4548593   0.66147304 -0.5701647   1.3423722  -0.9420757\n",
            " -1.4462137   0.43624333 -1.243899    1.503106   -0.8864791   0.6727036\n",
            " -1.1328639  -0.81572497  1.2636536   0.4175661   3.9807744  -0.31977913\n",
            "  1.5264658   0.28918415 -1.1430067   1.0620797   1.994038   -0.43542498\n",
            " -0.4674508   1.064947    2.4266539   0.6807612 ]\n",
            "time spent 0.21834921836853027\n",
            "tf.Tensor(True, shape=(), dtype=bool)\n",
            "tf.Tensor(1.5707622, shape=(), dtype=float32)\n",
            "tf.Tensor(-1.0, shape=(), dtype=float32)\n",
            "tf.Tensor(\n",
            "[1.5707622 1.5705814 1.5706636 1.5707822 1.5707113 1.5709476 1.5710132\n",
            " 1.5708029 1.570576  1.5708907 1.5709182 1.5706494 1.5708423 1.5708683\n",
            " 1.5705662 1.5707383 1.570756  1.5707934 1.5708654 1.5706979 1.5709238\n",
            " 1.570907  1.5706253 1.5710113 1.5709388 1.570922  1.5706396 1.5707263\n",
            " 1.5706654 1.5708715 1.57072   1.5705737 1.5708604 1.5706751 1.5707142\n",
            " 1.5707573 1.5709918 1.5707592 1.5709455 1.570623 ], shape=(40,), dtype=float32)\n",
            "tf.Tensor(-1.0, shape=(), dtype=float32)\n",
            "tf.Tensor(\n",
            "[-1. -1. -1. -1. -1. -1. -1. -1. -1. -1. -1. -1. -1. -1. -1. -1. -1. -1.\n",
            " -1. -1. -1. -1. -1. -1. -1. -1. -1. -1. -1. -1. -1. -1. -1. -1. -1. -1.\n",
            " -1. -1. -1. -1.], shape=(40,), dtype=float32)\n"
          ]
        }
      ]
    },
    {
      "cell_type": "code",
      "source": [
        "np.array(optim_results.position)"
      ],
      "metadata": {
        "id": "OCREEy_is5VT",
        "outputId": "336fa18a-25dc-42b9-d616-9d637dffa578",
        "colab": {
          "base_uri": "https://localhost:8080/"
        }
      },
      "execution_count": 11,
      "outputs": [
        {
          "output_type": "execute_result",
          "data": {
            "text/plain": [
              "array(1.5706855, dtype=float32)"
            ]
          },
          "metadata": {},
          "execution_count": 11
        }
      ]
    },
    {
      "cell_type": "markdown",
      "source": [
        "## Referências\n",
        "\n",
        "[Hot to get weights of layers in tensforflow ](https://www.gcptutorials.com/post/how-to-get-weights-of-layers-in-tensorflow)\n",
        "\n",
        "[tf.keras.Sequential](https://www.tensorflow.org/api_docs/python/tf/keras/Sequential)\n",
        "\n",
        "[Guia do tensorflow](https://www.tensorflow.org/guide/keras/sequential_model)\n",
        "\n",
        "[Tutoriasi do tensorflow](https://www.tensorflow.org/tutorials)"
      ],
      "metadata": {
        "id": "Y-rzNF3dH_T5"
      }
    }
  ],
  "metadata": {
    "language_info": {
      "name": "python"
    },
    "orig_nbformat": 4,
    "colab": {
      "name": "first_implementations.ipynb",
      "provenance": [],
      "include_colab_link": true
    },
    "kernelspec": {
      "name": "python3",
      "display_name": "Python 3"
    },
    "gpuClass": "standard"
  },
  "nbformat": 4,
  "nbformat_minor": 0
}