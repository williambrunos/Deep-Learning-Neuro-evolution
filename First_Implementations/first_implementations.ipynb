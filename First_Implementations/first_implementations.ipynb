{
  "cells": [
    {
      "cell_type": "markdown",
      "metadata": {
        "id": "view-in-github",
        "colab_type": "text"
      },
      "source": [
        "<a href=\"https://colab.research.google.com/github/williambrunos/Deep-Learning-Neuro-evolution/blob/main/First_Implementations/first_implementations.ipynb\" target=\"_parent\"><img src=\"https://colab.research.google.com/assets/colab-badge.svg\" alt=\"Open In Colab\"/></a>"
      ]
    },
    {
      "cell_type": "markdown",
      "metadata": {
        "id": "D4zAOEssmVe5"
      },
      "source": [
        "# First Implementations with tensorflow\n",
        "\n",
        "## Abstract\n",
        "\n",
        "This notebook tries to implement some neural netowork used to solve some problem and tries to evolve the weights of it using neural evolution, implemented with [tensorflow](https://www.tensorflow.org/probability/api_docs/python/tfp/optimizer/differential_evolution_minimize)\n",
        "\n",
        "````Python\n",
        "tfp.optimizer.differential_evolution_minimize(\n",
        "    objective_function,\n",
        "    initial_population=None,\n",
        "    initial_position=None,\n",
        "    population_size=50,\n",
        "    population_stddev=1.0,\n",
        "    max_iterations=100,\n",
        "    func_tolerance=0,\n",
        "    position_tolerance=1e-08,\n",
        "    differential_weight=0.5,\n",
        "    crossover_prob=0.9,\n",
        "    seed=None,\n",
        "    name=None\n",
        ")\n",
        "````\n",
        "\n",
        "**obs**: if you read the documentation of this function, you'll see that the evolutionary algorithm will try to minimize the objective function, rather than maximize it. Because of this, it's important to implement a objective function with the negative value of the mathmatical expression.\n",
        "\n",
        "\"A candidate s_1 is considered better than s_2 if f(s_1) < f(s_2).\" - The function documentation"
      ]
    },
    {
      "cell_type": "code",
      "source": [
        "import tensorflow as tf\n",
        "import tensorflow_probability as tfp\n",
        "import time\n",
        "\n",
        "import pandas as pd\n",
        "import numpy as np"
      ],
      "metadata": {
        "id": "x3i76T1am6Be"
      },
      "execution_count": 8,
      "outputs": []
    },
    {
      "cell_type": "code",
      "source": [
        "population_size = 40\n",
        "# With an initial population and a multi-part state.\n",
        "initial_population = (tf.random.normal([population_size]),\n",
        "                        tf.random.normal([population_size]))\n",
        "\n",
        "print(f'initial pop: {initial_population}') \n",
        "\n",
        "def easom_fn(x, y):\n",
        "  return -(tf.math.cos(x) * tf.math.cos(y) *\n",
        "             tf.math.exp(-(x-np.pi)**2 - (y-np.pi)**2))\n",
        "\n",
        "st = time.time()\n",
        "\n",
        "optim_results = tfp.optimizer.differential_evolution_minimize(\n",
        "    easom_fn,\n",
        "    initial_population=initial_population,\n",
        "    max_iterations=50,\n",
        "    seed=43210)\n",
        "\n",
        "et = time.time()\n",
        "\n",
        "time_spent = et - st \n",
        "print(f'time spent {time_spent}')\n",
        "\n",
        "print(optim_results.converged)\n",
        "print(optim_results.position)  # Should be (close to) [pi, pi].\n",
        "print(optim_results.objective_value)    # Should be -1.\n",
        "print(optim_results.final_population) # final population\n",
        "print(optim_results.objective_value) # final value of objective fun. on the final position\n",
        "print(optim_results.final_objective_values)\n",
        "\n",
        "# With a single starting point\n",
        "initial_position = (tf.constant(1.0), tf.constant(1.0))\n",
        "\n",
        "optim_results = tfp.optimizer.differential_evolution_minimize(\n",
        "                easom_fn,\n",
        "                initial_position=initial_position,\n",
        "                population_size=40,\n",
        "                population_stddev=2.0,\n",
        "                seed=43210)"
      ],
      "metadata": {
        "id": "y8HKshPVssqX",
        "outputId": "d117ad33-55e8-4818-f681-4f2e2c78c513",
        "colab": {
          "base_uri": "https://localhost:8080/"
        }
      },
      "execution_count": 9,
      "outputs": [
        {
          "output_type": "stream",
          "name": "stdout",
          "text": [
            "initial pop: (<tf.Tensor: shape=(40,), dtype=float32, numpy=\n",
            "array([-1.1506878 ,  0.6311716 , -0.34235987,  1.2067575 , -0.23521943,\n",
            "       -1.1832876 , -0.04409842, -0.5915712 , -0.8513796 ,  0.93963796,\n",
            "       -0.3926571 ,  0.8257857 ,  0.74832577,  1.3140789 ,  1.1822169 ,\n",
            "        0.90320224,  0.70792824,  0.9428253 ,  0.7002732 , -2.0490952 ,\n",
            "        0.60346264, -0.05436082, -0.03358738,  0.57044846,  0.16950017,\n",
            "       -0.20063397, -0.1691871 , -0.8320669 , -1.4917945 ,  0.02345422,\n",
            "       -1.5815673 ,  0.37632462, -0.68456924,  0.12658094, -0.39613244,\n",
            "        0.1307614 ,  0.59872085,  2.0896833 , -0.27177754, -0.14830233],\n",
            "      dtype=float32)>, <tf.Tensor: shape=(40,), dtype=float32, numpy=\n",
            "array([ 0.54629076,  0.19631886,  0.90113014,  0.9917434 , -0.64886135,\n",
            "       -0.14166357, -0.958315  , -1.305818  , -0.48991486,  0.36281788,\n",
            "        0.49761158, -0.6057028 ,  0.5543006 ,  0.24301495,  0.13177307,\n",
            "        0.7371027 ,  1.5186855 , -0.7243141 ,  0.41669425,  1.0677704 ,\n",
            "       -0.27658087, -0.6423399 ,  0.29798794, -0.17469946,  0.6429598 ,\n",
            "       -1.2776965 , -1.1784981 ,  1.2481272 , -1.1091157 , -0.85885423,\n",
            "       -1.0529872 , -1.954227  , -0.25934792, -0.262034  ,  0.39679164,\n",
            "       -1.6609356 , -0.23157857, -0.07656004, -0.26805472, -0.1441545 ],\n",
            "      dtype=float32)>)\n",
            "time spent 0.5062081813812256\n",
            "tf.Tensor(False, shape=(), dtype=bool)\n",
            "[<tf.Tensor: shape=(), dtype=float32, numpy=1.3050747>, <tf.Tensor: shape=(), dtype=float32, numpy=1.3049412>]\n",
            "tf.Tensor(-8.110223e-05, shape=(), dtype=float32)\n",
            "[<tf.Tensor: shape=(40,), dtype=float32, numpy=\n",
            "array([1.305076 , 1.3049304, 1.3048859, 1.305059 , 1.3049603, 1.3050418,\n",
            "       1.3049767, 1.3049344, 1.304978 , 1.3050354, 1.3051494, 1.3049862,\n",
            "       1.3050175, 1.305085 , 1.3049788, 1.3050127, 1.3049409, 1.3049622,\n",
            "       1.3050747, 1.3049695, 1.3051199, 1.3049608, 1.305049 , 1.3049663,\n",
            "       1.305006 , 1.3050017, 1.3049449, 1.3049977, 1.3050532, 1.3050163,\n",
            "       1.3050072, 1.3050059, 1.3050148, 1.3049712, 1.3050942, 1.3049879,\n",
            "       1.3048784, 1.3050148, 1.3050184, 1.305016 ], dtype=float32)>, <tf.Tensor: shape=(40,), dtype=float32, numpy=\n",
            "array([1.3050326, 1.3051286, 1.3049891, 1.3049507, 1.3050697, 1.3050671,\n",
            "       1.3049338, 1.3050127, 1.304941 , 1.3048811, 1.3050156, 1.3050966,\n",
            "       1.3049728, 1.3049834, 1.3049109, 1.3049669, 1.3049657, 1.3049951,\n",
            "       1.3049412, 1.3049256, 1.3050443, 1.304913 , 1.3049579, 1.3049862,\n",
            "       1.3048857, 1.3050208, 1.3049804, 1.3049858, 1.3050377, 1.3050483,\n",
            "       1.3049848, 1.3050705, 1.3049437, 1.3050689, 1.3049884, 1.3049433,\n",
            "       1.305044 , 1.3050112, 1.3049884, 1.3049513], dtype=float32)>]\n",
            "tf.Tensor(-8.110223e-05, shape=(), dtype=float32)\n",
            "tf.Tensor(\n",
            "[-8.1102204e-05 -8.1102204e-05 -8.1102211e-05 -8.1102226e-05\n",
            " -8.1102218e-05 -8.1102226e-05 -8.1102218e-05 -8.1102218e-05\n",
            " -8.1102218e-05 -8.1102226e-05 -8.1102196e-05 -8.1102226e-05\n",
            " -8.1102211e-05 -8.1102226e-05 -8.1102211e-05 -8.1102211e-05\n",
            " -8.1102196e-05 -8.1102218e-05 -8.1102233e-05 -8.1102204e-05\n",
            " -8.1102211e-05 -8.1102218e-05 -8.1102218e-05 -8.1102211e-05\n",
            " -8.1102226e-05 -8.1102218e-05 -8.1102233e-05 -8.1102218e-05\n",
            " -8.1102204e-05 -8.1102211e-05 -8.1102218e-05 -8.1102218e-05\n",
            " -8.1102211e-05 -8.1102218e-05 -8.1102218e-05 -8.1102226e-05\n",
            " -8.1102226e-05 -8.1102226e-05 -8.1102218e-05 -8.1102218e-05], shape=(40,), dtype=float32)\n"
          ]
        }
      ]
    },
    {
      "cell_type": "code",
      "source": [
        "np.array(optim_results.position)"
      ],
      "metadata": {
        "id": "OCREEy_is5VT",
        "outputId": "9e56d203-da74-4f3a-907e-06e3bfee8401",
        "colab": {
          "base_uri": "https://localhost:8080/"
        }
      },
      "execution_count": 4,
      "outputs": [
        {
          "output_type": "execute_result",
          "data": {
            "text/plain": [
              "array([3.141433, 3.141627], dtype=float32)"
            ]
          },
          "metadata": {},
          "execution_count": 4
        }
      ]
    }
  ],
  "metadata": {
    "language_info": {
      "name": "python"
    },
    "orig_nbformat": 4,
    "colab": {
      "name": "first_implementations.ipynb",
      "provenance": [],
      "include_colab_link": true
    },
    "kernelspec": {
      "name": "python3",
      "display_name": "Python 3"
    },
    "gpuClass": "standard"
  },
  "nbformat": 4,
  "nbformat_minor": 0
}