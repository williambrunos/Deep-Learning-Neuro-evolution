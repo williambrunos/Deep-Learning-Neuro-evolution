{
  "cells": [
    {
      "cell_type": "markdown",
      "metadata": {
        "id": "view-in-github",
        "colab_type": "text"
      },
      "source": [
        "<a href=\"https://colab.research.google.com/github/williambrunos/Deep-Learning-Neuro-evolution/blob/main/First_Implementations/first_implementations.ipynb\" target=\"_parent\"><img src=\"https://colab.research.google.com/assets/colab-badge.svg\" alt=\"Open In Colab\"/></a>"
      ]
    },
    {
      "cell_type": "markdown",
      "metadata": {
        "id": "D4zAOEssmVe5"
      },
      "source": [
        "# First Implementations with tensorflow\n",
        "\n",
        "## Abstract\n",
        "\n",
        "This notebook tries to implement some neural netowork used to solve some problem and tries to evolve thw weights of it using neural evolution, implemented with [tensorflow](https://www.tensorflow.org/probability/api_docs/python/tfp/optimizer/differential_evolution_minimize)\n",
        "\n",
        "````Python\n",
        "tfp.optimizer.differential_evolution_minimize(\n",
        "    objective_function,\n",
        "    initial_population=None,\n",
        "    initial_position=None,\n",
        "    population_size=50,\n",
        "    population_stddev=1.0,\n",
        "    max_iterations=100,\n",
        "    func_tolerance=0,\n",
        "    position_tolerance=1e-08,\n",
        "    differential_weight=0.5,\n",
        "    crossover_prob=0.9,\n",
        "    seed=None,\n",
        "    name=None\n",
        ")\n",
        "````\n",
        "\n",
        "**obs**: if you read the documentation of this function, you'll see that the evolutionary algorithm will try to minimize the objective function, rather than maximize it. \n",
        "\n",
        "\"A candidate s_1 is considered better than s_2 if f(s_1) < f(s_2).\" - The function documentation"
      ]
    },
    {
      "cell_type": "code",
      "source": [
        "import tensorflow as tf\n",
        "import pandas as pd\n",
        "import numpy as np"
      ],
      "metadata": {
        "id": "x3i76T1am6Be"
      },
      "execution_count": 4,
      "outputs": []
    },
    {
      "cell_type": "code",
      "source": [
        "import tensorflow_probability as tfp"
      ],
      "metadata": {
        "id": "HoaqgEMkoKnI"
      },
      "execution_count": 7,
      "outputs": []
    },
    {
      "cell_type": "code",
      "source": [
        "population_size = 40\n",
        "# With an initial population and a multi-part state.\n",
        "initial_population = (tf.random.normal([population_size]),\n",
        "                        tf.random.normal([population_size]))\n",
        "def easom_fn(x, y):\n",
        "  return -(tf.math.cos(x) * tf.math.cos(y) *\n",
        "             tf.math.exp(-(x-np.pi)**2 - (y-np.pi)**2))\n",
        "\n",
        "optim_results = tfp.optimizer.differential_evolution_minimize(\n",
        "    easom_fn,\n",
        "    initial_population=initial_population,\n",
        "    max_iterations=50,\n",
        "    seed=43210)\n",
        "\n",
        "print(optim_results.converged)\n",
        "print(optim_results.position)  # Should be (close to) [pi, pi].\n",
        "print(optim_results.objective_value)    # Should be -1.\n",
        "print(optim_results.final_population) # final population\n",
        "print(optim_results.objective_value) # final value of objective fun. on the final position\n",
        "print(optim_results.final_objective_values)\n",
        "\n",
        "# With a single starting point\n",
        "initial_position = (tf.constant(1.0), tf.constant(1.0))\n",
        "\n",
        "optim_results = tfp.optimizer.differential_evolution_minimize(\n",
        "    easom_fn,\n",
        "    initial_position=initial_position,\n",
        "    population_size=40,\n",
        "    population_stddev=2.0,\n",
        "    seed=43210)\n",
        "\n",
        "\"\"\"\n",
        "A real Tensor of any shape. The seed solution used to initialize the population of solutions. If this parameter is specified then initial_population must not be specified.\n",
        "\"\"\""
      ],
      "metadata": {
        "id": "y8HKshPVssqX",
        "outputId": "a4cccb4a-e647-4cc3-8d0e-b97fc67bde37",
        "colab": {
          "base_uri": "https://localhost:8080/",
          "height": 556
        }
      },
      "execution_count": 18,
      "outputs": [
        {
          "output_type": "stream",
          "name": "stdout",
          "text": [
            "tf.Tensor(False, shape=(), dtype=bool)\n",
            "[<tf.Tensor: shape=(), dtype=float32, numpy=1.3049982>, <tf.Tensor: shape=(), dtype=float32, numpy=1.3049858>]\n",
            "tf.Tensor(-8.110225e-05, shape=(), dtype=float32)\n",
            "[<tf.Tensor: shape=(40,), dtype=float32, numpy=\n",
            "array([1.304923 , 1.3048488, 1.305006 , 1.3050697, 1.304935 , 1.3049966,\n",
            "       1.3050647, 1.3049982, 1.3049098, 1.3049395, 1.305081 , 1.3048955,\n",
            "       1.3050886, 1.3051233, 1.3048406, 1.3049976, 1.3049233, 1.3048828,\n",
            "       1.3048644, 1.3049314, 1.3049678, 1.3050447, 1.3048974, 1.3050356,\n",
            "       1.3048602, 1.305109 , 1.3051052, 1.3049057, 1.304926 , 1.305162 ,\n",
            "       1.3049338, 1.3049052, 1.3049569, 1.3051031, 1.3049951, 1.304913 ,\n",
            "       1.3050461, 1.3049512, 1.3050075, 1.3048885], dtype=float32)>, <tf.Tensor: shape=(40,), dtype=float32, numpy=\n",
            "array([1.3050191, 1.3049475, 1.3050473, 1.3049636, 1.3050191, 1.304862 ,\n",
            "       1.3050528, 1.3049858, 1.3049417, 1.3049017, 1.3049157, 1.3049911,\n",
            "       1.3049556, 1.3049157, 1.3049328, 1.3049623, 1.3050202, 1.3049383,\n",
            "       1.3049388, 1.3049368, 1.3049328, 1.3050613, 1.3048975, 1.3049586,\n",
            "       1.305123 , 1.3049359, 1.3049   , 1.3049312, 1.3049297, 1.3050723,\n",
            "       1.3051987, 1.304928 , 1.3049413, 1.3048791, 1.3050071, 1.3049238,\n",
            "       1.3049195, 1.3049487, 1.3050284, 1.3050158], dtype=float32)>]\n",
            "tf.Tensor(-8.110225e-05, shape=(), dtype=float32)\n",
            "tf.Tensor(\n",
            "[-8.1102211e-05 -8.1102204e-05 -8.1102218e-05 -8.1102226e-05\n",
            " -8.1102211e-05 -8.1102189e-05 -8.1102218e-05 -8.1102247e-05\n",
            " -8.1102204e-05 -8.1102196e-05 -8.1102211e-05 -8.1102204e-05\n",
            " -8.1102204e-05 -8.1102211e-05 -8.1102218e-05 -8.1102211e-05\n",
            " -8.1102211e-05 -8.1102211e-05 -8.1102196e-05 -8.1102211e-05\n",
            " -8.1102204e-05 -8.1102211e-05 -8.1102211e-05 -8.1102204e-05\n",
            " -8.1102204e-05 -8.1102218e-05 -8.1102211e-05 -8.1102196e-05\n",
            " -8.1102204e-05 -8.1102196e-05 -8.1102211e-05 -8.1102218e-05\n",
            " -8.1102211e-05 -8.1102211e-05 -8.1102226e-05 -8.1102196e-05\n",
            " -8.1102211e-05 -8.1102211e-05 -8.1102211e-05 -8.1102196e-05], shape=(40,), dtype=float32)\n"
          ]
        },
        {
          "output_type": "execute_result",
          "data": {
            "text/plain": [
              "'\\nA real Tensor of any shape. The seed solution used to initialize the population of solutions. If this parameter is specified then initial_population must not be specified.\\n'"
            ],
            "application/vnd.google.colaboratory.intrinsic+json": {
              "type": "string"
            }
          },
          "metadata": {},
          "execution_count": 18
        }
      ]
    },
    {
      "cell_type": "code",
      "source": [
        "np.array(optim_results.position)"
      ],
      "metadata": {
        "id": "OCREEy_is5VT",
        "outputId": "242cd181-2934-44af-858e-ca192078d257",
        "colab": {
          "base_uri": "https://localhost:8080/"
        }
      },
      "execution_count": 11,
      "outputs": [
        {
          "output_type": "execute_result",
          "data": {
            "text/plain": [
              "array([3.1416764, 3.1414824], dtype=float32)"
            ]
          },
          "metadata": {},
          "execution_count": 11
        }
      ]
    }
  ],
  "metadata": {
    "language_info": {
      "name": "python"
    },
    "orig_nbformat": 4,
    "colab": {
      "name": "first_implementations.ipynb",
      "provenance": [],
      "include_colab_link": true
    },
    "kernelspec": {
      "name": "python3",
      "display_name": "Python 3"
    },
    "gpuClass": "standard"
  },
  "nbformat": 4,
  "nbformat_minor": 0
}